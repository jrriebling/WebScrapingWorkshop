{
 "cells": [
  {
   "cell_type": "markdown",
   "metadata": {
    "slideshow": {
     "slide_type": "slide"
    }
   },
   "source": [
    "**Web Scraping und Data Mining in Python**\n",
    "\n",
    "# Funktionen und Klassen\n",
    "\n",
    "Jan Riebling, *University Wuppertal*"
   ]
  },
  {
   "cell_type": "markdown",
   "metadata": {
    "slideshow": {
     "slide_type": "slide"
    }
   },
   "source": [
    "# Funktionen"
   ]
  },
  {
   "cell_type": "markdown",
   "metadata": {
    "slideshow": {
     "slide_type": "subslide"
    }
   },
   "source": [
    "## Funktionales Paradigma\n",
    "\n",
    "* Aufbauend auf dem Lambda-Kalkül.\n",
    "* Funktionen nehmen einen oder mehrere Parameter auf (*function call*) und produzieren eine Ausgabe.\n",
    "* In einem strng funktionalen Paradigma haben Funktionen keine Nebenwirkungen, d.h. sie verändern keine internen Zustände von Objekten (*stateless*)."
   ]
  },
  {
   "cell_type": "markdown",
   "metadata": {
    "slideshow": {
     "slide_type": "subslide"
    }
   },
   "source": [
    "## $\\lambda$"
   ]
  },
  {
   "cell_type": "code",
   "execution_count": 8,
   "metadata": {},
   "outputs": [
    {
     "data": {
      "text/plain": [
       "[2, 3, 4]"
      ]
     },
     "execution_count": 8,
     "metadata": {},
     "output_type": "execute_result"
    }
   ],
   "source": [
    "data = []\n",
    "for i in [1, 2, 3]:\n",
    "    j = i + 1\n",
    "    data.append(j)\n",
    "    \n",
    "data"
   ]
  },
  {
   "cell_type": "code",
   "execution_count": 5,
   "metadata": {},
   "outputs": [
    {
     "data": {
      "text/plain": [
       "<function __main__.<lambda>(x)>"
      ]
     },
     "execution_count": 5,
     "metadata": {},
     "output_type": "execute_result"
    }
   ],
   "source": [
    "lambda x: x + 1"
   ]
  },
  {
   "cell_type": "markdown",
   "metadata": {
    "slideshow": {
     "slide_type": "subslide"
    }
   },
   "source": [
    "## Funktionen in Python\n",
    "\n",
    "Siehe: Python Docs [4.7 Defining Functions](https://docs.python.org/3/tutorial/controlflow.html#defining-functions) und [4.8 More on Defining Functions](https://docs.python.org/3/tutorial/controlflow.html#more-on-defining-functions).\n",
    "\n",
    "* Bestehen aus der Form: `name(arguments)`. \n",
    "* Geben ein neues Objekt zurück.\n",
    "* Liste der [Standardfunktionen](https://docs.python.org/3/library/functions.html)."
   ]
  },
  {
   "cell_type": "markdown",
   "metadata": {
    "slideshow": {
     "slide_type": "subslide"
    }
   },
   "source": [
    "## Funktionen definieren\n",
    " \n",
    "Funktionen werden mittels des `def` Statements in der folgenden Form definiert:\n",
    "\n",
    "```python\n",
    "def name(posarg1, posarg2, keyarg=default):\n",
    "    \"\"\"Documentation\"\"\"\n",
    "    ...\n",
    "    return something\n",
    "```"
   ]
  },
  {
   "cell_type": "markdown",
   "metadata": {
    "slideshow": {
     "slide_type": "subslide"
    }
   },
   "source": [
    "## Beispiel"
   ]
  },
  {
   "cell_type": "code",
   "execution_count": 10,
   "metadata": {},
   "outputs": [
    {
     "data": {
      "text/plain": [
       "10"
      ]
     },
     "execution_count": 10,
     "metadata": {},
     "output_type": "execute_result"
    }
   ],
   "source": [
    "def add_n(i, n=1):\n",
    "    \"\"\"Takes an integer and adds another integer n to it.\n",
    "    By default n is 1. --> int\"\"\"\n",
    "    j = i + n\n",
    "    return j\n",
    "\n",
    "add_n(6, 4)"
   ]
  },
  {
   "cell_type": "markdown",
   "metadata": {
    "slideshow": {
     "slide_type": "slide"
    }
   },
   "source": [
    "# Klassen"
   ]
  },
  {
   "cell_type": "markdown",
   "metadata": {
    "slideshow": {
     "slide_type": "subslide"
    }
   },
   "source": [
    "## Objektorientiertes Paradigma\n",
    "\n",
    "* Angelehnt an die Turing Maschine.\n",
    "* Abstrakte Klassen definieren die Eigenschaften (Attribute) von Objekten.\n",
    "* *Methoden* welche den inneren Zustand der Objekte verändert sind teil der Klassendefinition.\n",
    "* Eine konkrete Realisation einer abstrakten Klasse nennt man eine *Instanz*."
   ]
  },
  {
   "cell_type": "markdown",
   "metadata": {
    "slideshow": {
     "slide_type": "subslide"
    }
   },
   "source": [
    "## Klassen in Python\n",
    "\n",
    "Klassen werden mittels des `class` Statements in der folgenden Form definiert:\n",
    "\n",
    "```python\n",
    "class Name:\n",
    "    \"\"\"Documentation\"\"\"\n",
    "    <statement 1>\n",
    "    ...\n",
    "    <statement n>\n",
    "```"
   ]
  },
  {
   "cell_type": "code",
   "execution_count": 21,
   "metadata": {
    "slideshow": {
     "slide_type": "subslide"
    }
   },
   "outputs": [],
   "source": [
    "class Complex:\n",
    "    \"\"\"Constructs a complex number when provided with a real and imaginary part.\"\"\"\n",
    "    def __init__(self, realpart, imagpart):\n",
    "        self.r = realpart\n",
    "        self.i = imagpart\n",
    "        \n",
    "    def __add__(self, other):\n",
    "        \"\"\"Adds two instances of Complex together.\"\"\"\n",
    "        return Complex(self.r + other.r, self.i + other.i)"
   ]
  },
  {
   "cell_type": "code",
   "execution_count": 18,
   "metadata": {
    "slideshow": {
     "slide_type": "subslide"
    }
   },
   "outputs": [
    {
     "name": "stdout",
     "output_type": "stream",
     "text": [
      "9 -2.5\n"
     ]
    }
   ],
   "source": [
    "a = Complex(8, -4.5)\n",
    "b = Complex(1, 2)\n",
    "\n",
    "c = a + b\n",
    "\n",
    "print(c.r, c.i)"
   ]
  },
  {
   "cell_type": "code",
   "execution_count": 20,
   "metadata": {},
   "outputs": [
    {
     "data": {
      "text/plain": [
       "(9-2.5j)"
      ]
     },
     "execution_count": 20,
     "metadata": {},
     "output_type": "execute_result"
    }
   ],
   "source": [
    "complex(8, -4.5) + complex(1, 2)"
   ]
  },
  {
   "cell_type": "markdown",
   "metadata": {
    "slideshow": {
     "slide_type": "subslide"
    }
   },
   "source": [
    "## Methoden\n",
    "\n",
    "* Sind an die Objekte gebunden.\n",
    "* Aufruf einer Methode verändert das Objekt.\n",
    "* Syntax: `object.method(args)`."
   ]
  },
  {
   "cell_type": "markdown",
   "metadata": {
    "slideshow": {
     "slide_type": "subslide"
    }
   },
   "source": [
    "## Beispiel Listenobjekte\n",
    "\n",
    "* `L.sort()`: Anweisung an eine Liste sich selbst zu sortieren.\n",
    "* `L.append(object)`: Fügt Elemente an eine Liste an.\n",
    "* `L.extend(iterable)`: Verlängert die Liste um die in iterable enthaltenen Elemente. "
   ]
  }
 ],
 "metadata": {
  "celltoolbar": "Slideshow",
  "kernelspec": {
   "display_name": "Python 3 (ipykernel)",
   "language": "python",
   "name": "python3"
  },
  "language_info": {
   "codemirror_mode": {
    "name": "ipython",
    "version": 3
   },
   "file_extension": ".py",
   "mimetype": "text/x-python",
   "name": "python",
   "nbconvert_exporter": "python",
   "pygments_lexer": "ipython3",
   "version": "3.10.2"
  }
 },
 "nbformat": 4,
 "nbformat_minor": 1
}
