{
 "cells": [
  {
   "cell_type": "markdown",
   "metadata": {
    "slideshow": {
     "slide_type": "slide"
    }
   },
   "source": [
    "**Web Scraping und Data Mining in Python**\n",
    "\n",
    "\n",
    "# Reguläre Ausdrücke\n",
    "\n",
    "Jan Riebling, *Universität Wuppertal*"
   ]
  },
  {
   "cell_type": "markdown",
   "metadata": {
    "slideshow": {
     "slide_type": "slide"
    }
   },
   "source": [
    "# RegEx\n",
    "\n",
    "> Some people, when confronted with a problem, think “I know, I'll use regular expressions.” Now they have two problems.\n",
    "\n",
    "> *Jamie Zawinski* \t # Reguläre Ausdrücke"
   ]
  },
  {
   "cell_type": "markdown",
   "metadata": {
    "slideshow": {
     "slide_type": "subslide"
    }
   },
   "source": [
    "## Reguläre Ausdrücke\n",
    "\n",
    "Spezifizieren eine Auswahl aus einem endlichen Zeichenvorrat (Alphabet) $\\Sigma$. Im Prinzip handelt es sich um eine sehr elgante Art Teile von Zeichenketten auszuwählen.\n",
    "\n",
    "Sie stehen in fast allen Betriebssystemen und Programmiersprachen zur Verfügung (siehe [hier](https://www.regular-expressions.info/))."
   ]
  },
  {
   "cell_type": "markdown",
   "metadata": {
    "slideshow": {
     "slide_type": "subslide"
    }
   },
   "source": [
    "## Formale Definition\n",
    "\n",
    "Wenn $x$ und $y$ reguläre Ausdrücke sind, dann sind:\n",
    "\n",
    "2. Verkettung: $(xy)$\n",
    "1. Alternative: $(x|y)$\n",
    "3. Wiederholung (Kleene-Stern): $(x^*)$\n",
    "\n",
    "ebenfalls valide, reguläre Ausdrücke."
   ]
  },
  {
   "cell_type": "markdown",
   "metadata": {
    "slideshow": {
     "slide_type": "subslide"
    }
   },
   "source": [
    "## `re`\n",
    "\n",
    "Pythons [Modul](https://docs.python.org/3/library/re.html) für reguläre Ausdrücke. Kann sowohl als Methode, als auch als Funktion gerufen werden. Es empfiehlt sich reguläre Muster als *raw string* zu schreiben (`r''`). In einem raw string werden backslashes als normale Zeichen aufgefasst und verlieren ihre Sonderfunktion.\n",
    "\n",
    "Tutorials und zusätzliche Infos:\n",
    "\n",
    "* [PyDocs RegEx HowTo](https://docs.python.org/3/howto/regex.html)\n",
    "* [Online RegEx-Tester](https://regexr.com/)"
   ]
  },
  {
   "cell_type": "code",
   "execution_count": null,
   "metadata": {
    "slideshow": {
     "slide_type": "-"
    }
   },
   "outputs": [],
   "source": [
    "import re"
   ]
  },
  {
   "cell_type": "markdown",
   "metadata": {
    "slideshow": {
     "slide_type": "subslide"
    }
   },
   "source": [
    "## Funktion\n",
    "\n",
    "* Pattern als Argument der Funktion:\n",
    "    * `match = re.match(pattern, string)`\n",
    "    * `match = re.search(pattern, string)`\n",
    "* Treffer durch string substitution ausgeben:\n",
    "    * `match.group()`"
   ]
  },
  {
   "cell_type": "code",
   "execution_count": null,
   "metadata": {
    "slideshow": {
     "slide_type": "subslide"
    }
   },
   "outputs": [],
   "source": [
    "## As a function call:\n",
    "print(re.match(r'am', 'Spam, Eggs and Bacon'))  # Matches only at the beginning of the string.\n",
    "print(re.search(r'am', 'Spam, Eggs and Bacon')) # Matches first occurence."
   ]
  },
  {
   "cell_type": "code",
   "execution_count": null,
   "metadata": {
    "slideshow": {
     "slide_type": "subslide"
    }
   },
   "outputs": [],
   "source": [
    "## Returns either match-object or None\n",
    "## To find the matched string:\n",
    "match = re.search(r'am', 'Spam, Eggs and Bacon')\n",
    "print(match.group())"
   ]
  },
  {
   "cell_type": "markdown",
   "metadata": {
    "slideshow": {
     "slide_type": "subslide"
    }
   },
   "source": [
    "## Methode\n",
    "\n",
    "* Gewünschtes Muster als RegEx Objekt initialisieren:\n",
    "    * `regex = re.compile(pattern)`\n",
    "* RegEx Objekt gegen String prüfen:\n",
    "    * `match = regex.match(string)`\n",
    "    * `match = regex.search(string)`\n",
    "* Treffer durch string substitution ausgeben:\n",
    "    * `match.group()`"
   ]
  },
  {
   "cell_type": "code",
   "execution_count": null,
   "metadata": {
    "slideshow": {
     "slide_type": "subslide"
    }
   },
   "outputs": [],
   "source": [
    "## As an instance of a re-object:\n",
    "pattern = re.compile(r'a')\n",
    "\n",
    "print(pattern.search('Spam, Eggs and Bacon'))\n",
    "print(pattern.search('Spam, Eggs and Bacon').group())"
   ]
  },
  {
   "cell_type": "markdown",
   "metadata": {
    "slideshow": {
     "slide_type": "subslide"
    }
   },
   "source": [
    "## Spezialisierte Funktionen\n",
    "\n",
    "Dokumentation [hier](https://docs.python.org/3/library/re.html#module-contents).\n",
    "\n",
    "`re.findall(pattern, string, flags=0)`: Gibt eine Liste mit allen Vorkommnissen von `pattern` in `string` zurück.\n",
    "\n",
    "`re.sub(pattern, repl, string, count=0, flags=0)`: Ersetzt alle Vorkommnisse von `pattern` in `string` mit `repl`.\n",
    "\n",
    "`re.split(pattern, string, maxsplit=0, flags=0)`: Teilt `string` entlang `pattern` auf."
   ]
  },
  {
   "cell_type": "markdown",
   "metadata": {
    "slideshow": {
     "slide_type": "subslide"
    }
   },
   "source": [
    "## Verkettung\n",
    "\n",
    "Reguläre Ausdrücke können miteinander konkateniert werden. D.h. sie können in Form einer Sequenz aufgeschrieben werden und werden auch genau in dieser Reihenfolge verarbeitet."
   ]
  },
  {
   "cell_type": "code",
   "execution_count": null,
   "metadata": {
    "slideshow": {
     "slide_type": ""
    }
   },
   "outputs": [],
   "source": [
    "print(re.findall(r'a', 'Spam, Eggs and Bacon'))"
   ]
  },
  {
   "cell_type": "markdown",
   "metadata": {
    "slideshow": {
     "slide_type": "subslide"
    }
   },
   "source": [
    "## Alternative\n",
    "\n",
    "Reguläre Ausdrücke lassen ein einfaches \"oder\" zu, damit wird an der entsprechenden Stelle zwischen mehreren Alternativen unterschieden."
   ]
  },
  {
   "cell_type": "code",
   "execution_count": null,
   "metadata": {},
   "outputs": [],
   "source": [
    "re.findall(r'm|a', 'Spam, Eggs and Bacon')"
   ]
  },
  {
   "cell_type": "markdown",
   "metadata": {
    "slideshow": {
     "slide_type": "subslide"
    }
   },
   "source": [
    "## Wiederholungen\n",
    "Spezifiziert Anzahl der Wiederholungen des vorangegangenen regulären Ausdrucks $x$. Folgende Wiederholungen sind möglich:\n",
    "\n",
    "Syntax | Bedeutung\n",
    "-|-\n",
    "`*` | 0 oder mehr Wiederholungen\n",
    "`+` | 1 oder mehr Wiederholungen\n",
    "`{m}` | Genau `m` Wiederholungen\n",
    "`{m,n}` | Von `m` bis einschließlich `n`\n",
    "`?` | 0 bis 1 Wiederholungen; Schaltet greedy ab.\n",
    "\n",
    "Die Wiederholungen sind standardmäßig *greedy*, d.h. es wird soviel vom String verbraucht, wie möglich. Dieses Verhalten kann abgeschaltet werden, indem ein `?` nach der Wiederholung gesetzt wird."
   ]
  },
  {
   "cell_type": "code",
   "execution_count": null,
   "metadata": {
    "slideshow": {
     "slide_type": "subslide"
    }
   },
   "outputs": [],
   "source": [
    "re.findall(r'g+', 'Spam, Eggs and Bacon')"
   ]
  },
  {
   "cell_type": "markdown",
   "metadata": {
    "slideshow": {
     "slide_type": "subslide"
    }
   },
   "source": [
    "## Sonderzeichen\n",
    "\n",
    "Folgende Zeichen haben besondere Bedeutungen in regulären Ausdrücken:\n",
    "\n",
    "Zeichen | Bedeutung\n",
    "-|-\n",
    "`.`| Beliebiges Zeichen. Mit `DOTALL` auch die Newline (`\\n`).\n",
    "`^`| Anfang eines Strings. Wenn `MULTILINE`, dann auch nach jedem `\\n`.\n",
    "`$`| Ende des Strings. Wenn `MULTILINE`, dann auch vor jedem `\\n`.\n",
    "`\\`| Escape für Sonderzeichen oder bezeichnet eine bestimmte Menge von Zeichen.\n",
    "`[]`| Definiert eine Menge von Zeichen.\n",
    "`()`| Definiert den Scope, d.h. legt Gruppen fest.  "
   ]
  },
  {
   "cell_type": "code",
   "execution_count": null,
   "metadata": {
    "slideshow": {
     "slide_type": "-"
    }
   },
   "outputs": [],
   "source": [
    "## .* is always greed!\n",
    "print(re.sub(r'<.*>', '', '<p>text</p>'))"
   ]
  },
  {
   "cell_type": "markdown",
   "metadata": {
    "slideshow": {
     "slide_type": "subslide"
    }
   },
   "source": [
    "## Übung: Kreuzworträtsel\n",
    "\n",
    "Identifizieren sie folgende Worte im Text:\n",
    "\n",
    "1. Das erste Wort mit 5 Zeichen Länge und einem 'm' in der Mitte.\n",
    "2. Alle die mit einem 'f' beginnen und mit einem 'l' enden sowie 8 Zeichen lang sind.\n",
    "3. Alle die 5 Zeichen lang sind und mit einem 'b', 'w' oder 'p' beginnen.\n",
    "\n",
    "Hinweis: Wortgrenzen werden in RegEx (PCRE) als `\\b` angegeben. "
   ]
  },
  {
   "cell_type": "code",
   "execution_count": null,
   "metadata": {
    "slideshow": {
     "slide_type": ""
    }
   },
   "outputs": [],
   "source": [
    "print(re.findall(r'', 'Spam, Eggs and Bacon', flags=re.DOTALL))"
   ]
  },
  {
   "cell_type": "markdown",
   "metadata": {
    "slideshow": {
     "slide_type": "subslide"
    }
   },
   "source": [
    "## Spezifizierung von Gruppen\n",
    "\n",
    "Syntax | Äquivalent | Bedeutung\n",
    "-|-|-\n",
    "`\\d` | `[0-9]` | Ganze Zahlen\n",
    "`\\D` | `[^0-9]` | Alles was keine Zahl ist\n",
    "`\\s` | `[ \\t\\n\\r\\f\\v]` | Alles was whitespace ist \n",
    "`\\S` | `[^ \\t\\n\\r\\f\\v] ` | Alles was nicht whitespace ist\n",
    "`\\w` | `[a-zA-Z0-9_]` | Alphanumerische Zeichen und Unterstrich\n",
    "`\\W` | `[^a-zA-Z0-9_]` | Kein alphanumerische Zeichen oder Unterstrich"
   ]
  },
  {
   "cell_type": "markdown",
   "metadata": {
    "slideshow": {
     "slide_type": "subslide"
    }
   },
   "source": [
    "## Übung: Tokenisieren\n",
    "\n",
    "Alle alphanumerischen Worte ohne Sonderzeichen finden."
   ]
  },
  {
   "cell_type": "code",
   "execution_count": null,
   "metadata": {
    "slideshow": {
     "slide_type": ""
    }
   },
   "outputs": [],
   "source": [
    "dennis = 'DENNIS: Listen, strange women lying in ponds \\\n",
    "distributing swords is no basis for a system of government. \\\n",
    "Supreme executive power derives from a mandate from the \\\n",
    "masses, not from some farcical aquatic ceremony.'\n",
    "\n",
    "re.findall(r'', dennis)"
   ]
  },
  {
   "cell_type": "markdown",
   "metadata": {
    "slideshow": {
     "slide_type": "subslide"
    }
   },
   "source": [
    "## Prüfung\n",
    "\n",
    "Neben der oder-Prüfung können noch weitere logische Prüfungen durchgeführt werden. Dies kann nur in *Scopes* geschehen und wird mit einem `?` eingeleitet. Grundlegende Syntax: `(?`...`)`\n",
    "\n",
    "Syntax | Bedeutung\n",
    "-|-\n",
    "`(?:`...`)` | Substring wird geprüft, aber nicht extrahiert\n",
    "`(?=`...`)` | Prüft nächsten Substring; *positive lookahead*\n",
    "`(?!`...`)` | *negative lookahead*\n",
    "`(?<=`...`)` | *positive lookbehind*\n",
    "`(?<!`...`)` | *negative lookbehind*"
   ]
  },
  {
   "cell_type": "markdown",
   "metadata": {
    "slideshow": {
     "slide_type": "subslide"
    }
   },
   "source": [
    "## Übung: Verlaufsform finden\n",
    "\n",
    "Nutzen sie Prüfungen um Worte mit englischer Verlaufsform zu finden (-ing)."
   ]
  },
  {
   "cell_type": "code",
   "execution_count": null,
   "metadata": {},
   "outputs": [],
   "source": [
    "re.findall(r'', dennis)"
   ]
  },
  {
   "cell_type": "markdown",
   "metadata": {
    "slideshow": {
     "slide_type": "subslide"
    }
   },
   "source": [
    "## Ersetzungen im String\n",
    "\n",
    "Mit der Funktion `re.sub()` können Ersetzungen in einem String durchgeführt werden. Hiermit sind sehr weitreichende Möglichkeiten der Textmanipulation möglich."
   ]
  },
  {
   "cell_type": "code",
   "execution_count": null,
   "metadata": {},
   "outputs": [],
   "source": [
    "bsp = \"\"\"Ersetzen sie bei allen Zitaten die eckigen Klammern ([]) \n",
    "mit runden Klammern. \n",
    "Spezifisch bei Blabla [2010] aber auch bei anderen [z.B.: Foobaz 2009, 17].\n",
    "\"\"\"\n",
    "\n",
    "re.sub(r'', r'', bsp)"
   ]
  },
  {
   "cell_type": "markdown",
   "metadata": {
    "slideshow": {
     "slide_type": "subslide"
    }
   },
   "source": [
    "![Regular Expression](https://imgs.xkcd.com/comics/regular_expressions.png)\n",
    "\n",
    "Und [deshalb](http://www.ex-parrot.com/~pdw/Mail-RFC822-Address.html) ist es hoffnungslos. "
   ]
  }
 ],
 "metadata": {
  "celltoolbar": "Slideshow",
  "kernelspec": {
   "display_name": "Python 3 (ipykernel)",
   "language": "python",
   "name": "python3"
  },
  "language_info": {
   "codemirror_mode": {
    "name": "ipython",
    "version": 3
   },
   "file_extension": ".py",
   "mimetype": "text/x-python",
   "name": "python",
   "nbconvert_exporter": "python",
   "pygments_lexer": "ipython3",
   "version": "3.10.2"
  }
 },
 "nbformat": 4,
 "nbformat_minor": 1
}
