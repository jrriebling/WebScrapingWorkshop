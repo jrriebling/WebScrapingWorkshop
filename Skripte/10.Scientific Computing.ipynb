{
 "cells": [
  {
   "cell_type": "markdown",
   "id": "7cd69b6b",
   "metadata": {
    "slideshow": {
     "slide_type": "slide"
    }
   },
   "source": [
    "**Web Scraping und Data Mining in Python**\n",
    "\n",
    "# Scientific Computing in Python\n",
    "\n",
    "Jan Riebling, *University Wuppertal*"
   ]
  },
  {
   "cell_type": "markdown",
   "id": "51c8b591",
   "metadata": {
    "slideshow": {
     "slide_type": "slide"
    }
   },
   "source": [
    "# Allgemein"
   ]
  },
  {
   "cell_type": "markdown",
   "id": "145e7095",
   "metadata": {
    "slideshow": {
     "slide_type": "subslide"
    }
   },
   "source": [
    "## Kein Statistikprogramm\n",
    "\n",
    "* Python ist als allgemeine Programmiersprache konzipiert.\n",
    "* Zusatzbibliotheken stellen meist breite Lösungsansätze dar.\n",
    "* Spezifische Lösungen müssen selbst implementiert werden."
   ]
  },
  {
   "cell_type": "markdown",
   "id": "7296666d",
   "metadata": {
    "slideshow": {
     "slide_type": "slide"
    }
   },
   "source": [
    "# Bibliotheken"
   ]
  },
  {
   "cell_type": "markdown",
   "id": "6cd03ad1",
   "metadata": {
    "slideshow": {
     "slide_type": "subslide"
    }
   },
   "source": [
    "## SciPy\n",
    "\n",
    "Projekt Webseite: [https://scipy.org](https://scipy.org).\n",
    "\n",
    "* Sammlung von Open-Source Funktionen für mathematische und statistische Funktionen.\n",
    "* Fokus auf linearer Algebra.\n",
    "* Wrapper für optimierte Funktionen in low-level Sprachen (z.B. FORTRAN, C, etc.)"
   ]
  },
  {
   "cell_type": "code",
   "execution_count": 2,
   "id": "1645d108",
   "metadata": {
    "slideshow": {
     "slide_type": "subslide"
    }
   },
   "outputs": [
    {
     "data": {
      "text/plain": [
       "2.7764451051977987"
      ]
     },
     "execution_count": 2,
     "metadata": {},
     "output_type": "execute_result"
    }
   ],
   "source": [
    "from scipy.stats import t\n",
    "\n",
    "t.ppf((1 + 0.95) / 2, df=4)"
   ]
  },
  {
   "cell_type": "markdown",
   "id": "cdc47360",
   "metadata": {
    "slideshow": {
     "slide_type": "subslide"
    }
   },
   "source": [
    "## statsmodels\n",
    "\n",
    "Projekt Webseite: [https://www.statsmodels.org/stable/index.html](https://www.statsmodels.org/stable/index.html).\n",
    "\n",
    "* Statistische Modelle für Python.\n",
    "* Bedienung orientiert sich an R's Formelsprache.\n",
    "* Gute Integration in den Rest der Infrastruktur."
   ]
  },
  {
   "cell_type": "code",
   "execution_count": null,
   "id": "e5f3c4bf",
   "metadata": {
    "slideshow": {
     "slide_type": "subslide"
    }
   },
   "outputs": [],
   "source": [
    "import numpy as np\n",
    "import statsmodels.api as sm\n",
    "import statsmodels.formula.api as smf\n",
    "\n",
    "dat = sm.datasets.get_rdataset(\"Guerry\", \"HistData\").data\n",
    "\n",
    "results = smf.ols('Lottery ~ Literacy + np.log(Pop1831)', data=dat).fit()"
   ]
  },
  {
   "cell_type": "code",
   "execution_count": 4,
   "id": "1906db78",
   "metadata": {
    "slideshow": {
     "slide_type": "subslide"
    }
   },
   "outputs": [
    {
     "name": "stdout",
     "output_type": "stream",
     "text": [
      "                            OLS Regression Results                            \n",
      "==============================================================================\n",
      "Dep. Variable:                Lottery   R-squared:                       0.348\n",
      "Model:                            OLS   Adj. R-squared:                  0.333\n",
      "Method:                 Least Squares   F-statistic:                     22.20\n",
      "Date:                Sun, 13 Mar 2022   Prob (F-statistic):           1.90e-08\n",
      "Time:                        17:38:11   Log-Likelihood:                -379.82\n",
      "No. Observations:                  86   AIC:                             765.6\n",
      "Df Residuals:                      83   BIC:                             773.0\n",
      "Df Model:                           2                                         \n",
      "Covariance Type:            nonrobust                                         \n",
      "===================================================================================\n",
      "                      coef    std err          t      P>|t|      [0.025      0.975]\n",
      "-----------------------------------------------------------------------------------\n",
      "Intercept         246.4341     35.233      6.995      0.000     176.358     316.510\n",
      "Literacy           -0.4889      0.128     -3.832      0.000      -0.743      -0.235\n",
      "np.log(Pop1831)   -31.3114      5.977     -5.239      0.000     -43.199     -19.424\n",
      "==============================================================================\n",
      "Omnibus:                        3.713   Durbin-Watson:                   2.019\n",
      "Prob(Omnibus):                  0.156   Jarque-Bera (JB):                3.394\n",
      "Skew:                          -0.487   Prob(JB):                        0.183\n",
      "Kurtosis:                       3.003   Cond. No.                         702.\n",
      "==============================================================================\n",
      "\n",
      "Notes:\n",
      "[1] Standard Errors assume that the covariance matrix of the errors is correctly specified.\n"
     ]
    }
   ],
   "source": [
    "print(results.summary())"
   ]
  },
  {
   "cell_type": "markdown",
   "id": "b90dd252",
   "metadata": {
    "slideshow": {
     "slide_type": "subslide"
    }
   },
   "source": [
    "## Matplotlib\n",
    "\n",
    "Projekt Webseite: [https://matplotlib.org/](https://matplotlib.org/)\n",
    "\n",
    "* Visualisierung und Plotting.\n",
    "* Hat native Integration mit IPython.\n",
    "* Steile Lernkurve und viele Möglichkeiten.\n",
    "* Alternative für Standardplots sind Matplotlib wrapper in Pandas und [Seaborn](https://seaborn.pydata.org/)."
   ]
  },
  {
   "cell_type": "code",
   "execution_count": 6,
   "id": "ad306796",
   "metadata": {
    "slideshow": {
     "slide_type": "subslide"
    }
   },
   "outputs": [
    {
     "data": {
      "image/png": "[encoded data removed]",
      "text/plain": [
       "<Figure size 432x288 with 1 Axes>"
      ]
     },
     "metadata": {
      "needs_background": "light"
     },
     "output_type": "display_data"
    }
   ],
   "source": [
    "import numpy as np\n",
    "import matplotlib.pyplot as plt\n",
    "\n",
    "x = np.linspace(0, 10, 100)\n",
    "y = np.sin(x)\n",
    "\n",
    "plt.plot(x, y);"
   ]
  },
  {
   "cell_type": "markdown",
   "id": "450a01c8",
   "metadata": {
    "slideshow": {
     "slide_type": "subslide"
    }
   },
   "source": [
    "## SymPy\n",
    "\n",
    "Projekt Webseite: [https://www.sympy.org/en/index.html](https://www.sympy.org/en/index.html)\n",
    "\n",
    "* Bibliothek für symbolische Mathematik.\n",
    "* Starke Integration mit NumPy erlaubt die Entwicklung und Anwendung mathematischer Modelle."
   ]
  },
  {
   "cell_type": "code",
   "execution_count": 3,
   "id": "648ee708",
   "metadata": {
    "slideshow": {
     "slide_type": "subslide"
    }
   },
   "outputs": [
    {
     "data": {
      "text/latex": [
       "$\\displaystyle 2 \\sqrt{2}$"
      ],
      "text/plain": [
       "2*sqrt(2)"
      ]
     },
     "execution_count": 3,
     "metadata": {},
     "output_type": "execute_result"
    }
   ],
   "source": [
    "import sympy as sym\n",
    "\n",
    "sym.sqrt(8)"
   ]
  },
  {
   "cell_type": "code",
   "execution_count": 5,
   "id": "0ff7b275",
   "metadata": {},
   "outputs": [
    {
     "data": {
      "text/latex": [
       "$\\displaystyle 2 x - 3$"
      ],
      "text/plain": [
       "2*x - 3"
      ]
     },
     "execution_count": 5,
     "metadata": {},
     "output_type": "execute_result"
    }
   ],
   "source": [
    "x = sym.symbols('x')\n",
    "\n",
    "sym.diff(x**2 - 3*x + 2)"
   ]
  },
  {
   "cell_type": "code",
   "execution_count": 10,
   "id": "d5b11a61",
   "metadata": {
    "slideshow": {
     "slide_type": "subslide"
    }
   },
   "outputs": [
    {
     "data": {
      "image/png": "[encoded data removed]",
      "text/plain": [
       "<Figure size 432x288 with 1 Axes>"
      ]
     },
     "metadata": {
      "needs_background": "light"
     },
     "output_type": "display_data"
    }
   ],
   "source": [
    "sym.plot(x**2 - 3*x + 2, (x, -8, 11));"
   ]
  }
 ],
 "metadata": {
  "celltoolbar": "Slideshow",
  "kernelspec": {
   "display_name": "Python 3 (ipykernel)",
   "language": "python",
   "name": "python3"
  },
  "language_info": {
   "codemirror_mode": {
    "name": "ipython",
    "version": 3
   },
   "file_extension": ".py",
   "mimetype": "text/x-python",
   "name": "python",
   "nbconvert_exporter": "python",
   "pygments_lexer": "ipython3",
   "version": "3.10.2"
  }
 },
 "nbformat": 4,
 "nbformat_minor": 5
}
