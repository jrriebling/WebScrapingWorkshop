{
 "cells": [
  {
   "cell_type": "markdown",
   "id": "4e6d9d5e",
   "metadata": {
    "slideshow": {
     "slide_type": "slide"
    }
   },
   "source": [
    "**Web Scraping und Data Mining in Python**\n",
    "\n",
    "# Das Medium Data Problem in CSS\n",
    "\n",
    "Jan R. Riebling, *Universität Wuppertal*"
   ]
  },
  {
   "cell_type": "markdown",
   "id": "9890b6cd",
   "metadata": {
    "slideshow": {
     "slide_type": "slide"
    }
   },
   "source": [
    "# Vorstellung des Workshops"
   ]
  },
  {
   "cell_type": "markdown",
   "id": "7c73fbbb",
   "metadata": {
    "slideshow": {
     "slide_type": "subslide"
    }
   },
   "source": [
    "# Ablauf\n",
    "\n",
    "1. Vorstellung des Workshops und der Infrastruktur.\n",
    "2. Einführung in Python.\n",
    "3. APIs und Webscraping.\n",
    "4. Fortgeschrittnere Techniken.\n",
    "5. Umgang mit und Analyse von prozessgenerierten Daten."
   ]
  },
  {
   "cell_type": "markdown",
   "id": "2802b270",
   "metadata": {
    "slideshow": {
     "slide_type": "subslide"
    }
   },
   "source": [
    "## Kurze Demonstration"
   ]
  },
  {
   "cell_type": "code",
   "execution_count": 1,
   "id": "5558e9b5",
   "metadata": {},
   "outputs": [],
   "source": [
    "import urllib\n",
    "import json\n",
    "\n",
    "url = 'https://raw.githubusercontent.com/Datenschule/offenesparlament-data/master/mdb/mdb.json'\n",
    "data = urllib.request.urlopen(url).read()\n",
    "\n",
    "parsed = json.loads(data)"
   ]
  },
  {
   "cell_type": "code",
   "execution_count": 2,
   "id": "2cb8d198",
   "metadata": {
    "slideshow": {
     "slide_type": "subslide"
    }
   },
   "outputs": [
    {
     "data": {
      "text/plain": [
       "[{'id': '1261',\n",
       "  'profile_url': 'https://www.abgeordnetenwatch.de/profile/barbara-woltmann',\n",
       "  'first_name': 'Barbara',\n",
       "  'last_name': 'Woltmann',\n",
       "  'gender': 'female',\n",
       "  'birth_date': '1957-01-23',\n",
       "  'education': 'Verwaltungsjuristin',\n",
       "  'picture': 'http://www.bundestag.de/blueprint/servlet/image/242052/Hochformat__2x3/177/265/f994edb5537fdeaa975a2075864d39e/Mn/woltmann_barbara_gross.jpg',\n",
       "  'party': 'CDU',\n",
       "  'election_list': 'Landesliste Niedersachsen',\n",
       "  'list_won': 'false',\n",
       "  'top_id': 'NULL',\n",
       "  'agw_id': 'a1d9719d-00bb-4b14-a813-41d3e6a939c7',\n",
       "  'education_category': 'NULL'},\n",
       " {'id': '1262',\n",
       "  'profile_url': 'https://www.abgeordnetenwatch.de/profile/heinrich-zertik',\n",
       "  'first_name': 'Heinrich',\n",
       "  'last_name': 'Zertik',\n",
       "  'gender': 'male',\n",
       "  'birth_date': '1957-05-12',\n",
       "  'education': 'Projektmanager Soziales',\n",
       "  'picture': 'http://www.bundestag.de/blueprint/servlet/image/242056/Hochformat__2x3/177/265/7361382d9759ff5631efaa03bb2c850f/Rf/zertik_heinrich_gross.jpg',\n",
       "  'party': 'CDU',\n",
       "  'election_list': 'Landesliste Nordrhein-Westfalen',\n",
       "  'list_won': 'false',\n",
       "  'top_id': 'NULL',\n",
       "  'agw_id': 'b374691b-ddd5-4c4c-a478-dc15126ccab5',\n",
       "  'education_category': 'NULL'},\n",
       " {'id': '1263',\n",
       "  'profile_url': 'https://www.abgeordnetenwatch.de/profile/kordula-kovac',\n",
       "  'first_name': 'Kordula',\n",
       "  'last_name': 'Kovac',\n",
       "  'gender': 'female',\n",
       "  'birth_date': '1957-10-22',\n",
       "  'education': 'Geschäftsführerin',\n",
       "  'picture': 'http://www.bundestag.de/blueprint/servlet/image/242596/Hochformat__2x3/177/265/9cc4065d993ec8e29006db1303ec772f/Yw/kovac_kordula_gross.jpg',\n",
       "  'party': 'CDU',\n",
       "  'election_list': 'Landesliste Baden-Württemberg',\n",
       "  'list_won': 'false',\n",
       "  'top_id': 'NULL',\n",
       "  'agw_id': 'f38edddc-7008-4dcd-8365-66a3edc0627d',\n",
       "  'education_category': 'NULL'}]"
      ]
     },
     "execution_count": 2,
     "metadata": {},
     "output_type": "execute_result"
    }
   ],
   "source": [
    "parsed[:3]"
   ]
  },
  {
   "cell_type": "markdown",
   "id": "6b48eb65",
   "metadata": {
    "slideshow": {
     "slide_type": "slide"
    }
   },
   "source": [
    "# Was ist Medium Data?"
   ]
  },
  {
   "cell_type": "markdown",
   "id": "6ded3299",
   "metadata": {
    "slideshow": {
     "slide_type": "subslide"
    }
   },
   "source": [
    "## Soziologie und Daten\n",
    "\n",
    "* Erhebungsinstrumente und Daten als konstitutives Element der Soziologie.\n",
    "* Bisherige, dominante Unterscheidung:\n",
    "\n",
    "![](../figures/OffenVsStandard.svg)\n",
    "\n",
    "* Neue Datenquellen stoßen eine Vielzahl disziplinärer Veränderungen an (*watershed moment* (McFarland, Lewis, und Goldberg 2016). "
   ]
  },
  {
   "cell_type": "markdown",
   "id": "8bd6c2cf",
   "metadata": {
    "slideshow": {
     "slide_type": "subslide"
    }
   },
   "source": [
    "## Medium vs. Big Data\n",
    "\n",
    "* Daten als spezifische Problemstellungen.\n",
    "* Big Data:\n",
    "\t* *Zeit*: Bereitstellung der Resultate in Echtzeit durch paralleles Rechnen.\n",
    "\t* *Speicherkapazität*: Verarbeitung von großen Datenmengen ($>$ Petabyte).\n",
    "* Medium Data:\n",
    "\t* *Prozessgeneriertheit*: Daten als Resultat von Interaktionsprozessen mit, in und vermittelt durch sozio-technische Systeme.\n",
    "\t* *Komplexität*: Daten umfassen mehrere Beobachtungsebenen und/oder enthalten Relationen."
   ]
  },
  {
   "cell_type": "markdown",
   "id": "b63f20c7",
   "metadata": {
    "slideshow": {
     "slide_type": "subslide"
    }
   },
   "source": [
    "## Exkurs: Wie funktioniert Big Data?\n",
    "\n",
    "* Technologie welche zwei spezifische Probleme addressiert: *Geschwindigkeit der Berechnung* und *Speicherkapazität*.\n",
    "* Basierend auf Technicken des verteilten Rechnens und verteilter Datenbanken (populärer Vorreiter *map-reduce-framework* von Google). \n",
    "* Umgangssprachlich: data which “exceeds the processing capacity of conventional database systems” (Dumbill, 2013)."
   ]
  },
  {
   "cell_type": "markdown",
   "id": "4b0b8af0",
   "metadata": {
    "slideshow": {
     "slide_type": "subslide"
    }
   },
   "source": [
    "## Prozessgenerierte Daten\n",
    "\n",
    "* Soziale Interaktion in ihrem Verlauf beobachtbar.\n",
    "* Soziale Einbettung, z.B.:\n",
    "    * Binnenkultur des STS.\n",
    "    * Einfluss externer sozialer Prozesse.\n",
    "* Technische Rahmenbedingungen, z.B.:\n",
    "    * Möglichkeiten der Nutzung.\n",
    "    * Veränderungen zwischen Versionen.\n",
    "* Bedeutung für CSS:\n",
    "    * Berücksichtigung im Erhebungsprozess.\n",
    "    * Wissen über soziale und technische Rahmenbedingungen."
   ]
  },
  {
   "cell_type": "markdown",
   "id": "9abbf57e",
   "metadata": {
    "slideshow": {
     "slide_type": "subslide"
    }
   },
   "source": [
    "## Komplexe Daten\n",
    "\n",
    "* Nicht als klassische Datentabelle handhabbar.\n",
    "* Relationalität der Daten, z.B.:\n",
    "    * Interaktionen zwischen verschiedenen Nutzern.\n",
    "* Unterschiedliche Ebenen der Beobachtung, z.B.:\n",
    "    * Text-, Personen- und Netzwerkdaten.\n",
    "* Bedeutung für CSS:\n",
    "    * Technische Infrastruktur zur Handhabung notwendig.\n",
    "    * Integration unterschiedlicher methodischer Ansätze.\n"
   ]
  },
  {
   "cell_type": "markdown",
   "id": "fa8c52d3",
   "metadata": {
    "slideshow": {
     "slide_type": "subslide"
    }
   },
   "source": [
    "## Problemfälle\n",
    "\n",
    "* \"Google Flu Trends\": Suchvorschläge der Suchmaschine und deren Resultate führen zu methodischem Teufelskreis (Lazer u. a. 2014).\n",
    "* Politischer Diskurs auf Twitter: Misinterpretation von Aufmerksamkeit als Unterstützung politischer Positionen (Jungherr u. a. 2016).\n",
    "* \"Social Bots\"-Forschung: Technische Artefakte werden inhaltlich interpretiert (Gallwitz und Kreil 2021). "
   ]
  },
  {
   "cell_type": "markdown",
   "id": "089642c2",
   "metadata": {
    "slideshow": {
     "slide_type": "slide"
    }
   },
   "source": [
    "# Computational Social Science"
   ]
  },
  {
   "cell_type": "markdown",
   "id": "57f95bd0",
   "metadata": {
    "slideshow": {
     "slide_type": "subslide"
    }
   },
   "source": [
    "## Zielsetzung\n",
    "\n",
    "* Medium Data Probleme als Ausgangspunkt für Computational Social Science.\n",
    "* Techniken und praktische Lösungen für die Erhebung, Analyse und Verwaltung komplexer und prozessgenerierter Daten.\n",
    "* Bereitstellung von methodischem „shoe leather“ für die Sozialwissenschaften."
   ]
  },
  {
   "cell_type": "markdown",
   "id": "6054d9f0",
   "metadata": {
    "slideshow": {
     "slide_type": "subslide"
    }
   },
   "source": [
    "## Fachwissen\n",
    "\n",
    "* Zentrale Bedeutung von Wissen über:\n",
    "    * Algorithmik.\n",
    "    * Programmiersprachen.\n",
    "    * Technologien und Spezifikationen.\n",
    "* Hilfswissenschaft statt spezieller Soziologie."
   ]
  },
  {
   "cell_type": "markdown",
   "id": "2e744381",
   "metadata": {
    "slideshow": {
     "slide_type": "slide"
    }
   },
   "source": [
    "# Einstieg in den Workshop"
   ]
  },
  {
   "cell_type": "markdown",
   "id": "08701b8d",
   "metadata": {
    "slideshow": {
     "slide_type": "subslide"
    }
   },
   "source": [
    "## Skripte und Unterlagen\n",
    "\n",
    "GitHub Repositorium: [https://github.com/jrriebling/WebScrapingWorkshop.git](https://github.com/jrriebling/WebScrapingWorkshop.git)\n",
    "\n",
    "```.bash\n",
    "git clone https://github.com/jrriebling/WebScrapingWorkshop.git\n",
    "```"
   ]
  },
  {
   "cell_type": "markdown",
   "id": "b2878dbb",
   "metadata": {
    "slideshow": {
     "slide_type": "subslide"
    }
   },
   "source": [
    "## Überprüfung der Installation"
   ]
  },
  {
   "cell_type": "markdown",
   "id": "b3e1d19e",
   "metadata": {
    "slideshow": {
     "slide_type": "slide"
    }
   },
   "source": [
    "# Literatur\n",
    "\n",
    "* Lazer, David, Ryan Kennedy, Gary King, und Alessandro Vespignani. 2014. „The parable of Google flu: traps in big data analysis“. Science 343(6176):1203–5.\n",
    "* Jungherr, Andreas, Harald Schoen, Oliver Posegga, und Pascal Jürgens. 2016. „Digital Trace Data in the Study of Public Opinion An Indicator of Attention Toward Politics Rather Than Political Support“. Social Science Computer Review 35(3):0894439316631043.\n",
    "* Gallwitz, Florian, und Michael Kreil. 2021. The Rise and Fall of „Social Bot“ Research. SSRN Scholarly Paper. ID 3814191. Rochester, NY: Social Science Research Network.\n",
    "* McFarland, Daniel A., Kevin Lewis, und Amir Goldberg. 2016. „Sociology in the Era of Big Data: The Ascent of Forensic Social Science“. The American Sociologist 47(1):12–35. doi: 10.1007/s12108-015-9291-8."
   ]
  }
 ],
 "metadata": {
  "celltoolbar": "Slideshow",
  "kernelspec": {
   "display_name": "Python 3 (ipykernel)",
   "language": "python",
   "name": "python3"
  },
  "language_info": {
   "codemirror_mode": {
    "name": "ipython",
    "version": 3
   },
   "file_extension": ".py",
   "mimetype": "text/x-python",
   "name": "python",
   "nbconvert_exporter": "python",
   "pygments_lexer": "ipython3",
   "version": "3.10.2"
  }
 },
 "nbformat": 4,
 "nbformat_minor": 5
}
