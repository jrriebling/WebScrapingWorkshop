{
 "cells": [
  {
   "cell_type": "markdown",
   "metadata": {
    "slideshow": {
     "slide_type": "slide"
    }
   },
   "source": [
    "**Web Scraping und Data Mining in Python**\n",
    "\n",
    "# Schleifen und logische Bedingungen\n",
    "\n",
    "Jan Riebling, *Universität Bamberg*"
   ]
  },
  {
   "cell_type": "markdown",
   "metadata": {
    "slideshow": {
     "slide_type": "slide"
    }
   },
   "source": [
    "# Schleifen"
   ]
  },
  {
   "cell_type": "markdown",
   "metadata": {
    "slideshow": {
     "slide_type": "subslide"
    }
   },
   "source": [
    "## Grundlegende Operationen\n",
    "\n",
    "* Input\n",
    "* Output\n",
    "* Operationen (logisch & mathematisch)\n",
    "* *Iterationen*\n",
    "* *Control Flow* (Prozessteuerung)"
   ]
  },
  {
   "cell_type": "markdown",
   "metadata": {
    "slideshow": {
     "slide_type": "subslide"
    }
   },
   "source": [
    "## Iteration\n",
    "\n",
    "Zwei Arten von Schleifen (siehe auch [Python Docs](https://docs.python.org/2/tutorial/controlflow.html)): \n",
    "\n",
    "* `for` x `in` Sequenz:  \n",
    "  Für alle Elemente von x tue y.\n",
    "* `while` Bedingung:  \n",
    "  Solange die Bedingung x erfült ist wiederhole y.\n",
    "\n",
    "„Funktionale“ Alternative:\n",
    "\n",
    "* `map()`"
   ]
  },
  {
   "cell_type": "markdown",
   "metadata": {
    "slideshow": {
     "slide_type": "subslide"
    }
   },
   "source": [
    "## `while`\n",
    "\n",
    "1. Prüfe Bedingung.\n",
    "2. Wenn (IFF) Bedingung wahr:\n",
    "    2. Führe Operation aus.\n",
    "    2. Gehe zu 1.\n",
    "3. Wenn Bedingung nicht erfüllt:\n",
    "    3. Beende Schleife"
   ]
  },
  {
   "cell_type": "markdown",
   "metadata": {
    "slideshow": {
     "slide_type": "subslide"
    }
   },
   "source": [
    "## Sonnenblumenkerne\n",
    "\n",
    "Das Wachstum einiger natürlicher Prozesse folgt der Fibonacci-Serie:\n",
    "\n",
    "$$  \n",
    "f_n =\n",
    "\\begin{cases}\n",
    "  f_n = n,           & \\text{if $n \\le 2$} \\\\\n",
    "  f_{n-1} + f_{n-2}, & \\text{if $n \\gt 2$}\n",
    "\\end{cases} \n",
    "$$\n",
    "\n",
    "$f = 0, 1, 1, 2, 3, 5, 8, 13, \\dots$"
   ]
  },
  {
   "cell_type": "code",
   "execution_count": 2,
   "metadata": {
    "slideshow": {
     "slide_type": "subslide"
    }
   },
   "outputs": [
    {
     "name": "stdout",
     "output_type": "stream",
     "text": [
      "0\n",
      "1\n",
      "1\n",
      "2\n",
      "3\n",
      "5\n",
      "8\n",
      "13\n",
      "21\n",
      "34\n",
      "55\n",
      "89\n",
      "144\n",
      "233\n",
      "377\n",
      "610\n",
      "987\n",
      "1597\n",
      "2584\n",
      "4181\n",
      "6765\n",
      "10946\n",
      "17711\n",
      "28657\n",
      "46368\n",
      "75025\n",
      "121393\n",
      "196418\n",
      "317811\n",
      "514229\n",
      "832040\n",
      "1346269\n",
      "2178309\n",
      "3524578\n",
      "5702887\n",
      "9227465\n",
      "14930352\n",
      "24157817\n",
      "39088169\n",
      "63245986\n",
      "102334155\n",
      "165580141\n",
      "267914296\n",
      "433494437\n",
      "701408733\n",
      "1134903170\n",
      "1836311903\n",
      "2971215073\n",
      "4807526976\n",
      "7778742049\n",
      "12586269025\n"
     ]
    }
   ],
   "source": [
    "## Als while Schleife?\n",
    "\n",
    "a = 0\n",
    "b = 1\n",
    "\n",
    "counter = 0\n",
    "\n",
    "while counter <= 50:\n",
    "    print(a)\n",
    "    a, b = b, a + b\n",
    "    counter += 1"
   ]
  },
  {
   "cell_type": "markdown",
   "metadata": {
    "slideshow": {
     "slide_type": "subslide"
    }
   },
   "source": [
    "## `for`\n",
    "\n",
    "1. Für erstes Element der Sequenz s:\n",
    "    1. Führe Operation aus\n",
    "    2. Rufe `__next__()` (nächstes Element)\n",
    "    3. Wenn kein weiteres Element:\n",
    "        1. Beende Schleife.\n",
    "    4. Sonst:\n",
    "        1. Gehe zu 1.\n"
   ]
  },
  {
   "cell_type": "markdown",
   "metadata": {
    "slideshow": {
     "slide_type": "subslide"
    }
   },
   "source": [
    "## Bsp. Wörter zählen\n",
    "\n",
    "Aufgabe: Durch eine Liste mit Wörtern gehen und die Häufigkeit jedes Wortes zurück geben."
   ]
  },
  {
   "cell_type": "code",
   "execution_count": 3,
   "metadata": {},
   "outputs": [
    {
     "name": "stdout",
     "output_type": "stream",
     "text": [
      "['Well,', \"there's\", 'egg', 'and', 'bacon;', 'egg', 'sausage', 'and', 'bacon;', 'egg', 'and', 'spam;', 'egg', 'bacon', 'and', 'spam;', 'egg', 'bacon', 'sausage', 'and', 'spam;', 'spam', 'bacon', 'sausage', 'and', 'spam;', 'spam', 'egg', 'spam', 'spam', 'bacon', 'and', 'spam;', 'spam', 'sausage', 'spam', 'spam', 'bacon', 'spam', 'tomato', 'and', 'spam;']\n"
     ]
    }
   ],
   "source": [
    "## Vorbereitung:\n",
    "\n",
    "spamskit = '''Well, there's egg and bacon; \\\n",
    "egg sausage and bacon; \\\n",
    "egg and spam; egg bacon and spam; \\\n",
    "egg bacon sausage and spam; \\\n",
    "spam bacon sausage and spam; \\\n",
    "spam egg spam spam bacon and spam; \\\n",
    "spam sausage spam spam bacon spam tomato and spam;'''\n",
    "\n",
    "tokens = spamskit.split(' ')\n",
    "\n",
    "print(tokens)"
   ]
  },
  {
   "cell_type": "code",
   "execution_count": 18,
   "metadata": {
    "scrolled": true,
    "slideshow": {
     "slide_type": "subslide"
    }
   },
   "outputs": [
    {
     "data": {
      "text/plain": [
       "{'and': 8, 'spam': 8, 'spam;': 6, 'egg': 6}"
      ]
     },
     "execution_count": 18,
     "metadata": {},
     "output_type": "execute_result"
    }
   ],
   "source": [
    "## Häufigkeit der Tokens als for-Schleife?\n",
    "\n",
    "L=[]\n",
    "for word in set(tokens):\n",
    "    if tokens.count(word) >= 6:\n",
    "        L.append((word, tokens.count(word)))\n",
    "    \n",
    "spamfreqs = dict(L)\n",
    "\n",
    "spamfreqs"
   ]
  },
  {
   "cell_type": "markdown",
   "metadata": {
    "slideshow": {
     "slide_type": "subslide"
    }
   },
   "source": [
    "## List comprehension\n",
    "\n",
    "`for`-Schleifen können auch in der Form von *list comprehensions* geschrieben werden. Dies stellt oft eine präzisere  aber weniger lesbare Schreibweise dar. Zudem sind list comprehensions fast immer schneller:\n",
    "\n",
    "`[i for i in x]`"
   ]
  },
  {
   "cell_type": "code",
   "execution_count": 12,
   "metadata": {},
   "outputs": [
    {
     "data": {
      "text/plain": [
       "<generator object <genexpr> at 0x7f798eaab4c0>"
      ]
     },
     "execution_count": 12,
     "metadata": {},
     "output_type": "execute_result"
    }
   ],
   "source": [
    "## Übung\n",
    "words = set(tokens)\n",
    "\n",
    "((token, tokens.count(token)) for token in set(tokens))"
   ]
  },
  {
   "cell_type": "markdown",
   "metadata": {
    "slideshow": {
     "slide_type": "subslide"
    }
   },
   "source": [
    "List Comprehensions können auch mit Bedingungen versehen werden:\n",
    "\n",
    "`[i for i in x if Bedingung]`"
   ]
  },
  {
   "cell_type": "code",
   "execution_count": 21,
   "metadata": {},
   "outputs": [
    {
     "data": {
      "text/plain": [
       "[('spam', 8, 4, 'A'), ('spam;', 6, 5, 'A')]"
      ]
     },
     "execution_count": 21,
     "metadata": {},
     "output_type": "execute_result"
    }
   ],
   "source": [
    "## Übung\n",
    "\n",
    "[(word, tokens.count(word), len(word), 'A') for word in set(tokens) if tokens.count(word) >= 6 and len(word) > 3]"
   ]
  },
  {
   "cell_type": "markdown",
   "metadata": {
    "slideshow": {
     "slide_type": "slide"
    }
   },
   "source": [
    "# Boolsches Algebra"
   ]
  },
  {
   "cell_type": "markdown",
   "metadata": {
    "slideshow": {
     "slide_type": "subslide"
    }
   },
   "source": [
    "## `if`\n",
    "\n",
    "> For of all sad words of tongue or pen, The saddest are these: 'It might have been!' \n",
    "\n",
    "> *John Greenleaf Whittier*, Maud Muller"
   ]
  },
  {
   "cell_type": "markdown",
   "metadata": {
    "slideshow": {
     "slide_type": "subslide"
    }
   },
   "source": [
    "## Control flow\n",
    "\n",
    "* `if` prüft eine Bedingung und führt nachfolgende Operationen nur dann aus, wenn die Bedingung erfüllt ist.\n",
    "* `else`  Führt Operation nur dann aus, wenn das vorangegangene `if` nicht erfüllt wurde. Muss nach `if` stehen.\n",
    "* `elif` muss nach `if` und vor `else` (optional) stehen. Prüft eine weitere `if`-Bedingung."
   ]
  },
  {
   "cell_type": "code",
   "execution_count": 24,
   "metadata": {
    "slideshow": {
     "slide_type": "subslide"
    }
   },
   "outputs": [
    {
     "name": "stdout",
     "output_type": "stream",
     "text": [
      "Bla\n"
     ]
    }
   ],
   "source": [
    "if 1 > 2:\n",
    "    print('Wahr!')\n",
    "elif True:\n",
    "    print('Bla')\n",
    "else:\n",
    "    print('Falsch!')"
   ]
  },
  {
   "cell_type": "code",
   "execution_count": 29,
   "metadata": {
    "slideshow": {
     "slide_type": "subslide"
    }
   },
   "outputs": [
    {
     "name": "stdout",
     "output_type": "stream",
     "text": [
      "Ganze Zahl eingeben: 5\n",
      "Ungerade!\n"
     ]
    }
   ],
   "source": [
    "zahl = input('Ganze Zahl eingeben: ')\n",
    "\n",
    "if not zahl.isdigit():\n",
    "    print('Does not compute')\n",
    "elif int(zahl) % 2 != 0:\n",
    "    print('Ungerade!')\n",
    "else:\n",
    "    print('Gerade!')"
   ]
  },
  {
   "cell_type": "markdown",
   "metadata": {
    "slideshow": {
     "slide_type": "subslide"
    }
   },
   "source": [
    "## Boolsche Ausdrücke\n",
    "\n",
    "* `True` und `False`.\n",
    "* `1` und `0`.\n",
    "*  `None` ist immer `False`.\n",
    "* Leere Objekte (`''`, `[]`, `()`, `{}`, etc.) evaluieren immer als `False`.\n",
    "\n",
    "Siehe auch [Python Docs](https://docs.python.org/2/library/stdtypes.html#truth-value-testing)"
   ]
  },
  {
   "cell_type": "markdown",
   "metadata": {
    "slideshow": {
     "slide_type": "subslide"
    }
   },
   "source": [
    "## Prüfung\n",
    "\n",
    "* Logische Äquivalenz: `==`.\n",
    "* Ungleichheiten: `<`, `<=`, `>`, `>=`, `!=`.\n",
    "* Identität: `is`, `not is`.\n",
    "* Mitgliedschaft: `in`, `not in`."
   ]
  },
  {
   "cell_type": "markdown",
   "metadata": {
    "slideshow": {
     "slide_type": "subslide"
    }
   },
   "source": [
    "## Boolsche Operatoren\n",
    "\n",
    "Algebraische Struktur, die logische (und mengentheoretische) Operatoren abbildet:\n",
    "\n",
    "| Logik | Zeichen  | Syntax |\n",
    "|:------|:--------:|:-------|\n",
    "| UND   | $\\wedge$ | `and`  |\n",
    "| ODER  | $\\lor$   | `or`   |\n",
    "| NICHT | $\\neg$   | `not`  |\n"
   ]
  },
  {
   "cell_type": "markdown",
   "metadata": {
    "slideshow": {
     "slide_type": "subslide"
    }
   },
   "source": [
    "## `and`\n",
    "\n",
    "| Ausdruck          | Wahrheitswert |\n",
    "|-------------------|---------------|\n",
    "| `True and True`   | `True`        |\n",
    "| `True and False`  | `False`       |\n",
    "| `False and True`  | `False`       |\n",
    "| `False and False` | `False`       |"
   ]
  },
  {
   "cell_type": "code",
   "execution_count": 30,
   "metadata": {},
   "outputs": [
    {
     "data": {
      "text/plain": [
       "False"
      ]
     },
     "execution_count": 30,
     "metadata": {},
     "output_type": "execute_result"
    }
   ],
   "source": [
    "False and False"
   ]
  },
  {
   "cell_type": "markdown",
   "metadata": {
    "slideshow": {
     "slide_type": "subslide"
    }
   },
   "source": [
    "## `or`\n",
    "\n",
    "| Ausdruck          | Wahrheitswert |\n",
    "|-------------------|---------------|\n",
    "| `True and True`   | `True`        |\n",
    "| `True and False`  | `True`        |\n",
    "| `False and True`  | `True`        |\n",
    "| `False and False` | `False`       |"
   ]
  },
  {
   "cell_type": "code",
   "execution_count": 4,
   "metadata": {},
   "outputs": [
    {
     "data": {
      "text/plain": [
       "True"
      ]
     },
     "execution_count": 4,
     "metadata": {},
     "output_type": "execute_result"
    }
   ],
   "source": [
    "False or True"
   ]
  },
  {
   "cell_type": "markdown",
   "metadata": {
    "slideshow": {
     "slide_type": "subslide"
    }
   },
   "source": [
    "## Priorität der Operatoren\n",
    "\n",
    "Von der niedrigsten zur höchsten:\n",
    "\n",
    "1. lambda\n",
    "1. if – else\n",
    "1. or\n",
    "1. and\n",
    "1. not x\n",
    "1. in, not in, is, is not, <, <=, >, >=, !=, ==\n",
    "\n",
    "Siehe auch [Python Reference](https://docs.python.org/3/reference/expressions.html#operator-precedence)"
   ]
  },
  {
   "cell_type": "markdown",
   "metadata": {
    "slideshow": {
     "slide_type": "subslide"
    }
   },
   "source": [
    "## Short circuit evaluation\n",
    "\n",
    "Python evaluiert der Reihe nach und nicht zwangsläufig den gesamten Ausdruck: \n",
    "\n",
    "* Bei `or`: Wenn der erste Operand `True` ist, gilt der ganze Ausdruck als wahr.\n",
    "* Bei `and`: Wenn der erste Operand `False` ist, gilt der ganze Ausdruck als falsch.\n",
    "\n",
    "Siehe dazu [hier](https://en.wikibooks.org/wiki/Non-Programmer%27s_Tutorial_for_Python_3/Boolean_Expressions)."
   ]
  },
  {
   "cell_type": "code",
   "execution_count": 1,
   "metadata": {},
   "outputs": [
    {
     "data": {
      "text/plain": [
       "True"
      ]
     },
     "execution_count": 1,
     "metadata": {},
     "output_type": "execute_result"
    }
   ],
   "source": [
    "True or False or False"
   ]
  },
  {
   "cell_type": "code",
   "execution_count": 9,
   "metadata": {},
   "outputs": [
    {
     "data": {
      "text/plain": [
       "False"
      ]
     },
     "execution_count": 9,
     "metadata": {},
     "output_type": "execute_result"
    }
   ],
   "source": [
    "False and True and True"
   ]
  },
  {
   "cell_type": "markdown",
   "metadata": {
    "slideshow": {
     "slide_type": "subslide"
    }
   },
   "source": [
    "## Präzise aber nicht pedantisch\n",
    "\n",
    "![conditionals](https://imgs.xkcd.com/comics/conditionals.png)"
   ]
  }
 ],
 "metadata": {
  "celltoolbar": "Slideshow",
  "kernelspec": {
   "display_name": "Python 3 (ipykernel)",
   "language": "python",
   "name": "python3"
  },
  "language_info": {
   "codemirror_mode": {
    "name": "ipython",
    "version": 3
   },
   "file_extension": ".py",
   "mimetype": "text/x-python",
   "name": "python",
   "nbconvert_exporter": "python",
   "pygments_lexer": "ipython3",
   "version": "3.10.2"
  }
 },
 "nbformat": 4,
 "nbformat_minor": 1
}
