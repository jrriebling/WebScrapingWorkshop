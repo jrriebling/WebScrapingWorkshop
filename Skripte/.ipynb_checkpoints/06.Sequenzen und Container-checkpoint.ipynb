{
 "cells": [
  {
   "cell_type": "markdown",
   "metadata": {
    "slideshow": {
     "slide_type": "slide"
    }
   },
   "source": [
    "**Web Scraping und Data Mining in Python**\n",
    "\n",
    "# Sequenzen und Container\n",
    "\n",
    "Jan Riebling, *Universität Wuppertal*"
   ]
  },
  {
   "cell_type": "markdown",
   "metadata": {
    "slideshow": {
     "slide_type": "slide"
    }
   },
   "source": [
    "# Sequenzen"
   ]
  },
  {
   "cell_type": "markdown",
   "metadata": {
    "slideshow": {
     "slide_type": "subslide"
    }
   },
   "source": [
    "## Allgemein\n",
    "\n",
    "Beliebig lange Verknüpfung von Elementen, die mit einem *Index* abgerufen werden können. Sequenzen können *veränderlich* oder *unveränderlich* sein. Strings sind unveränderliche Sequenzen."
   ]
  },
  {
   "cell_type": "markdown",
   "metadata": {
    "collapsed": true,
    "slideshow": {
     "slide_type": "subslide"
    }
   },
   "source": [
    "## Liste (Objektkette)\n",
    "\n",
    "Listen sind veränderbare Sequenzen. Sie werden mit `[` begonnen und mit `]`geschlossen. Einzelne Elemente, die eines beliebigen Typs sein können, werden mit `,` voneinander getrennt. Listen haben einen Index."
   ]
  },
  {
   "cell_type": "code",
   "execution_count": 1,
   "metadata": {
    "slideshow": {
     "slide_type": "subslide"
    }
   },
   "outputs": [
    {
     "name": "stderr",
     "output_type": "stream",
     "text": [
      "/tmp/ipykernel_16724/2081605479.py:4: DeprecationWarning: The default dtype for empty Series will be 'object' instead of 'float64' in a future version. Specify a dtype explicitly to silence this warning.\n",
      "  L = ['A', 1, 4.5, pd.Series(), [1, 2, 3]]\n"
     ]
    },
    {
     "data": {
      "text/plain": [
       "['A', 1, 4.5, Series([], dtype: float64), [1, 2, 3]]"
      ]
     },
     "execution_count": 1,
     "metadata": {},
     "output_type": "execute_result"
    }
   ],
   "source": [
    "## Liste beliebiger Objekte\n",
    "import pandas as pd\n",
    "\n",
    "L = ['A', 1, 4.5, pd.Series(), [1, 2, 3]]\n",
    "\n",
    "L"
   ]
  },
  {
   "cell_type": "code",
   "execution_count": 40,
   "metadata": {
    "slideshow": {
     "slide_type": "subslide"
    }
   },
   "outputs": [
    {
     "data": {
      "text/plain": [
       "['A', [1, 2, 3], 4.5, Series([], dtype: float64), [1, 2, 3]]"
      ]
     },
     "execution_count": 40,
     "metadata": {},
     "output_type": "execute_result"
    }
   ],
   "source": [
    "L[1] = [1, 2, 3]\n",
    "\n",
    "L"
   ]
  },
  {
   "cell_type": "markdown",
   "metadata": {
    "slideshow": {
     "slide_type": "subslide"
    }
   },
   "source": [
    "## Tupel\n",
    "\n",
    "Unveränderliche Sequenzen beliebiger Objekte, werden mit `(` begonnen und mit `)` geschlossen. Haben alle Eigenschaften von Listen, können aber nicht im nachhinein verändert werden!"
   ]
  },
  {
   "cell_type": "code",
   "execution_count": 43,
   "metadata": {
    "slideshow": {
     "slide_type": "subslide"
    }
   },
   "outputs": [
    {
     "ename": "TypeError",
     "evalue": "'tuple' object does not support item assignment",
     "output_type": "error",
     "traceback": [
      "\u001b[0;31m---------------------------------------------------------------------------\u001b[0m",
      "\u001b[0;31mTypeError\u001b[0m                                 Traceback (most recent call last)",
      "\u001b[0;32m<ipython-input-43-1fd7265cba7d>\u001b[0m in \u001b[0;36m<module>\u001b[0;34m\u001b[0m\n\u001b[1;32m      1\u001b[0m \u001b[0mt\u001b[0m \u001b[0;34m=\u001b[0m \u001b[0;34m(\u001b[0m\u001b[0;34m'A'\u001b[0m\u001b[0;34m,\u001b[0m \u001b[0;36m1\u001b[0m\u001b[0;34m,\u001b[0m \u001b[0;36m4.5\u001b[0m\u001b[0;34m,\u001b[0m \u001b[0mpd\u001b[0m\u001b[0;34m.\u001b[0m\u001b[0mSeries\u001b[0m\u001b[0;34m(\u001b[0m\u001b[0;34m)\u001b[0m\u001b[0;34m)\u001b[0m\u001b[0;34m\u001b[0m\u001b[0m\n\u001b[1;32m      2\u001b[0m \u001b[0;34m\u001b[0m\u001b[0m\n\u001b[0;32m----> 3\u001b[0;31m \u001b[0mt\u001b[0m\u001b[0;34m[\u001b[0m\u001b[0;36m1\u001b[0m\u001b[0;34m]\u001b[0m \u001b[0;34m=\u001b[0m \u001b[0;34m[\u001b[0m\u001b[0;36m1\u001b[0m\u001b[0;34m,\u001b[0m \u001b[0;36m2\u001b[0m\u001b[0;34m,\u001b[0m \u001b[0;36m4\u001b[0m\u001b[0;34m]\u001b[0m\u001b[0;34m\u001b[0m\u001b[0m\n\u001b[0m",
      "\u001b[0;31mTypeError\u001b[0m: 'tuple' object does not support item assignment"
     ]
    }
   ],
   "source": [
    "t = ('A', 1, 4.5, pd.Series())\n",
    "\n",
    "t[1] = [1, 2, 4]"
   ]
  },
  {
   "cell_type": "markdown",
   "metadata": {
    "slideshow": {
     "slide_type": "subslide"
    }
   },
   "source": [
    "*Unveränderlichkeit* bedeutet, dass keine Elemente in eine bestehende Sequenz eingefügt werden können."
   ]
  },
  {
   "cell_type": "code",
   "execution_count": 42,
   "metadata": {
    "slideshow": {
     "slide_type": "-"
    }
   },
   "outputs": [
    {
     "ename": "TypeError",
     "evalue": "'str' object does not support item assignment",
     "output_type": "error",
     "traceback": [
      "\u001b[0;31m---------------------------------------------------------------------------\u001b[0m",
      "\u001b[0;31mTypeError\u001b[0m                                 Traceback (most recent call last)",
      "\u001b[0;32m<ipython-input-42-2046414ec35d>\u001b[0m in \u001b[0;36m<module>\u001b[0;34m\u001b[0m\n\u001b[1;32m      1\u001b[0m \u001b[0;31m## Kein Einfügen in den bestehenden String\u001b[0m\u001b[0;34m\u001b[0m\u001b[0;34m\u001b[0m\u001b[0m\n\u001b[1;32m      2\u001b[0m \u001b[0mhello\u001b[0m \u001b[0;34m=\u001b[0m \u001b[0;34m'Hello _!'\u001b[0m\u001b[0;34m\u001b[0m\u001b[0m\n\u001b[0;32m----> 3\u001b[0;31m \u001b[0mhello\u001b[0m\u001b[0;34m[\u001b[0m\u001b[0;36m6\u001b[0m\u001b[0;34m:\u001b[0m\u001b[0;36m7\u001b[0m\u001b[0;34m]\u001b[0m \u001b[0;34m=\u001b[0m \u001b[0;34m'World'\u001b[0m\u001b[0;34m\u001b[0m\u001b[0m\n\u001b[0m\u001b[1;32m      4\u001b[0m \u001b[0mhello\u001b[0m\u001b[0;34m\u001b[0m\u001b[0m\n",
      "\u001b[0;31mTypeError\u001b[0m: 'str' object does not support item assignment"
     ]
    }
   ],
   "source": [
    "## Kein Einfügen in den bestehenden String\n",
    "hello = 'Hello _!'\n",
    "hello[6:7] = 'World'\n",
    "hello"
   ]
  },
  {
   "cell_type": "markdown",
   "metadata": {
    "slideshow": {
     "slide_type": "subslide"
    }
   },
   "source": [
    "## Listen sind veränderlich (Splicing)"
   ]
  },
  {
   "cell_type": "code",
   "execution_count": 4,
   "metadata": {
    "slideshow": {
     "slide_type": "-"
    }
   },
   "outputs": [
    {
     "data": {
      "text/plain": [
       "[5, 9, 'A', 0.5]"
      ]
     },
     "execution_count": 4,
     "metadata": {},
     "output_type": "execute_result"
    }
   ],
   "source": [
    "L = [5, 9, 0.5]\n",
    "\n",
    "L[2:2] = 'A'\n",
    "\n",
    "L"
   ]
  },
  {
   "cell_type": "markdown",
   "metadata": {
    "slideshow": {
     "slide_type": "subslide"
    }
   },
   "source": [
    "## List-of-tuples\n",
    "\n",
    "Ermöglicht die parallele Iteration über Objekte. Kann mittels `zip()` aus gleich langen Sequenzen generiert werden."
   ]
  },
  {
   "cell_type": "code",
   "execution_count": 5,
   "metadata": {
    "slideshow": {
     "slide_type": "-"
    }
   },
   "outputs": [
    {
     "name": "stdout",
     "output_type": "stream",
     "text": [
      "[(1988, 'Seoul'), (1964, 'Tokio'), (1912, 'Stockholm'), (1996, 'Atlanta'), (2008, 'Peking'), (1976, 'Montreal')]\n"
     ]
    }
   ],
   "source": [
    "years = [1988, 1964, 1912, 1996, 2008, 1976]\n",
    "places = ['Seoul', 'Tokio', 'Stockholm', 'Atlanta', 'Peking', 'Montreal']\n",
    "\n",
    "sommer = list(zip(years, places))\n",
    "\n",
    "print(sommer)"
   ]
  },
  {
   "cell_type": "markdown",
   "metadata": {
    "slideshow": {
     "slide_type": "subslide"
    }
   },
   "source": [
    "## Paralelle Iteration"
   ]
  },
  {
   "cell_type": "code",
   "execution_count": 6,
   "metadata": {
    "slideshow": {
     "slide_type": "-"
    }
   },
   "outputs": [
    {
     "name": "stdout",
     "output_type": "stream",
     "text": [
      "Tokio : 1964\n",
      "Stockholm : 1912\n",
      "Montreal : 1976\n"
     ]
    }
   ],
   "source": [
    "for year, city in sommer:\n",
    "    if year < 1988:\n",
    "        print(city, ':', year)\n",
    "        "
   ]
  },
  {
   "cell_type": "markdown",
   "metadata": {
    "slideshow": {
     "slide_type": "slide"
    }
   },
   "source": [
    "# Sets (Mengen)"
   ]
  },
  {
   "cell_type": "markdown",
   "metadata": {
    "slideshow": {
     "slide_type": "subslide"
    }
   },
   "source": [
    "Wird mit der Funktion `set()` initialisiert. Entsprechen weitestgehend dem mathematischen Konzept einer Menge. Kann dazu genutzt werden um Sammlungen von Elementen auf ihre eineindeutigen Elemente (Logik: Typen) einzugrenzen oder auf Mitgliedschaft zu testen. Ausführlichere Dokumentation [hier](https://docs.python.org/3/tutorial/datastructures.html#sets)."
   ]
  },
  {
   "cell_type": "code",
   "execution_count": 51,
   "metadata": {},
   "outputs": [
    {
     "data": {
      "text/plain": [
       "True"
      ]
     },
     "execution_count": 51,
     "metadata": {},
     "output_type": "execute_result"
    }
   ],
   "source": [
    "fridge = set(['Butter', 'Spezi', 'Bacon', 'Bacon', 'Bacon'])\n",
    "'Bacon' in fridge"
   ]
  },
  {
   "cell_type": "markdown",
   "metadata": {
    "slideshow": {
     "slide_type": "subslide"
    }
   },
   "source": [
    "## Set-Operatoren\n",
    "\n",
    "* **Schnittmenge**:\n",
    "Die Menge $U$ derjenigen Elemente, die in allen Mengen die zur Schnittmenge gehören enthalten sind. In Python lässt sich die Schnittmenge mehrerer Mengen durch den `&`-Operator erzeugen. \n",
    "$$ U = A \\cap B$$ \n",
    "* **Vereinigungsmenge**: Die Menge $U$ derjenigen Elemente, die mindestens in einer der Teilmengen vorkommen. Lässt sich entweder durch die Verwendung eines `|`-Operators oder durch die `set`-Methode `.union()` erzeugen. $$U = A \\cup B$$  \n",
    "* **Differenz**: Bestimmt hinsichtlich zweier Mengen ($A$, $B$), ist die Restmenge $U$ die Menge aller Elemente die nur in $A$ vorkommt. Wird in Python entweder durch den `-`-Operator oder die Methode `.difference()` erzeugt.\n",
    "$$A \\setminus B$$ \n",
    "* **Symmetrische Differenz**: Bestimmt hinsichtlich zweier Mengen ($A$, $B$), ist dies die Menge $U$ aller Elemente, die nicht in der Schnittmenge $A \\cap B$ enthalten sind. In Python wird eine symmetrische Differenz mittels des `^`-Operators oder durch die Methode `.symmetric_difference()` gebildet.  \n",
    "$$A \\triangle B$$"
   ]
  },
  {
   "cell_type": "markdown",
   "metadata": {
    "slideshow": {
     "slide_type": "subslide"
    }
   },
   "source": [
    "## Beispiel"
   ]
  },
  {
   "cell_type": "code",
   "execution_count": 54,
   "metadata": {},
   "outputs": [
    {
     "data": {
      "text/plain": [
       "{'Eggs', 'Spam', 'Spezi'}"
      ]
     },
     "execution_count": 54,
     "metadata": {},
     "output_type": "execute_result"
    }
   ],
   "source": [
    "groceries = set(['Bacon', 'Butter', 'Eggs', 'Spam'])\n",
    "\n",
    "groceries ^ fridge"
   ]
  },
  {
   "cell_type": "markdown",
   "metadata": {
    "slideshow": {
     "slide_type": "slide"
    }
   },
   "source": [
    "# Diktionäre (mapping)"
   ]
  },
  {
   "cell_type": "markdown",
   "metadata": {
    "slideshow": {
     "slide_type": "subslide"
    }
   },
   "source": [
    "## Python `dict`\n",
    "\n",
    "Ungeordnete Sammlung von Elementen die jeweils über einen einzigartigen Schlüssel angesprochen werden können. Diktionäre werden mit `{` geöffnet und mit `}` geschlossen. `key-value` Paare bestehen jeweils aus einem Schlüssel und dem dazugehörigen Wert, beides wird mit `:` von einander getrennt. Die Abtrennung unterschiedlicher Paare geschieht mit `,`.\n",
    "\n",
    "```python\n",
    "D = {key1: value1, \n",
    "     key2: value2, \n",
    "     ...}\n",
    "```"
   ]
  },
  {
   "cell_type": "code",
   "execution_count": 1,
   "metadata": {
    "slideshow": {
     "slide_type": "subslide"
    }
   },
   "outputs": [
    {
     "name": "stdout",
     "output_type": "stream",
     "text": [
      "Thomas\n",
      "Mustermann\n"
     ]
    }
   ],
   "source": [
    "D = {'Vorname': 'Thomas', 'Nachname': 'Mustermann' }\n",
    "\n",
    "print(D['Vorname'])\n",
    "print(D['Nachname'])"
   ]
  },
  {
   "cell_type": "markdown",
   "metadata": {
    "slideshow": {
     "slide_type": "subslide"
    }
   },
   "source": [
    "## Keine Sequenz, kein Index\n",
    "\n",
    "Werte können im Diktionär nur über den entsprechenden Schlüssel angesprochen werden. Jedoch können Diktionäre (mit ihren eigenen Methoden) problemlos in andere Typen konvertiert werden, die über einen Index verfügen."
   ]
  },
  {
   "cell_type": "code",
   "execution_count": 57,
   "metadata": {
    "slideshow": {
     "slide_type": "-"
    }
   },
   "outputs": [
    {
     "data": {
      "text/plain": [
       "{'Nachname': 'Mustermann', 'Vorname': 'Thomas'}"
      ]
     },
     "execution_count": 57,
     "metadata": {},
     "output_type": "execute_result"
    }
   ],
   "source": [
    "D"
   ]
  },
  {
   "cell_type": "markdown",
   "metadata": {
    "slideshow": {
     "slide_type": "subslide"
    }
   },
   "source": [
    "## Diktionär-Methoden der Transformation\n",
    "\n",
    "Welchen Typ haben die resultierenden Datentypen?"
   ]
  },
  {
   "cell_type": "code",
   "execution_count": 58,
   "metadata": {
    "slideshow": {
     "slide_type": "-"
    }
   },
   "outputs": [
    {
     "name": "stdout",
     "output_type": "stream",
     "text": [
      "dict_keys(['Vorname', 'Nachname'])\n",
      "dict_values(['Thomas', 'Mustermann'])\n",
      "dict_items([('Vorname', 'Thomas'), ('Nachname', 'Mustermann')])\n"
     ]
    }
   ],
   "source": [
    "## Schlüssel ausgeben\n",
    "print(D.keys())\n",
    "\n",
    "## Werte ausgeben\n",
    "print(D.values())\n",
    "\n",
    "## Paare (Elemente) ausgeben\n",
    "print(D.items())"
   ]
  },
  {
   "cell_type": "markdown",
   "metadata": {
    "slideshow": {
     "slide_type": "subslide"
    }
   },
   "source": [
    "## Diktionäre sind Hash-Tables\n",
    "\n",
    "Bei Pythons `dict` handelt es sich technisch betrachtet um [*hashtables*](http://en.wikipedia.org/wiki/Hash_table). Dabei handelt es sich um eine äußerst elegante und leistungsfähige Art Daten zu verwalten.\n",
    "\n",
    "![Hash table](http://upload.wikimedia.org/wikipedia/commons/thumb/7/7d/Hash_table_3_1_1_0_1_0_0_SP.svg/315px-Hash_table_3_1_1_0_1_0_0_SP.svg.png)"
   ]
  }
 ],
 "metadata": {
  "celltoolbar": "Slideshow",
  "kernelspec": {
   "display_name": "Python 3 (ipykernel)",
   "language": "python",
   "name": "python3"
  },
  "language_info": {
   "codemirror_mode": {
    "name": "ipython",
    "version": 3
   },
   "file_extension": ".py",
   "mimetype": "text/x-python",
   "name": "python",
   "nbconvert_exporter": "python",
   "pygments_lexer": "ipython3",
   "version": "3.10.2"
  }
 },
 "nbformat": 4,
 "nbformat_minor": 1
}
