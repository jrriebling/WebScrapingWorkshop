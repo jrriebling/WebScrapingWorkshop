{
 "cells": [
  {
   "cell_type": "markdown",
   "id": "7ee68a9c",
   "metadata": {
    "slideshow": {
     "slide_type": "slide"
    }
   },
   "source": [
    "**Web Scraping und Data Mining in Python**\n",
    "\n",
    "# Projekt Jupyter\n",
    "\n",
    "Jan R. Riebling, *Universität Wuppertal*"
   ]
  },
  {
   "cell_type": "markdown",
   "id": "1cc664e7",
   "metadata": {
    "slideshow": {
     "slide_type": "slide"
    }
   },
   "source": [
    "# Allgemein"
   ]
  },
  {
   "cell_type": "markdown",
   "id": "710ab239",
   "metadata": {
    "slideshow": {
     "slide_type": "subslide"
    }
   },
   "source": [
    "## Project Jupyter\n",
    "\n",
    "Ökosystem für wissenschaftliches Arbeiten. Einige zentrale Bestandteile der [Architektur](https://docs.jupyter.org/en/latest/projects/architecture/content-architecture.html):\n",
    "\n",
    "* IPython Kernel.\n",
    "* Jupyter Notebook.\n",
    "* JupyterLab und JupyterHub."
   ]
  },
  {
   "cell_type": "markdown",
   "id": "7b25a7b6",
   "metadata": {
    "slideshow": {
     "slide_type": "subslide"
    }
   },
   "source": [
    "## Kernels\n",
    "\n",
    "Neben dem Standard (IPython) sind zahlreiche weitere Kernel für andere Sprachen vorhanden: [https://github.com/jupyter/jupyter/wiki/Jupyter-kernels](https://github.com/jupyter/jupyter/wiki/Jupyter-kernels)."
   ]
  },
  {
   "cell_type": "markdown",
   "id": "1da6e864",
   "metadata": {
    "slideshow": {
     "slide_type": "slide"
    }
   },
   "source": [
    "# Jupyter Notebook"
   ]
  },
  {
   "cell_type": "markdown",
   "id": "450513c6",
   "metadata": {
    "slideshow": {
     "slide_type": "subslide"
    }
   },
   "source": [
    "## Dokumentation\n",
    "\n",
    "[https://docs.jupyter.org/en/latest/running.html](https://docs.jupyter.org/en/latest/running.html)"
   ]
  },
  {
   "cell_type": "markdown",
   "id": "07ca956d",
   "metadata": {
    "slideshow": {
     "slide_type": "slide"
    }
   },
   "source": [
    "# JupyterLab"
   ]
  },
  {
   "cell_type": "markdown",
   "id": "6fa32b5e",
   "metadata": {
    "slideshow": {
     "slide_type": "subslide"
    }
   },
   "source": [
    "## Dokumentation\n",
    "\n",
    "[https://jupyterlab.readthedocs.io/en/stable/](https://jupyterlab.readthedocs.io/en/stable/)"
   ]
  }
 ],
 "metadata": {
  "celltoolbar": "Slideshow",
  "kernelspec": {
   "display_name": "Python 3 (ipykernel)",
   "language": "python",
   "name": "python3"
  },
  "language_info": {
   "codemirror_mode": {
    "name": "ipython",
    "version": 3
   },
   "file_extension": ".py",
   "mimetype": "text/x-python",
   "name": "python",
   "nbconvert_exporter": "python",
   "pygments_lexer": "ipython3",
   "version": "3.10.2"
  }
 },
 "nbformat": 4,
 "nbformat_minor": 5
}
