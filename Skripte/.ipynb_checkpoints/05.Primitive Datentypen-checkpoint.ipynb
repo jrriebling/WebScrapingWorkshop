{
 "cells": [
  {
   "cell_type": "markdown",
   "metadata": {
    "slideshow": {
     "slide_type": "slide"
    }
   },
   "source": [
    "**Web Scraping und Data Mining in Python**\n",
    "\n",
    "\n",
    "# Primitive Datentypen\n",
    "\n",
    "\n",
    "\n",
    "Jan Riebling, *Universität Wuppertal*"
   ]
  },
  {
   "cell_type": "markdown",
   "metadata": {
    "slideshow": {
     "slide_type": "slide"
    }
   },
   "source": [
    "# Grundlagen"
   ]
  },
  {
   "cell_type": "markdown",
   "metadata": {
    "slideshow": {
     "slide_type": "subslide"
    }
   },
   "source": [
    "## Pythons Datenmodell\n",
    "\n",
    "Alles ist ein Objekt. Das bedeutet:\n",
    "\n",
    "* Zugehörigkeit zu einer bestimmten Klasse (`type()`).\n",
    "* Ein feste Identität (`id()`).\n",
    "* Hat zugeordnete Attribute und Methoden (`dir()`).\n",
    "\n",
    "Jedes Objekt existiert nur in Abhängigkeit zu anderen Objekten."
   ]
  },
  {
   "cell_type": "markdown",
   "metadata": {
    "slideshow": {
     "slide_type": "subslide"
    }
   },
   "source": [
    "## Typen\n",
    "\n",
    "Der Typ gibt die grundlegende Art eines Elements an. In Programiersprachen bedeutet dies, dass die möglichen Operationen eines Objekts von dessen Typ vorgegeben werden.\n",
    "\n",
    "Die Werte `True` und `False` sind Beispiele für Elemente vom boolschen Typ."
   ]
  },
  {
   "cell_type": "code",
   "execution_count": 4,
   "metadata": {},
   "outputs": [
    {
     "data": {
      "text/plain": [
       "bool"
      ]
     },
     "execution_count": 4,
     "metadata": {},
     "output_type": "execute_result"
    }
   ],
   "source": [
    "type(False)"
   ]
  },
  {
   "cell_type": "code",
   "execution_count": null,
   "metadata": {
    "slideshow": {
     "slide_type": "subslide"
    }
   },
   "outputs": [],
   "source": [
    "1 + 2"
   ]
  },
  {
   "cell_type": "code",
   "execution_count": null,
   "metadata": {},
   "outputs": [],
   "source": [
    "'1' + '2'"
   ]
  },
  {
   "cell_type": "markdown",
   "metadata": {
    "slideshow": {
     "slide_type": "subslide"
    }
   },
   "source": [
    "## Dynamische Typisierung\n",
    "\n",
    "Python verwendet dynamische Typen, d.h. der Typ eines Objekts wird aus dem Kontext und für gewöhnlich nicht explizit bestimmt. "
   ]
  },
  {
   "cell_type": "code",
   "execution_count": 4,
   "metadata": {},
   "outputs": [
    {
     "data": {
      "text/plain": [
       "int"
      ]
     },
     "execution_count": 4,
     "metadata": {},
     "output_type": "execute_result"
    }
   ],
   "source": [
    "type(123)"
   ]
  },
  {
   "cell_type": "code",
   "execution_count": 2,
   "metadata": {},
   "outputs": [
    {
     "data": {
      "text/plain": [
       "str"
      ]
     },
     "execution_count": 2,
     "metadata": {},
     "output_type": "execute_result"
    }
   ],
   "source": [
    "type('123')"
   ]
  },
  {
   "cell_type": "markdown",
   "metadata": {
    "slideshow": {
     "slide_type": "subslide"
    }
   },
   "source": [
    "## Hierarchie der Typen:\n",
    "\n",
    "in zunehmender Komplexität:\n",
    "\n",
    "* [Boolsche Ausdrücke](https://docs.python.org/3/library/stdtypes.html#boolean-operations-and-or-not)\n",
    "* [Zahlen](https://docs.python.org/3/library/stdtypes.html#numeric-types-int-float-long-complex) (`int`, `long`, `float`)\n",
    "* [Sequenzen](https://docs.python.org/3/library/stdtypes.html#sequence-types-str-unicode-list-tuple-bytearray-buffer-xrange) (`str`, `list`, `tuple`)\n",
    "* [Sets](https://docs.python.org/3/library/stdtypes.html#set-types-set-frozenset) (`set`)\n",
    "* [Mappings](https://docs.python.org/3/library/stdtypes.html#mapping-types-dict) (`dict`)\n",
    "* Funktionen u. Methoden"
   ]
  },
  {
   "cell_type": "markdown",
   "metadata": {
    "slideshow": {
     "slide_type": "subslide"
    }
   },
   "source": [
    "## Fortgeschrittene Typen\n",
    "\n",
    "Weiterentwickelungen von Datentypen, die auf den primitiven Typen aufbauen. Sie weisen daher oft „Kombinationen“ der Eigenschaften primitiver Typen auf.\n",
    "\n",
    "* Vektoren: Listen deren Element alle dem selben Datentyp angehören.\n",
    "* Matrizen: 2-dimensionale Vektoren.\n",
    "* Arrays: n-dimensionale Vektoren.\n",
    "* DataFrames: Ein Diktionär von Vektoren.\n",
    "* ..."
   ]
  },
  {
   "cell_type": "code",
   "execution_count": 6,
   "metadata": {},
   "outputs": [
    {
     "data": {
      "text/plain": [
       "array([2, 3, 4])"
      ]
     },
     "execution_count": 6,
     "metadata": {},
     "output_type": "execute_result"
    }
   ],
   "source": [
    "import numpy as np\n",
    "\n",
    "np.array([1, 2, 3]) + 1"
   ]
  },
  {
   "cell_type": "markdown",
   "metadata": {
    "slideshow": {
     "slide_type": "slide"
    }
   },
   "source": [
    "# Quirks of type\n",
    "\n",
    "![types](https://imgs.xkcd.com/comics/types.png)"
   ]
  },
  {
   "cell_type": "markdown",
   "metadata": {
    "slideshow": {
     "slide_type": "slide"
    }
   },
   "source": [
    "# Operatoren"
   ]
  },
  {
   "cell_type": "markdown",
   "metadata": {
    "slideshow": {
     "slide_type": "subslide"
    }
   },
   "source": [
    "* Arithmethic operators (`+`, `-`, `/`, `*`, etc.)\n",
    "* Boolean operators (`and`, `or`, `not`, `==`, etc.)\n",
    "* Set operators (`&`, `|`, `.union()`, etc.)"
   ]
  },
  {
   "cell_type": "markdown",
   "metadata": {
    "slideshow": {
     "slide_type": "subslide"
    }
   },
   "source": [
    "## Operatoren sind Methoden\n",
    "\n",
    "Im Prinzip handelt es sich dabei nur um Abkürzungen für den Ruf einer Methode. Dementsprechend finden sie sich auch als Attribute der Objekte. Z.B.: `__add__` entspricht `+`."
   ]
  },
  {
   "cell_type": "code",
   "execution_count": 10,
   "metadata": {},
   "outputs": [
    {
     "data": {
      "text/plain": [
       "0.5"
      ]
     },
     "execution_count": 10,
     "metadata": {},
     "output_type": "execute_result"
    }
   ],
   "source": [
    "1 / 2"
   ]
  },
  {
   "cell_type": "code",
   "execution_count": 12,
   "metadata": {},
   "outputs": [
    {
     "data": {
      "text/plain": [
       "'2222'"
      ]
     },
     "execution_count": 12,
     "metadata": {},
     "output_type": "execute_result"
    }
   ],
   "source": [
    "'2' * 4"
   ]
  },
  {
   "cell_type": "code",
   "execution_count": 14,
   "metadata": {},
   "outputs": [
    {
     "data": {
      "text/plain": [
       "[2, 2, 2, 2, 2, 2, 2, 2, 2, 2]"
      ]
     },
     "execution_count": 14,
     "metadata": {},
     "output_type": "execute_result"
    }
   ],
   "source": [
    "[2] * 10"
   ]
  },
  {
   "cell_type": "markdown",
   "metadata": {
    "slideshow": {
     "slide_type": "slide"
    }
   },
   "source": [
    "## Zuweisung\n",
    "\n",
    "Nur Objekte denen ein Name mittels `=` zugewiesen wurde bestehen im „Namespace“, d.h. im Arbeitsspeicher der aktiven Instanz von Python, fort."
   ]
  },
  {
   "cell_type": "code",
   "execution_count": 5,
   "metadata": {
    "slideshow": {
     "slide_type": ""
    }
   },
   "outputs": [
    {
     "name": "stdout",
     "output_type": "stream",
     "text": [
      "3\n",
      "0.5\n"
     ]
    }
   ],
   "source": [
    "a = 1\n",
    "b = 2\n",
    "\n",
    "print(a+b)\n",
    "print(a/b)"
   ]
  },
  {
   "cell_type": "markdown",
   "metadata": {
    "slideshow": {
     "slide_type": "subslide"
    }
   },
   "source": [
    "## Namen $\\neq$ Objekte"
   ]
  },
  {
   "cell_type": "code",
   "execution_count": null,
   "metadata": {},
   "outputs": [],
   "source": [
    "x = [4, 5, 9, 1, 0.5]\n",
    "y = x\n",
    "\n",
    "y.sort()\n",
    "\n",
    "print(x)\n",
    "print(y)"
   ]
  },
  {
   "cell_type": "code",
   "execution_count": null,
   "metadata": {
    "slideshow": {
     "slide_type": "subslide"
    }
   },
   "outputs": [],
   "source": [
    "## `is` testet auf Identität\n",
    "y is x"
   ]
  },
  {
   "cell_type": "code",
   "execution_count": null,
   "metadata": {
    "slideshow": {
     "slide_type": "subslide"
    }
   },
   "outputs": [],
   "source": [
    "## == tests for equivalence\n",
    "a, b = 1, 1.0\n",
    "\n",
    "print(a == b)\n",
    "print(a is b)"
   ]
  },
  {
   "cell_type": "markdown",
   "metadata": {
    "slideshow": {
     "slide_type": "subslide"
    }
   },
   "source": [
    "## Regeln für die Namensgebung\n",
    "\n",
    "* Muss mit einem Buchstaben beginnen.\n",
    "* Darf nur Buchstaben und Zahlen beinhalten. Seit Python 3, kompatibel mit Unicode.\n",
    "\n",
    "Konventionen:\n",
    "\n",
    "* Sprechende Namen verwenden.\n",
    "* Einfache Objekte: kleingeschrieben und zusammen.\n",
    "* Funktionen: kleingeschrieben und mit Unterstrich (`_`) getrennt.\n",
    "* Abstrakte Klassen: Mit Großschreibung beginnen und mit CamelCase fortsetzen. "
   ]
  },
  {
   "cell_type": "markdown",
   "metadata": {
    "slideshow": {
     "slide_type": "subslide"
    }
   },
   "source": [
    "## Weitere Regeln\n",
    "\n",
    "Der Python Styleguide: [PEP 8](https://peps.python.org/pep-0008/)."
   ]
  },
  {
   "cell_type": "markdown",
   "metadata": {
    "slideshow": {
     "slide_type": "slide"
    }
   },
   "source": [
    "# Singuläre Typen"
   ]
  },
  {
   "cell_type": "markdown",
   "metadata": {
    "slideshow": {
     "slide_type": "subslide"
    }
   },
   "source": [
    "## Integer vs. Floating Point\n",
    "\n",
    "* Integer: Ganze Zahl.\n",
    "* Floating Point: Gleitkommazahl, versucht eine Dezimalzahl auf der binären Zahlengeraden abzubilden."
   ]
  },
  {
   "cell_type": "code",
   "execution_count": 6,
   "metadata": {},
   "outputs": [
    {
     "data": {
      "text/plain": [
       "0.30000000000000004"
      ]
     },
     "execution_count": 6,
     "metadata": {},
     "output_type": "execute_result"
    }
   ],
   "source": [
    "0.1 + 0.2"
   ]
  },
  {
   "cell_type": "markdown",
   "metadata": {
    "slideshow": {
     "slide_type": "subslide"
    }
   },
   "source": [
    "## String\n",
    "\n",
    "Eine beliebig lange Zeichenkette. Beginnt entweder mit `'` oder `\"` und muss immer auf die selbe Art beendet werden. Einmal definiert sind Strings nicht mehr veränderbar (ohne einen neuen String zu erzeugen!)."
   ]
  },
  {
   "cell_type": "code",
   "execution_count": 12,
   "metadata": {},
   "outputs": [
    {
     "data": {
      "text/plain": [
       "'1111111111'"
      ]
     },
     "execution_count": 12,
     "metadata": {},
     "output_type": "execute_result"
    }
   ],
   "source": [
    "'1' * 10"
   ]
  },
  {
   "cell_type": "markdown",
   "metadata": {
    "slideshow": {
     "slide_type": "subslide"
    }
   },
   "source": [
    "## Escaping\n",
    "\n",
    "Sonderzeichen in einem String, wie der Tabulator oder Unicode-Zeichen (z.B. Umlaute) können problematisch sein und müssen mit einem Backslash gekennzeichnet (escaped) werden. Alternativ kann der String auch mit dreifachen Anführungszeichen eröffnet und ebenso wieder geschlossen werden. Dies erhält alle Sonderzeichen, sogar über Zeilenumbrüche hinweg."
   ]
  },
  {
   "cell_type": "code",
   "execution_count": null,
   "metadata": {
    "slideshow": {
     "slide_type": "subslide"
    }
   },
   "outputs": [],
   "source": [
    "print(\"\"Max's Bar\" ist nicht nur stilistisch problematisch.\")"
   ]
  },
  {
   "cell_type": "markdown",
   "metadata": {
    "slideshow": {
     "slide_type": "subslide"
    }
   },
   "source": [
    "## Indexierung\n",
    "\n",
    "Python-Objekte, die geordnetet Sequenzen darstellen (z.B. Strings, Listen, Tupel) können über einen Index angesprochen werden. Dieser Index erlaubt es einzelne Elemente oder Gruppen von Elementen innerhalb der Sequenz zu spezifizieren.\n",
    "\n",
    "Es gilt folgende formale Definition:\n",
    "\n",
    "`Objekt[i:j:k]` = Von `i` bis unter `j` in `k` Schritten."
   ]
  },
  {
   "cell_type": "markdown",
   "metadata": {
    "slideshow": {
     "slide_type": "subslide"
    }
   },
   "source": [
    "## Python beginnt im Erdgeschoss!\n",
    "\n",
    "|-6|-5|-4|-3|-2|-1|0|1|2|3|4|5|\n",
    "|:--:|:--:|:--:|:--:|:--:|:--:|:-:|:-:|:-:|:-:|:-:|:-:|\n",
    "| $\\,$ | $\\,$ | $\\,$ | $\\,$ | $\\,$ | $\\,$ |S  |t  |r  |i  |n  |g  |\n",
    "|S   |t   |r   |i   |n   |g   \n"
   ]
  },
  {
   "cell_type": "code",
   "execution_count": 7,
   "metadata": {
    "slideshow": {
     "slide_type": "-"
    }
   },
   "outputs": [],
   "source": [
    "## Übung\n",
    "s = 'String'"
   ]
  }
 ],
 "metadata": {
  "celltoolbar": "Slideshow",
  "kernelspec": {
   "display_name": "Python 3 (ipykernel)",
   "language": "python",
   "name": "python3"
  },
  "language_info": {
   "codemirror_mode": {
    "name": "ipython",
    "version": 3
   },
   "file_extension": ".py",
   "mimetype": "text/x-python",
   "name": "python",
   "nbconvert_exporter": "python",
   "pygments_lexer": "ipython3",
   "version": "3.10.2"
  }
 },
 "nbformat": 4,
 "nbformat_minor": 1
}
