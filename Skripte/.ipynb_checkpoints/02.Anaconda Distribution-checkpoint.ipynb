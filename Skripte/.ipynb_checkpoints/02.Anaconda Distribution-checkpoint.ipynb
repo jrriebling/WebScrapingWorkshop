{
 "cells": [
  {
   "cell_type": "markdown",
   "id": "98dbdcf1",
   "metadata": {
    "slideshow": {
     "slide_type": "slide"
    }
   },
   "source": [
    "**Web Scraping und Data Mining in Python**\n",
    "\n",
    "# Anaconda Distribution und `conda` Package-Management\n",
    "\n",
    "Jan R. Riebling, *Universität Wuppertal*"
   ]
  },
  {
   "cell_type": "markdown",
   "id": "53a3d932",
   "metadata": {
    "slideshow": {
     "slide_type": "slide"
    }
   },
   "source": [
    "# Python"
   ]
  },
  {
   "cell_type": "markdown",
   "id": "d11ec8cd",
   "metadata": {
    "slideshow": {
     "slide_type": "subslide"
    }
   },
   "source": [
    "## Eigenschaften\n",
    "\n",
    "* Vollständige, open-source, high-level Programmiersprache ([Docs](https://docs.python.org/3/index.html)).\n",
    "* Große [Standardbibliothek](https://docs.python.org/3/library/index.html).\n",
    "* Kann durch zusätzliche Bibliotheken (Packages) erweitert werden. Index der Python Pakete: [PyPI](https://pypi.org/)."
   ]
  },
  {
   "cell_type": "markdown",
   "id": "24923da6",
   "metadata": {
    "slideshow": {
     "slide_type": "subslide"
    }
   },
   "source": [
    "## Hello World!\n",
    "\n",
    "Erstes Beispiel in jeder Sprache: Ausgabe von `Hello World!`. Erlaubt die Eigenschaften der Sprache abzuschätzen."
   ]
  },
  {
   "cell_type": "code",
   "execution_count": 1,
   "id": "e44a154d",
   "metadata": {},
   "outputs": [
    {
     "name": "stdout",
     "output_type": "stream",
     "text": [
      "Hello World!\n"
     ]
    }
   ],
   "source": [
    "print('Hello World!')"
   ]
  },
  {
   "cell_type": "markdown",
   "id": "4b7c4c86",
   "metadata": {
    "slideshow": {
     "slide_type": "subslide"
    }
   },
   "source": [
    "## Web-Scraping Bibliotheken\n",
    "\n",
    "* [urllib](https://docs.python.org/3/library/urllib.html): Python-Standardbibliothek für das Auflösen von URLs, inklusive [HowTo](https://docs.python.org/3/howto/urllib2.html).\n",
    "* [Beautiful Soup](https://beautiful-soup-4.readthedocs.io/en/latest/): Python Bibliothek zur Extraktion von Daten aus HTML- und XML-Dokumenten.\n",
    "* [Selenium](https://selenium-python.readthedocs.io/): Bibliothek für automatisierte Tests, erlaubt das Fernsteuern eines Browsers."
   ]
  },
  {
   "cell_type": "markdown",
   "id": "043c2c55",
   "metadata": {
    "slideshow": {
     "slide_type": "subslide"
    }
   },
   "source": [
    "##  IPython\n",
    "\n",
    "Python Distribution, auf interaktives, wissenschaftliches Programmieren ausgelegt.\n",
    "\n",
    "**Anaconda**: IPython Paket mit einer Vielzahl von vorinstallierten Modulen und Konfigurationen für wissenschaftliche Anwendungen. Funktioniert normalerweise \"out-of-the-box\".\n",
    "\n",
    "**Spyder**: In Anconda enthaltene IDE (Integrated Development Environment). Entwicklungsumgebung für komplexe Programmiertätigkeiten und Entwicklung von eigenen Funktionen / Objekten / Modulen.\n",
    "\n",
    "**Jupyter Notebook**: Vormaliges IPython Notebook. Browserbasierte Analyse- und Visualisierungsumgebung. Erlaubt die Kombination von Text, Code und Output."
   ]
  },
  {
   "cell_type": "markdown",
   "id": "cf9d828f",
   "metadata": {
    "slideshow": {
     "slide_type": "subslide"
    }
   },
   "source": [
    "## Shells und Kommandozeilen\n",
    "\n",
    "* **Terminal**: Kommuniziert mit dem Betriebssystem/Mainframe. In modernen Systemen emuliert oder virtualisiert.\n",
    "* **Kommandozeile/Commandshell**: Direkter Zugriff auf die Funktionen des Betriebssystems vermittlet durch eine bestimmte Shell-Sprache.\n",
    "* **(I)Python-Shell**: Kommandozeilenzugriff auf den Interpreter. Für schnelle Tests und sehr erfahrene Benutzer. IPythons Shell kommt mit einer Reihe von hilfreichen Zusatzbefehlen, sogenannten „magics“.\n"
   ]
  },
  {
   "cell_type": "markdown",
   "id": "0e1443e2",
   "metadata": {
    "slideshow": {
     "slide_type": "subslide"
    }
   },
   "source": [
    "## Navigation\n",
    "\n",
    "Öffnen eines Terminals / Shell / Kommandozeile.\n",
    "\n",
    "Die wichtigsten Shell-Befehle für:\n",
    "\n",
    "* Linux/Unix/MacOS: [Link](http://www.shellbefehle.de/befehle/)\n",
    "* Windows: [Link](https://www.script-example.com/themen/cmd_Batch_Befehle.php)"
   ]
  },
  {
   "cell_type": "code",
   "execution_count": 1,
   "id": "1691f8a0",
   "metadata": {
    "slideshow": {
     "slide_type": "subslide"
    }
   },
   "outputs": [
    {
     "data": {
      "application/json": {
       "cell": {
        "!": "OSMagics",
        "HTML": "Other",
        "SVG": "Other",
        "bash": "Other",
        "capture": "ExecutionMagics",
        "debug": "ExecutionMagics",
        "file": "Other",
        "html": "DisplayMagics",
        "javascript": "DisplayMagics",
        "js": "DisplayMagics",
        "latex": "DisplayMagics",
        "markdown": "DisplayMagics",
        "perl": "Other",
        "prun": "ExecutionMagics",
        "pypy": "Other",
        "python": "Other",
        "python2": "Other",
        "python3": "Other",
        "ruby": "Other",
        "script": "ScriptMagics",
        "sh": "Other",
        "svg": "DisplayMagics",
        "sx": "OSMagics",
        "system": "OSMagics",
        "time": "ExecutionMagics",
        "timeit": "ExecutionMagics",
        "writefile": "OSMagics"
       },
       "line": {
        "alias": "OSMagics",
        "alias_magic": "BasicMagics",
        "autoawait": "AsyncMagics",
        "autocall": "AutoMagics",
        "automagic": "AutoMagics",
        "autosave": "KernelMagics",
        "bookmark": "OSMagics",
        "cat": "Other",
        "cd": "OSMagics",
        "clear": "KernelMagics",
        "colors": "BasicMagics",
        "conda": "PackagingMagics",
        "config": "ConfigMagics",
        "connect_info": "KernelMagics",
        "cp": "Other",
        "debug": "ExecutionMagics",
        "dhist": "OSMagics",
        "dirs": "OSMagics",
        "doctest_mode": "BasicMagics",
        "ed": "Other",
        "edit": "KernelMagics",
        "env": "OSMagics",
        "gui": "BasicMagics",
        "hist": "Other",
        "history": "HistoryMagics",
        "killbgscripts": "ScriptMagics",
        "ldir": "Other",
        "less": "KernelMagics",
        "lf": "Other",
        "lk": "Other",
        "ll": "Other",
        "load": "CodeMagics",
        "load_ext": "ExtensionMagics",
        "loadpy": "CodeMagics",
        "logoff": "LoggingMagics",
        "logon": "LoggingMagics",
        "logstart": "LoggingMagics",
        "logstate": "LoggingMagics",
        "logstop": "LoggingMagics",
        "ls": "Other",
        "lsmagic": "BasicMagics",
        "lx": "Other",
        "macro": "ExecutionMagics",
        "magic": "BasicMagics",
        "man": "KernelMagics",
        "matplotlib": "PylabMagics",
        "mkdir": "Other",
        "more": "KernelMagics",
        "mv": "Other",
        "notebook": "BasicMagics",
        "page": "BasicMagics",
        "pastebin": "CodeMagics",
        "pdb": "ExecutionMagics",
        "pdef": "NamespaceMagics",
        "pdoc": "NamespaceMagics",
        "pfile": "NamespaceMagics",
        "pinfo": "NamespaceMagics",
        "pinfo2": "NamespaceMagics",
        "pip": "PackagingMagics",
        "popd": "OSMagics",
        "pprint": "BasicMagics",
        "precision": "BasicMagics",
        "prun": "ExecutionMagics",
        "psearch": "NamespaceMagics",
        "psource": "NamespaceMagics",
        "pushd": "OSMagics",
        "pwd": "OSMagics",
        "pycat": "OSMagics",
        "pylab": "PylabMagics",
        "qtconsole": "KernelMagics",
        "quickref": "BasicMagics",
        "recall": "HistoryMagics",
        "rehashx": "OSMagics",
        "reload_ext": "ExtensionMagics",
        "rep": "Other",
        "rerun": "HistoryMagics",
        "reset": "NamespaceMagics",
        "reset_selective": "NamespaceMagics",
        "rm": "Other",
        "rmdir": "Other",
        "run": "ExecutionMagics",
        "save": "CodeMagics",
        "sc": "OSMagics",
        "set_env": "OSMagics",
        "store": "StoreMagics",
        "sx": "OSMagics",
        "system": "OSMagics",
        "tb": "ExecutionMagics",
        "time": "ExecutionMagics",
        "timeit": "ExecutionMagics",
        "unalias": "OSMagics",
        "unload_ext": "ExtensionMagics",
        "who": "NamespaceMagics",
        "who_ls": "NamespaceMagics",
        "whos": "NamespaceMagics",
        "xdel": "NamespaceMagics",
        "xmode": "BasicMagics"
       }
      },
      "text/plain": [
       "Available line magics:\n",
       "%alias  %alias_magic  %autoawait  %autocall  %automagic  %autosave  %bookmark  %cat  %cd  %clear  %colors  %conda  %config  %connect_info  %cp  %debug  %dhist  %dirs  %doctest_mode  %ed  %edit  %env  %gui  %hist  %history  %killbgscripts  %ldir  %less  %lf  %lk  %ll  %load  %load_ext  %loadpy  %logoff  %logon  %logstart  %logstate  %logstop  %ls  %lsmagic  %lx  %macro  %magic  %man  %matplotlib  %mkdir  %more  %mv  %notebook  %page  %pastebin  %pdb  %pdef  %pdoc  %pfile  %pinfo  %pinfo2  %pip  %popd  %pprint  %precision  %prun  %psearch  %psource  %pushd  %pwd  %pycat  %pylab  %qtconsole  %quickref  %recall  %rehashx  %reload_ext  %rep  %rerun  %reset  %reset_selective  %rm  %rmdir  %run  %save  %sc  %set_env  %store  %sx  %system  %tb  %time  %timeit  %unalias  %unload_ext  %who  %who_ls  %whos  %xdel  %xmode\n",
       "\n",
       "Available cell magics:\n",
       "%%!  %%HTML  %%SVG  %%bash  %%capture  %%debug  %%file  %%html  %%javascript  %%js  %%latex  %%markdown  %%perl  %%prun  %%pypy  %%python  %%python2  %%python3  %%ruby  %%script  %%sh  %%svg  %%sx  %%system  %%time  %%timeit  %%writefile\n",
       "\n",
       "Automagic is ON, % prefix IS NOT needed for line magics."
      ]
     },
     "execution_count": 1,
     "metadata": {},
     "output_type": "execute_result"
    }
   ],
   "source": [
    "## Magie gibt es auch im Notebook\n",
    "\n",
    "%lsmagic"
   ]
  },
  {
   "cell_type": "markdown",
   "id": "d05926b7",
   "metadata": {
    "slideshow": {
     "slide_type": "subslide"
    }
   },
   "source": [
    "## Hilfestellung\n",
    "\n",
    "1. `-h`, `--help`, `?` oder auf irgendwas mit „Help“/„Hilfe“ klicken.\n",
    "2. Die Dokumentation lesen. Auf linux funktioniert oft `man <name des Befehls>`.\n",
    "3. Jemanden fragen der sich auskennt, zum Beispiel auf [Stack Overflow](https://stackoverflow.com/).\n",
    "4. Googlen hilft."
   ]
  },
  {
   "cell_type": "markdown",
   "id": "dcc0c756",
   "metadata": {
    "slideshow": {
     "slide_type": "slide"
    }
   },
   "source": [
    "# Anaconda"
   ]
  },
  {
   "cell_type": "markdown",
   "id": "f401164c",
   "metadata": {
    "slideshow": {
     "slide_type": "subslide"
    }
   },
   "source": [
    "## Scientific Python Distribution\n",
    "\n",
    "Abgestimmtes Komplettpaket zahlreicher Pythonbibliotheken mit notwendigen Dependenzen und einer Vielzahl von Programmen. Wichtige Entwicklungsumgebungen:\n",
    "\n",
    "**Spyder**: **S**cientific **Py**thon **d**evelopment **e**nvi**r**onment (d.h. ein fancy Editor). Spezifische Unterstützung für wissenschaftliches Arbeiten. Wirkt kompliziert ist jedoch benutzerfreundlicher als das Notebook.\n",
    "\n",
    "**Jupyter Notebook**: Erlaubt flüssiges schreiben und interaktive Datenanalyse. Spezifische Veränderungen am Notebook selbst erfordern tiefgehendere Programmierkenntnisse."
   ]
  },
  {
   "cell_type": "markdown",
   "id": "bef611a4",
   "metadata": {
    "slideshow": {
     "slide_type": "subslide"
    }
   },
   "source": [
    "## Anaconda Hilfsprogramme\n",
    "\n",
    "* `conda`: Anaconda Paket-Manager. Erlaubt die Installation und Verwaltung von zusätzlichen Python Modulen und Umgebungen (environments).\n",
    "* `pip`: PyPi Paket-Manager. Verfügt über ein größeres Repositorium als conda, ist jedoch in seiner Funktionalität begrenzter. Zudem kann es Probleme mit Dependenzen geben.\n",
    "* `nbconvert`: Befehlszeilen Konvertierung für Notebooks. Benutzt [Pandoc](https://pandoc.org/) in Verbindung mit [Jinja2](http://jinja.pocoo.org/) Vorlagen (templates) und erlaubt eine Konvertierung in eine Vielzahl von Formaten (z.B.: Markdown, reST, HTML, LaTeX, PDF, etc.)."
   ]
  },
  {
   "cell_type": "markdown",
   "id": "f6dc7548",
   "metadata": {
    "slideshow": {
     "slide_type": "slide"
    }
   },
   "source": [
    "# `conda` "
   ]
  },
  {
   "cell_type": "markdown",
   "id": "bf9592c1",
   "metadata": {
    "slideshow": {
     "slide_type": "subslide"
    }
   },
   "source": [
    "## Package Management\n",
    "\n",
    "* Erlaubt Installation/Update/Entfernung von zusätzlichen Paketen.\n",
    "* Beachtet Dependenzen.\n",
    "* Parallele Installation verschiedener Umgebungen.\n",
    "* Siehe [docs](https://docs.conda.io/projects/conda/en/latest/)."
   ]
  },
  {
   "cell_type": "markdown",
   "id": "965fc935",
   "metadata": {
    "slideshow": {
     "slide_type": "subslide"
    }
   },
   "source": [
    "## Bedienung\n",
    "\n",
    "Aufruf auf der Kommandozeile: `conda --help`,\n",
    "\n",
    "oder als IPython Magic: `%conda --help`"
   ]
  },
  {
   "cell_type": "markdown",
   "id": "d0260f86",
   "metadata": {
    "slideshow": {
     "slide_type": "subslide"
    }
   },
   "source": [
    "## Installation\n",
    "\n",
    "```.bash\n",
    "conda install <Name des Pakets>\n",
    "```"
   ]
  },
  {
   "cell_type": "markdown",
   "id": "f43ef5ff",
   "metadata": {
    "slideshow": {
     "slide_type": "subslide"
    }
   },
   "source": [
    "## Upgrade aller Pakete\n",
    "\n",
    "```.bash\n",
    "conda update --all\n",
    "```"
   ]
  },
  {
   "cell_type": "markdown",
   "id": "11d576a3",
   "metadata": {
    "slideshow": {
     "slide_type": "subslide"
    }
   },
   "source": [
    "## Environments\n",
    "\n",
    "`conda` erlaubt die Erzeugung von Entwicklungsumgebungen, welche spezifische Pakete und Versionen festlegt.\n",
    "\n",
    "* Unterschiedliche Pakete für unterschiedliche Projekte.\n",
    "* Replizierbarkeit.\n",
    "* Projektweit einheitliche Umgebung."
   ]
  }
 ],
 "metadata": {
  "celltoolbar": "Slideshow",
  "kernelspec": {
   "display_name": "Python 3 (ipykernel)",
   "language": "python",
   "name": "python3"
  },
  "language_info": {
   "codemirror_mode": {
    "name": "ipython",
    "version": 3
   },
   "file_extension": ".py",
   "mimetype": "text/x-python",
   "name": "python",
   "nbconvert_exporter": "python",
   "pygments_lexer": "ipython3",
   "version": "3.10.2"
  }
 },
 "nbformat": 4,
 "nbformat_minor": 5
}
