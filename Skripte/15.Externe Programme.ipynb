{
 "cells": [
  {
   "cell_type": "markdown",
   "id": "ace98100",
   "metadata": {
    "slideshow": {
     "slide_type": "slide"
    }
   },
   "source": [
    "**Web Scraping und Data Mining in Python**\n",
    "\n",
    "# Pandas Text und Data Munging\n",
    "\n",
    "Jan Riebling, *University Wuppertal*"
   ]
  },
  {
   "cell_type": "markdown",
   "id": "37330cee",
   "metadata": {
    "slideshow": {
     "slide_type": "slide"
    }
   },
   "source": [
    "# Wget"
   ]
  },
  {
   "cell_type": "markdown",
   "id": "fefc0ecb",
   "metadata": {
    "slideshow": {
     "slide_type": "subslide"
    }
   },
   "source": []
  },
  {
   "cell_type": "markdown",
   "id": "97144718",
   "metadata": {
    "slideshow": {
     "slide_type": "slide"
    }
   },
   "source": [
    "# Selenium"
   ]
  },
  {
   "cell_type": "markdown",
   "id": "9153eefe",
   "metadata": {
    "slideshow": {
     "slide_type": "subslide"
    }
   },
   "source": [
    "## "
   ]
  }
 ],
 "metadata": {
  "celltoolbar": "Slideshow",
  "kernelspec": {
   "display_name": "Python 3 (ipykernel)",
   "language": "python",
   "name": "python3"
  },
  "language_info": {
   "codemirror_mode": {
    "name": "ipython",
    "version": 3
   },
   "file_extension": ".py",
   "mimetype": "text/x-python",
   "name": "python",
   "nbconvert_exporter": "python",
   "pygments_lexer": "ipython3",
   "version": "3.10.2"
  }
 },
 "nbformat": 4,
 "nbformat_minor": 5
}
