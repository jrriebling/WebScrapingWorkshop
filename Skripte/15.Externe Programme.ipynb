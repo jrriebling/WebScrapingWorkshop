{
 "cells": [
  {
   "cell_type": "markdown",
   "id": "ace98100",
   "metadata": {
    "slideshow": {
     "slide_type": "slide"
    }
   },
   "source": [
    "**Web Scraping und Data Mining in Python**\n",
    "\n",
    "# Externe Programme\n",
    "\n",
    "Jan Riebling, *University Wuppertal*"
   ]
  },
  {
   "cell_type": "markdown",
   "id": "37330cee",
   "metadata": {
    "slideshow": {
     "slide_type": "slide"
    }
   },
   "source": [
    "# Wget"
   ]
  },
  {
   "cell_type": "markdown",
   "id": "fefc0ecb",
   "metadata": {
    "slideshow": {
     "slide_type": "subslide"
    }
   },
   "source": [
    "## Allgemein\n",
    "\n",
    "GNU Wget ist ein Kommandozeilentool welches rekursiven Download von Dateien ermöglicht. Insbesondere geeignet für den Download von Dateien oder das rekursive durchsuchen großer Webseiten.\n",
    "\n",
    "Dokumentation: [https://www.gnu.org/software/wget/](https://www.gnu.org/software/wget/)\n",
    "\n",
    "Eine Windows-Variante ist auf [Sourceforge](https://sourceforge.net/projects/gnuwin32/files/wget/) verfügbar."
   ]
  },
  {
   "cell_type": "markdown",
   "id": "fae4dffb",
   "metadata": {
    "slideshow": {
     "slide_type": "subslide"
    }
   },
   "source": [
    "## `wget`\n",
    "\n",
    "```bash\n",
    "man wget\n",
    "```"
   ]
  },
  {
   "cell_type": "markdown",
   "id": "e62c2630",
   "metadata": {
    "slideshow": {
     "slide_type": "subslide"
    }
   },
   "source": [
    "## Basis-Download\n",
    "\n",
    "Einfacher Download einer URL:"
   ]
  },
  {
   "cell_type": "code",
   "execution_count": 1,
   "id": "5a4ee6b4",
   "metadata": {},
   "outputs": [
    {
     "name": "stderr",
     "output_type": "stream",
     "text": [
      "--2022-03-17 16:24:47--  https://download.uni-mainz.de/RePEc/pdf/Discussion_Paper_2202.pdf\n",
      "SSL_INIT\n",
      "CA-Zertifikat »/etc/ssl/certs/ca-certificates.crt« wurde geladen\n",
      "Auflösen des Hostnamens download.uni-mainz.de (download.uni-mainz.de)… 134.93.178.4\n",
      "Verbindungsaufbau zu download.uni-mainz.de (download.uni-mainz.de)|134.93.178.4|:443 … verbunden.\n",
      "HTTP-Anforderung gesendet, auf Antwort wird gewartet … 200 OK\n",
      "Länge: 3563945 (3,4M) [application/pdf]\n",
      "Wird in »Discussion_Paper_2202.pdf« gespeichert.\n",
      "\n",
      "     0K .......... .......... .......... .......... ..........  1% 6,72M 0s\n",
      "    50K .......... .......... .......... .......... ..........  2% 5,55M 1s\n",
      "   100K .......... .......... .......... .......... ..........  4% 4,53M 1s\n",
      "   150K .......... .......... .......... .......... ..........  5%  577K 2s\n",
      "   200K .......... .......... .......... .......... ..........  7% 7,03M 2s\n",
      "   250K .......... .......... .......... .......... ..........  8% 7,16M 1s\n",
      "   300K .......... .......... .......... .......... .......... 10% 22,1M 1s\n",
      "   350K .......... .......... .......... .......... .......... 11% 7,12M 1s\n",
      "   400K .......... .......... .......... .......... .......... 12% 1,11M 1s\n",
      "   450K .......... .......... .......... .......... .......... 14% 8,93M 1s\n",
      "   500K .......... .......... .......... .......... .......... 15% 32,0M 1s\n",
      "   550K .......... .......... .......... .......... .......... 17% 5,11M 1s\n",
      "   600K .......... .......... .......... .......... .......... 18% 26,0M 1s\n",
      "   650K .......... .......... .......... .......... .......... 20% 7,52M 1s\n",
      "   700K .......... .......... .......... .......... .......... 21% 11,4M 1s\n",
      "   750K .......... .......... .......... .......... .......... 22% 4,60M 1s\n",
      "   800K .......... .......... .......... .......... .......... 24% 13,6M 1s\n",
      "   850K .......... .......... .......... .......... .......... 25% 4,55M 1s\n",
      "   900K .......... .......... .......... .......... .......... 27% 12,7M 1s\n",
      "   950K .......... .......... .......... .......... .......... 28%  979K 1s\n",
      "  1000K .......... .......... .......... .......... .......... 30% 38,7M 1s\n",
      "  1050K .......... .......... .......... .......... .......... 31% 13,8M 1s\n",
      "  1100K .......... .......... .......... .......... .......... 33% 4,98M 1s\n",
      "  1150K .......... .......... .......... .......... .......... 34% 34,7M 1s\n",
      "  1200K .......... .......... .......... .......... .......... 35% 8,15M 1s\n",
      "  1250K .......... .......... .......... .......... .......... 37% 13,1M 1s\n",
      "  1300K .......... .......... .......... .......... .......... 38% 4,18M 1s\n",
      "  1350K .......... .......... .......... .......... .......... 40% 8,12M 0s\n",
      "  1400K .......... .......... .......... .......... .......... 41% 10,6M 0s\n",
      "  1450K .......... .......... .......... .......... .......... 43% 16,5M 0s\n",
      "  1500K .......... .......... .......... .......... .......... 44% 4,04M 0s\n",
      "  1550K .......... .......... .......... .......... .......... 45% 21,7M 0s\n",
      "  1600K .......... .......... .......... .......... .......... 47% 6,62M 0s\n",
      "  1650K .......... .......... .......... .......... .......... 48% 12,9M 0s\n",
      "  1700K .......... .......... .......... .......... .......... 50% 6,21M 0s\n",
      "  1750K .......... .......... .......... .......... .......... 51% 19,8M 0s\n",
      "  1800K .......... .......... .......... .......... .......... 53% 6,92M 0s\n",
      "  1850K .......... .......... .......... .......... .......... 54% 12,0M 0s\n",
      "  1900K .......... .......... .......... .......... .......... 56% 5,46M 0s\n",
      "  1950K .......... .......... .......... .......... .......... 57% 12,9M 0s\n",
      "  2000K .......... .......... .......... .......... .......... 58% 11,7M 0s\n",
      "  2050K .......... .......... .......... .......... .......... 60% 11,5M 0s\n",
      "  2100K .......... .......... .......... .......... .......... 61% 9,53M 0s\n",
      "  2150K .......... .......... .......... .......... .......... 63% 7,65M 0s\n",
      "  2200K .......... .......... .......... .......... .......... 64% 11,7M 0s\n",
      "  2250K .......... .......... .......... .......... .......... 66% 7,17M 0s\n",
      "  2300K .......... .......... .......... .......... .......... 67% 13,1M 0s\n",
      "  2350K .......... .......... .......... .......... .......... 68% 6,05M 0s\n",
      "  2400K .......... .......... .......... .......... .......... 70% 29,5M 0s\n",
      "  2450K .......... .......... .......... .......... .......... 71%  751K 0s\n",
      "  2500K .......... .......... .......... .......... .......... 73% 11,7M 0s\n",
      "  2550K .......... .......... .......... .......... .......... 74% 9,98M 0s\n",
      "  2600K .......... .......... .......... .......... .......... 76% 5,43M 0s\n",
      "  2650K .......... .......... .......... .......... .......... 77% 28,8M 0s\n",
      "  2700K .......... .......... .......... .......... .......... 79% 6,87M 0s\n",
      "  2750K .......... .......... .......... .......... .......... 80% 12,6M 0s\n",
      "  2800K .......... .......... .......... .......... .......... 81% 6,60M 0s\n",
      "  2850K .......... .......... .......... .......... .......... 83% 2,08M 0s\n",
      "  2900K .......... .......... .......... .......... .......... 84% 7,71M 0s\n",
      "  2950K .......... .......... .......... .......... .......... 86% 12,4M 0s\n",
      "  3000K .......... .......... .......... .......... .......... 87% 10,1M 0s\n",
      "  3050K .......... .......... .......... .......... .......... 89% 13,2M 0s\n",
      "  3100K .......... .......... .......... .......... .......... 90% 4,27M 0s\n",
      "  3150K .......... .......... .......... .......... .......... 91% 40,5M 0s\n",
      "  3200K .......... .......... .......... .......... .......... 93% 11,4M 0s\n",
      "  3250K .......... .......... .......... .......... .......... 94% 5,77M 0s\n",
      "  3300K .......... .......... .......... .......... .......... 96% 19,5M 0s\n",
      "  3350K .......... .......... .......... .......... .......... 97% 7,20M 0s\n",
      "  3400K .......... .......... .......... .......... .......... 99% 7,95M 0s\n",
      "  3450K .......... .......... ..........                      100% 37,6M=0,6s\n",
      "\n",
      "2022-03-17 16:24:48 (5,37 MB/s) - »Discussion_Paper_2202.pdf« gespeichert [3563945/3563945]\n",
      "\n"
     ]
    }
   ],
   "source": [
    "%%bash\n",
    "wget 'https://download.uni-mainz.de/RePEc/pdf/Discussion_Paper_2202.pdf'"
   ]
  },
  {
   "cell_type": "markdown",
   "id": "2438d091",
   "metadata": {
    "slideshow": {
     "slide_type": "subslide"
    }
   },
   "source": [
    "## Rekursiver Download\n",
    "\n",
    "Automatisierter Download ganzer Webseiten und enthaltener Daten, welcher sehr präzise eingestellt werden kann.\n",
    "\n",
    "Beispiel: Download sämtlicher PDFs der IPP Webseite."
   ]
  },
  {
   "cell_type": "code",
   "execution_count": 2,
   "id": "c4a7bdd4",
   "metadata": {},
   "outputs": [],
   "source": [
    "%%bash\n",
    "wget \\\n",
    "    --recursive \\\n",
    "    --no-directories \\\n",
    "    --no-parents \\\n",
    "    --accept pdf \\\n",
    "    'https://ipp-mainz.uni-mainz.de/'\n"
   ]
  },
  {
   "cell_type": "markdown",
   "id": "97144718",
   "metadata": {
    "slideshow": {
     "slide_type": "slide"
    }
   },
   "source": [
    "# Selenium"
   ]
  },
  {
   "cell_type": "markdown",
   "id": "9153eefe",
   "metadata": {
    "slideshow": {
     "slide_type": "subslide"
    }
   },
   "source": [
    "## Browser Automatisierung\n",
    "\n",
    "* Selenium erlaubt es einen installierten Webbrowser mittels Pythoncode zu kontrollieren.\n",
    "* Hierfür ist folgendes nötig:\n",
    "    * Eine Installation von [Selenium für Python](https://www.selenium.dev/).\n",
    "    * Ein Webbrowser.\n",
    "    * [Driver]() für den Webbrowser.\n",
    "    \n",
    "Ein Überblicksartikel zur Installation findet sich [hier](https://intoli.com/blog/running-selenium-with-headless-chrome/)."
   ]
  },
  {
   "cell_type": "markdown",
   "id": "046e25d1",
   "metadata": {
    "slideshow": {
     "slide_type": "subslide"
    }
   },
   "source": [
    "## Headless Chrome\n",
    "\n",
    "Um den eigenen Browser nicht verwenden zu müssen und keinen vollständigen zweiten Browser zu installieren, kann Headless Chrome verwendet werden. Hierbei handelt es sich um einen Chromebrowser ohne Benutzeroberfläche.\n",
    "\n",
    "Um die Verbindung zwischen dem Browser und Selenium herzustellen ist die ChromeDriver Bibliothek nötig. Diese muss entsprechend für das jeweilige Betriebssystem installiert werden."
   ]
  },
  {
   "cell_type": "code",
   "execution_count": 1,
   "id": "865f50e5",
   "metadata": {
    "slideshow": {
     "slide_type": "subslide"
    }
   },
   "outputs": [
    {
     "data": {
      "text/plain": [
       "True"
      ]
     },
     "execution_count": 1,
     "metadata": {},
     "output_type": "execute_result"
    }
   ],
   "source": [
    "from selenium import webdriver\n",
    "\n",
    "## Configure webdriver instance\n",
    "options = webdriver.ChromeOptions()\n",
    "options.add_argument('headless')\n",
    "options.add_argument(\"start-maximized\")\n",
    "\n",
    "## Initialize WebDriver (headless chrome)\n",
    "driver = webdriver.Chrome(options=options)\n",
    "\n",
    "## Wait for page to load: 60 seconds\n",
    "driver.implicitly_wait(60)\n",
    "\n",
    "## Load URL\n",
    "url = 'https://ipp-mainz.uni-mainz.de/'\n",
    "\n",
    "driver.get(url)\n",
    "    \n",
    "## Get screenshot for debugging\n",
    "driver.save_screenshot('screenshot.png')"
   ]
  },
  {
   "cell_type": "markdown",
   "id": "c82d646b",
   "metadata": {
    "slideshow": {
     "slide_type": "subslide"
    }
   },
   "source": [
    "![Selenium Screenshot](screenshot.png)"
   ]
  }
 ],
 "metadata": {
  "celltoolbar": "Slideshow",
  "kernelspec": {
   "display_name": "Python 3 (ipykernel)",
   "language": "python",
   "name": "python3"
  },
  "language_info": {
   "codemirror_mode": {
    "name": "ipython",
    "version": 3
   },
   "file_extension": ".py",
   "mimetype": "text/x-python",
   "name": "python",
   "nbconvert_exporter": "python",
   "pygments_lexer": "ipython3",
   "version": "3.10.2"
  }
 },
 "nbformat": 4,
 "nbformat_minor": 5
}
