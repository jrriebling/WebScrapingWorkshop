{
 "cells": [
  {
   "cell_type": "markdown",
   "id": "ace98100",
   "metadata": {
    "slideshow": {
     "slide_type": "slide"
    }
   },
   "source": [
    "**Web Scraping und Data Mining in Python**\n",
    "\n",
    "# Pandas Text und Data Munging\n",
    "\n",
    "Jan Riebling, *University Wuppertal*"
   ]
  },
  {
   "cell_type": "markdown",
   "id": "37330cee",
   "metadata": {
    "slideshow": {
     "slide_type": "slide"
    }
   },
   "source": [
    "# Wget"
   ]
  },
  {
   "cell_type": "markdown",
   "id": "fefc0ecb",
   "metadata": {
    "slideshow": {
     "slide_type": "subslide"
    }
   },
   "source": [
    "## Allgemein\n",
    "\n",
    "GNU Wget ist ein Kommandozeilentool welches rekursiven Download von Dateien ermöglicht. Insbesondere geeignet für den Download von Dateien oder das rekursive durchsuchen großer Webseiten.\n",
    "\n",
    "Dokumentation: [https://www.gnu.org/software/wget/](https://www.gnu.org/software/wget/)\n",
    "\n",
    "Eine Windows-Variante ist auf [Sourceforge](https://sourceforge.net/projects/gnuwin32/files/wget/) verfügbar."
   ]
  },
  {
   "cell_type": "markdown",
   "id": "fae4dffb",
   "metadata": {
    "slideshow": {
     "slide_type": "subslide"
    }
   },
   "source": [
    "## `wget`\n",
    "\n",
    "```bash\n",
    "man wget\n",
    "```"
   ]
  },
  {
   "cell_type": "markdown",
   "id": "e62c2630",
   "metadata": {
    "slideshow": {
     "slide_type": "subslide"
    }
   },
   "source": [
    "## Basis-Download\n",
    "\n",
    "Einfacher Download einer URL:"
   ]
  },
  {
   "cell_type": "code",
   "execution_count": null,
   "id": "5a4ee6b4",
   "metadata": {},
   "outputs": [],
   "source": [
    "%%bash\n",
    "wget 'https://download.uni-mainz.de/RePEc/pdf/Discussion_Paper_2202.pdf'"
   ]
  },
  {
   "cell_type": "markdown",
   "id": "2438d091",
   "metadata": {
    "slideshow": {
     "slide_type": "subslide"
    }
   },
   "source": [
    "## Rekursiver Download\n",
    "\n",
    "Automatisierter Download ganzer Webseiten und enthaltener Daten, welcher sehr präzise eingestellt werden kann.\n",
    "\n",
    "Beispiel: Download sämtlicher PDFs der IPP Webseite."
   ]
  },
  {
   "cell_type": "code",
   "execution_count": 2,
   "id": "c4a7bdd4",
   "metadata": {},
   "outputs": [],
   "source": [
    "%%bash\n",
    "wget \\\n",
    "    --recursive \\\n",
    "    --no-directories \\\n",
    "    --no-parents \\\n",
    "    --accept pdf \\\n",
    "    'https://ipp-mainz.uni-mainz.de/'\n"
   ]
  },
  {
   "cell_type": "markdown",
   "id": "97144718",
   "metadata": {
    "slideshow": {
     "slide_type": "slide"
    }
   },
   "source": [
    "# Selenium"
   ]
  },
  {
   "cell_type": "markdown",
   "id": "9153eefe",
   "metadata": {
    "slideshow": {
     "slide_type": "subslide"
    }
   },
   "source": [
    "## Browser Automatisierung\n",
    "\n",
    "* Selenium erlaubt es einen installierten Webbrowser mittels Pythoncode zu kontrollieren.\n",
    "* Hierfür ist folgendes nötig:\n",
    "    * Eine Installation von [Selenium für Python](https://www.selenium.dev/).\n",
    "    * Ein Webbrowser.\n",
    "    * [Driver]() für den Webbrowser.\n",
    "    \n",
    "Ein Überblicksartikel zur Installation findet sich [hier](https://intoli.com/blog/running-selenium-with-headless-chrome/)."
   ]
  },
  {
   "cell_type": "markdown",
   "id": "046e25d1",
   "metadata": {
    "slideshow": {
     "slide_type": "subslide"
    }
   },
   "source": [
    "## Headless Chrome\n",
    "\n",
    "Um den eigenen Browser nicht verwenden zu müssen und keinen vollständigen zweiten Browser zu installieren, kann Headless Chrome verwendet werden. Hierbei handelt es sich um einen Chromebrowser ohne Benutzeroberfläche.\n",
    "\n",
    "Um die Verbindung zwischen dem Browser und Selenium herzustellen ist die ChromeDriver Bibliothek nötig. Diese muss entsprechend für das jeweilige Betriebssystem installiert werden."
   ]
  },
  {
   "cell_type": "code",
   "execution_count": 3,
   "id": "865f50e5",
   "metadata": {
    "slideshow": {
     "slide_type": "subslide"
    }
   },
   "outputs": [
    {
     "data": {
      "text/plain": [
       "True"
      ]
     },
     "execution_count": 3,
     "metadata": {},
     "output_type": "execute_result"
    }
   ],
   "source": [
    "from selenium import webdriver\n",
    "from bs4 import BeautifulSoup\n",
    "\n",
    "## Configure webdriver instance\n",
    "options = webdriver.ChromeOptions()\n",
    "options.add_argument('headless')\n",
    "options.add_argument(\"start-maximized\")\n",
    "\n",
    "## Initialize WebDriver (headless chrome)\n",
    "driver = webdriver.Chrome(options=options)\n",
    "\n",
    "## Wait for page to load: 60 seconds\n",
    "driver.implicitly_wait(60)\n",
    "\n",
    "## Load URL\n",
    "url = 'https://ipp-mainz.uni-mainz.de/'\n",
    "\n",
    "driver.get(url)\n",
    "    \n",
    "## Get screenshot for debugging\n",
    "driver.save_screenshot('screenshot.png')"
   ]
  },
  {
   "cell_type": "markdown",
   "id": "c82d646b",
   "metadata": {
    "slideshow": {
     "slide_type": "subslide"
    }
   },
   "source": [
    "![Selenium Screenshot](screenshot.png)"
   ]
  }
 ],
 "metadata": {
  "celltoolbar": "Slideshow",
  "kernelspec": {
   "display_name": "Python 3 (ipykernel)",
   "language": "python",
   "name": "python3"
  },
  "language_info": {
   "codemirror_mode": {
    "name": "ipython",
    "version": 3
   },
   "file_extension": ".py",
   "mimetype": "text/x-python",
   "name": "python",
   "nbconvert_exporter": "python",
   "pygments_lexer": "ipython3",
   "version": "3.10.2"
  }
 },
 "nbformat": 4,
 "nbformat_minor": 5
}
