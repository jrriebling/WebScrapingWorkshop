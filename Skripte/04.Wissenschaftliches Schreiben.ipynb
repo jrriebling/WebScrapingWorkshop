{
 "cells": [
  {
   "cell_type": "markdown",
   "id": "12f0a6a0",
   "metadata": {
    "slideshow": {
     "slide_type": "slide"
    }
   },
   "source": [
    "**Web Scraping und Data Mining in Python**\n",
    "\n",
    "# Wissenschaftliches Schreiben\n",
    "\n",
    "Jan R. Riebling, *Universität Wuppertal*"
   ]
  },
  {
   "cell_type": "markdown",
   "id": "b525d83c",
   "metadata": {
    "slideshow": {
     "slide_type": "slide"
    }
   },
   "source": [
    "# Markdown"
   ]
  },
  {
   "cell_type": "markdown",
   "id": "09598274",
   "metadata": {
    "slideshow": {
     "slide_type": "subslide"
    }
   },
   "source": [
    "## Allgemein\n",
    "\n",
    "Markdown ist eine einfache Auszeichnungssprache zur Formatierung von Texten. Zentrale Idee: Auch als Plaintext direkt lesbar.\n",
    "\n",
    "Grundlegende Syntax: [https://www.markdownguide.org/basic-syntax/](https://www.markdownguide.org/basic-syntax/)."
   ]
  },
  {
   "cell_type": "markdown",
   "id": "a9124636",
   "metadata": {
    "slideshow": {
     "slide_type": "subslide"
    }
   },
   "source": [
    "## Übung"
   ]
  },
  {
   "cell_type": "markdown",
   "id": "76e19d47",
   "metadata": {
    "slideshow": {
     "slide_type": "subslide"
    }
   },
   "source": [
    "## Mathjax\n",
    "\n",
    "Rendering-Engine für mathematische Ausdrücke und Formeln, kann auch für allgemeine Formatierungen eingesetzt werden $\\rightarrow \\; \\mathfrak{\\text{z.B. für Frakturschrift.}}$\n",
    "\n",
    "Cheatsheet mit Beispielen: [https://math.meta.stackexchange.com/questions/5020/mathjax-basic-tutorial-and-quick-reference](https://math.meta.stackexchange.com/questions/5020/mathjax-basic-tutorial-and-quick-reference)."
   ]
  },
  {
   "cell_type": "markdown",
   "id": "697e493e",
   "metadata": {
    "slideshow": {
     "slide_type": "slide"
    }
   },
   "source": [
    "# Pandoc"
   ]
  },
  {
   "cell_type": "markdown",
   "id": "e490c253",
   "metadata": {
    "slideshow": {
     "slide_type": "subslide"
    }
   },
   "source": [
    "## Textkonverter\n",
    "\n",
    "Das Schweizer Taschenmesser der Textkonvertierung, erlaubt einfaches wechseln zwischen vielen verschiedenen [Formaten](https://pandoc.org/MANUAL.html#general-options). Bedienung erfolgt auf der Kommandozeile.\n",
    "\n",
    "Dokumentation: [https://pandoc.org/MANUAL.html](https://pandoc.org/MANUAL.html) oder Aufruf des entsprechenden `man` Eintrags."
   ]
  },
  {
   "cell_type": "markdown",
   "id": "f19f9abf",
   "metadata": {
    "slideshow": {
     "slide_type": "subslide"
    }
   },
   "source": [
    "## `nbconvert`\n",
    "\n",
    "Basierend auf einem Pandoc erlaubt dieses Kommandozeilentool die Konvertierung von Notebooks in eine Reihe anderer Formate. Kann auch über das Menü aufgerufen werden.\n",
    "\n",
    "```bash\n",
    "jupyter nbconvert --help\n",
    "```"
   ]
  }
 ],
 "metadata": {
  "celltoolbar": "Slideshow",
  "kernelspec": {
   "display_name": "Python 3 (ipykernel)",
   "language": "python",
   "name": "python3"
  },
  "language_info": {
   "codemirror_mode": {
    "name": "ipython",
    "version": 3
   },
   "file_extension": ".py",
   "mimetype": "text/x-python",
   "name": "python",
   "nbconvert_exporter": "python",
   "pygments_lexer": "ipython3",
   "version": "3.10.2"
  }
 },
 "nbformat": 4,
 "nbformat_minor": 5
}
