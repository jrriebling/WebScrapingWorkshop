{
 "cells": [
  {
   "cell_type": "markdown",
   "metadata": {
    "slideshow": {
     "slide_type": "slide"
    }
   },
   "source": [
    "**Web Scraping und Data Mining in Python**\n",
    "\n",
    "\n",
    "# Daten und Datensätze\n",
    "\n",
    "Jan Riebling, *University Wuppertal*"
   ]
  },
  {
   "cell_type": "markdown",
   "metadata": {
    "slideshow": {
     "slide_type": "slide"
    }
   },
   "source": [
    "# Datensätze"
   ]
  },
  {
   "cell_type": "markdown",
   "metadata": {
    "slideshow": {
     "slide_type": "subslide"
    }
   },
   "source": [
    "## Tabellen\n",
    "\n",
    "Darstellung und Verwaltung von Daten in Form einer Tabelle, bestehend aus:\n",
    "\n",
    "* *Zeilen*: Enthält die Ausprägungen für einen spezifischen Merkmalsträger.\n",
    "* *Spalten*: Enthält alle gemessenen Werte einer spezifischen Variablen.\n",
    "* Zellen: Enthalten die Elementarsätze, die konkreten Messungen einer Variablen an einem Merkmalsträger.  "
   ]
  },
  {
   "cell_type": "code",
   "execution_count": 4,
   "metadata": {
    "slideshow": {
     "slide_type": "subslide"
    }
   },
   "outputs": [
    {
     "data": {
      "text/plain": [
       "'Alter'"
      ]
     },
     "execution_count": 4,
     "metadata": {},
     "output_type": "execute_result"
    }
   ],
   "source": [
    "L = [['ID', 'Alter', 'Netto'],\n",
    "     ['A', 23, 25000],\n",
    "     ['B', 25, 60000],\n",
    "     ['C', 68, 14000]]\n",
    "\n",
    "L[0][1]"
   ]
  },
  {
   "cell_type": "markdown",
   "metadata": {
    "slideshow": {
     "slide_type": "subslide"
    }
   },
   "source": [
    "## Besser: Arrays\n",
    "\n",
    "* Wie gestaffelte Listen (`list`), aber begrenzt auf einen Typ von Elementen (`dtype`).\n",
    "* Multidimensionaler Index (`.shape`).\n",
    "* Sehr performativ für numerische Operationen (lineares Algebra)."
   ]
  },
  {
   "cell_type": "markdown",
   "metadata": {
    "slideshow": {
     "slide_type": "subslide"
    }
   },
   "source": [
    "## Dimensionalität\n",
    "\n",
    "* *Vektor* ($\\mathbb{R}^1$)\n",
    "* *Matrix* ($\\mathbb{R}^2$) \n",
    "* *Array* ($\\mathbb{R}^x \\; \\text{für} \\; x  \\gt 2$)"
   ]
  },
  {
   "cell_type": "markdown",
   "metadata": {
    "slideshow": {
     "slide_type": "subslide"
    }
   },
   "source": [
    "## Python Bibliotheken\n",
    "\n",
    "* NumPy: Stellt das grundlegende Objekt der Array bereit.\n",
    "* SciPy: Weitreichende Bibliothek für lineares Algebra, Statistik und Sonderformen von Arrays (z.B.: sparse arrays).\n",
    "* pandas: Stellt benutzerfreundlichere und komplexere Datenstrukturen bereit (z.B.: `Series` and `DataFrame`). "
   ]
  },
  {
   "cell_type": "code",
   "execution_count": 3,
   "metadata": {
    "slideshow": {
     "slide_type": "subslide"
    }
   },
   "outputs": [
    {
     "data": {
      "text/plain": [
       "array([ 0,  1,  2,  3,  4,  5,  6,  7,  8,  9, 10, 11])"
      ]
     },
     "execution_count": 3,
     "metadata": {},
     "output_type": "execute_result"
    }
   ],
   "source": [
    "import numpy as np\n",
    "\n",
    "vector = np.arange(12)\n",
    "vector"
   ]
  },
  {
   "cell_type": "markdown",
   "metadata": {
    "slideshow": {
     "slide_type": "subslide"
    }
   },
   "source": [
    "## Vektoren vs. Listen"
   ]
  },
  {
   "cell_type": "code",
   "execution_count": 7,
   "metadata": {},
   "outputs": [
    {
     "data": {
      "text/plain": [
       "array([ 0,  1,  2,  3,  4,  5,  6,  7,  8,  9, 10, 11])"
      ]
     },
     "execution_count": 7,
     "metadata": {},
     "output_type": "execute_result"
    }
   ],
   "source": [
    "vector"
   ]
  },
  {
   "cell_type": "code",
   "execution_count": 8,
   "metadata": {},
   "outputs": [
    {
     "name": "stdout",
     "output_type": "stream",
     "text": [
      "[0, 1, 2, 3, 4, 5, 6, 7, 8, 9, 10, 11]\n"
     ]
    }
   ],
   "source": [
    "List = list(range(12))\n",
    "\n",
    "print(List)"
   ]
  },
  {
   "cell_type": "markdown",
   "metadata": {
    "slideshow": {
     "slide_type": "subslide"
    }
   },
   "source": [
    "## dtype\n",
    "\n",
    "Ein(e) Vektor/Matrix/Array muss aus einem spezifischen Datentyp bestehen (`dtype`).\n",
    "\n",
    "Der numerische Typ einer Array kann im vorneherein festgelegt werden (`dtype=` Argument). Es ist auch möglich den dtype im nachhinein zu ändern, dies nennt man *typecasting*."
   ]
  },
  {
   "cell_type": "code",
   "execution_count": 17,
   "metadata": {},
   "outputs": [
    {
     "name": "stdout",
     "output_type": "stream",
     "text": [
      "dtype: int64\n",
      "vector: [0 1 2 3 4 5 6 7 8]\n"
     ]
    }
   ],
   "source": [
    "vector = np.arange(9, dtype='int')\n",
    "\n",
    "print('dtype:', vector.dtype)\n",
    "\n",
    "print('vector:', vector)"
   ]
  },
  {
   "cell_type": "markdown",
   "metadata": {
    "slideshow": {
     "slide_type": "slide"
    }
   },
   "source": [
    "# Pandas"
   ]
  },
  {
   "cell_type": "markdown",
   "metadata": {
    "slideshow": {
     "slide_type": "subslide"
    }
   },
   "source": [
    "## Python DataFrames\n",
    "\n",
    "Das [pandas](http://pandas.pydata.org/pandas-docs/stable/index.html) Paket stellt Datentabellen und elegante Algorithmen zur Datenanalyse bereit. Konzeptionell ähnelt die pandas `DataFrame` Klasse dem R `data.frame`. Ein Vergleich findet sich [hier](http://pandas.pydata.org/pandas-docs/stable/comparison_with_r.html).\n",
    "\n",
    "Für Interessierte empfiehlt sich [\"10 Minutes to pandas\"](http://pandas.pydata.org/pandas-docs/stable/10min.html)."
   ]
  },
  {
   "cell_type": "code",
   "execution_count": 9,
   "metadata": {
    "slideshow": {
     "slide_type": ""
    }
   },
   "outputs": [],
   "source": [
    "import pandas as pd"
   ]
  },
  {
   "cell_type": "markdown",
   "metadata": {
    "slideshow": {
     "slide_type": "subslide"
    }
   },
   "source": [
    "## Series, DataFrame und Panel\n",
    "\n",
    "* `Series`, entspricht einem Vektor.\n",
    "* `DataFrame`, entspricht einer Sammlung von `Series`-Objekten.\n",
    "* `Panel`, entspricht einer Sammlung von `DataFrame`-Objekten."
   ]
  },
  {
   "cell_type": "code",
   "execution_count": 10,
   "metadata": {
    "slideshow": {
     "slide_type": "subslide"
    }
   },
   "outputs": [
    {
     "data": {
      "text/plain": [
       "0     46\n",
       "1     50\n",
       "2    136\n",
       "dtype: int64"
      ]
     },
     "execution_count": 10,
     "metadata": {},
     "output_type": "execute_result"
    }
   ],
   "source": [
    "## Beispiel: pd.Series\n",
    "\n",
    "ids = pd.Series(['A', 'B', 'C'])\n",
    "ages = pd.Series([23, 25, 68])\n",
    "\n",
    "ages * 2"
   ]
  },
  {
   "cell_type": "code",
   "execution_count": 13,
   "metadata": {
    "slideshow": {
     "slide_type": "subslide"
    }
   },
   "outputs": [
    {
     "data": {
      "text/html": [
       "<div>\n",
       "<style scoped>\n",
       "    .dataframe tbody tr th:only-of-type {\n",
       "        vertical-align: middle;\n",
       "    }\n",
       "\n",
       "    .dataframe tbody tr th {\n",
       "        vertical-align: top;\n",
       "    }\n",
       "\n",
       "    .dataframe thead th {\n",
       "        text-align: right;\n",
       "    }\n",
       "</style>\n",
       "<table border=\"1\" class=\"dataframe\">\n",
       "  <thead>\n",
       "    <tr style=\"text-align: right;\">\n",
       "      <th></th>\n",
       "      <th>ID</th>\n",
       "      <th>Alter</th>\n",
       "    </tr>\n",
       "  </thead>\n",
       "  <tbody>\n",
       "    <tr>\n",
       "      <th>0</th>\n",
       "      <td>A</td>\n",
       "      <td>23</td>\n",
       "    </tr>\n",
       "    <tr>\n",
       "      <th>1</th>\n",
       "      <td>B</td>\n",
       "      <td>25</td>\n",
       "    </tr>\n",
       "    <tr>\n",
       "      <th>2</th>\n",
       "      <td>C</td>\n",
       "      <td>68</td>\n",
       "    </tr>\n",
       "  </tbody>\n",
       "</table>\n",
       "</div>"
      ],
      "text/plain": [
       "  ID  Alter\n",
       "0  A     23\n",
       "1  B     25\n",
       "2  C     68"
      ]
     },
     "execution_count": 13,
     "metadata": {},
     "output_type": "execute_result"
    }
   ],
   "source": [
    "df = pd.DataFrame({'ID': ids, \n",
    "                   'Alter': ages})\n",
    "\n",
    "df"
   ]
  },
  {
   "cell_type": "markdown",
   "metadata": {
    "slideshow": {
     "slide_type": "subslide"
    }
   },
   "source": [
    "## Pandas arrays\n",
    "\n",
    "Die Ähnlichkeiten zwischen pandas und NumPy sind nicht zufällig, da pandas auf NumPy aufbaut. Darüberhinaus verfügt pandas jedoch über einige Besonderheiten, welche die Arbeit mit Datensätzen enorm vereinfachen.\n",
    "\n",
    "* Zusätzliche Typen, z.B. Datumsangaben, Strings, etc. ([docs](https://pandas.pydata.org/pandas-docs/stable/user_guide/basics.html#dtypes))\n",
    "* Benannte und komplexe Indexierung. ([docs](https://pandas.pydata.org/pandas-docs/stable/user_guide/indexing.html))\n",
    "* Weitreichende Methoden und Funktionen der Datentransformation und des -managements.\n",
    "* Lese- und Schreibfunktionen für eine Vielzahl gängiger Dateiformate und Inputs. ([docs](https://pandas.pydata.org/pandas-docs/stable/user_guide/io.html))"
   ]
  },
  {
   "cell_type": "code",
   "execution_count": 18,
   "metadata": {
    "slideshow": {
     "slide_type": "subslide"
    }
   },
   "outputs": [
    {
     "data": {
      "text/html": [
       "<div>\n",
       "<style scoped>\n",
       "    .dataframe tbody tr th:only-of-type {\n",
       "        vertical-align: middle;\n",
       "    }\n",
       "\n",
       "    .dataframe tbody tr th {\n",
       "        vertical-align: top;\n",
       "    }\n",
       "\n",
       "    .dataframe thead th {\n",
       "        text-align: right;\n",
       "    }\n",
       "</style>\n",
       "<table border=\"1\" class=\"dataframe\">\n",
       "  <thead>\n",
       "    <tr style=\"text-align: right;\">\n",
       "      <th></th>\n",
       "      <th>A</th>\n",
       "      <th>B</th>\n",
       "      <th>C</th>\n",
       "      <th>D</th>\n",
       "      <th>E</th>\n",
       "      <th>F</th>\n",
       "    </tr>\n",
       "  </thead>\n",
       "  <tbody>\n",
       "    <tr>\n",
       "      <th>0</th>\n",
       "      <td>1</td>\n",
       "      <td>2018-02-21</td>\n",
       "      <td>1.0</td>\n",
       "      <td>-0.231526</td>\n",
       "      <td>test</td>\n",
       "      <td>foo</td>\n",
       "    </tr>\n",
       "    <tr>\n",
       "      <th>1</th>\n",
       "      <td>2</td>\n",
       "      <td>2018-02-22</td>\n",
       "      <td>1.0</td>\n",
       "      <td>2.067632</td>\n",
       "      <td>train</td>\n",
       "      <td>bar</td>\n",
       "    </tr>\n",
       "    <tr>\n",
       "      <th>2</th>\n",
       "      <td>3</td>\n",
       "      <td>2018-02-23</td>\n",
       "      <td>1.0</td>\n",
       "      <td>-0.076154</td>\n",
       "      <td>test</td>\n",
       "      <td>baz</td>\n",
       "    </tr>\n",
       "    <tr>\n",
       "      <th>3</th>\n",
       "      <td>4</td>\n",
       "      <td>2018-02-24</td>\n",
       "      <td>1.0</td>\n",
       "      <td>0.700061</td>\n",
       "      <td>train</td>\n",
       "      <td>bla</td>\n",
       "    </tr>\n",
       "  </tbody>\n",
       "</table>\n",
       "</div>"
      ],
      "text/plain": [
       "   A          B    C         D      E    F\n",
       "0  1 2018-02-21  1.0 -0.231526   test  foo\n",
       "1  2 2018-02-22  1.0  2.067632  train  bar\n",
       "2  3 2018-02-23  1.0 -0.076154   test  baz\n",
       "3  4 2018-02-24  1.0  0.700061  train  bla"
      ]
     },
     "execution_count": 18,
     "metadata": {},
     "output_type": "execute_result"
    }
   ],
   "source": [
    "df2 = pd.DataFrame({'A' : range(1, 5),\n",
    "                    'B' : pd.date_range('21/2/2018', periods=4),\n",
    "                    'C' : pd.Series(1, index=list(range(4)), dtype='float32'),\n",
    "                    'D' : np.random.randn(4),\n",
    "                    'E' : pd.Categorical([\"test\",\"train\",\"test\",\"train\"]),\n",
    "                    'F' : ['foo', 'bar', 'baz', 'bla']})\n",
    "\n",
    "df2"
   ]
  },
  {
   "cell_type": "markdown",
   "metadata": {
    "slideshow": {
     "slide_type": "slide"
    }
   },
   "source": [
    "# Indexierung"
   ]
  },
  {
   "cell_type": "markdown",
   "metadata": {
    "slideshow": {
     "slide_type": "subslide"
    }
   },
   "source": [
    "## Index\n",
    "\n",
    "Während `pd.Series` nur über einen Index verfügt (`.index`), der die Zeilen ordnet, verfügt der `pd.DataFrame` auch über einen Index der Spalten (`.columns`).\n",
    "\n",
    "pandas Indexierung funktioniert primär über geordnete Label, also ähnlich wie ein Diktionär mit geordneten Schlüsseln. Die Zahl `5` würde zum Beipiel als ein Label des Index verstanden werden, nicht als die Position `5` wie dies bei einer Liste der Fall wäre. Es gilt folgende Regel:\n",
    "\n",
    "* Serie`[`Zeile`]` $\\rightarrow$ Zelle\n",
    "* DataFrame`[`Spalte`]` $\\rightarrow$ Spalte (`pd.Series`)\n",
    "* DataFrame`[`Spalte`][`Zeile`]` $\\rightarrow$ Zelle"
   ]
  },
  {
   "cell_type": "code",
   "execution_count": 15,
   "metadata": {
    "slideshow": {
     "slide_type": ""
    }
   },
   "outputs": [
    {
     "data": {
      "text/plain": [
       "0    23\n",
       "1    25\n",
       "2    68\n",
       "Name: Alter, dtype: int64"
      ]
     },
     "execution_count": 15,
     "metadata": {},
     "output_type": "execute_result"
    }
   ],
   "source": [
    "df['Alter']"
   ]
  },
  {
   "cell_type": "markdown",
   "metadata": {
    "slideshow": {
     "slide_type": "subslide"
    }
   },
   "source": [
    "## Indexierungsobjekte\n",
    "\n",
    "Objekte die zur Indexierung genutzt werden können:\n",
    "\n",
    "* Namen von Spalte und Zeilen..\n",
    "* Boolsche Arrays.\n",
    "* Funktionen welche die vornagegangenen Objekte ausgeben."
   ]
  },
  {
   "cell_type": "code",
   "execution_count": 17,
   "metadata": {
    "slideshow": {
     "slide_type": "subslide"
    }
   },
   "outputs": [
    {
     "data": {
      "text/plain": [
       "0    False\n",
       "1     True\n",
       "2     True\n",
       "Name: Alter, dtype: bool"
      ]
     },
     "execution_count": 17,
     "metadata": {},
     "output_type": "execute_result"
    }
   ],
   "source": [
    "df['Alter'] >= 25"
   ]
  },
  {
   "cell_type": "markdown",
   "metadata": {
    "slideshow": {
     "slide_type": "subslide"
    }
   },
   "source": [
    "## `.iloc`\n",
    "\n",
    "Integer basierte Indexierung. Es gelten die Standardregeln für Python Indexierung: von $i$ **bis unter** $j$.\n",
    "\n",
    "```\n",
    "DataFrame.iloc[row_indexer, column_indexer]\n",
    "```"
   ]
  },
  {
   "cell_type": "code",
   "execution_count": 19,
   "metadata": {},
   "outputs": [
    {
     "data": {
      "text/html": [
       "<div>\n",
       "<style scoped>\n",
       "    .dataframe tbody tr th:only-of-type {\n",
       "        vertical-align: middle;\n",
       "    }\n",
       "\n",
       "    .dataframe tbody tr th {\n",
       "        vertical-align: top;\n",
       "    }\n",
       "\n",
       "    .dataframe thead th {\n",
       "        text-align: right;\n",
       "    }\n",
       "</style>\n",
       "<table border=\"1\" class=\"dataframe\">\n",
       "  <thead>\n",
       "    <tr style=\"text-align: right;\">\n",
       "      <th></th>\n",
       "      <th>C</th>\n",
       "      <th>D</th>\n",
       "      <th>E</th>\n",
       "      <th>F</th>\n",
       "    </tr>\n",
       "  </thead>\n",
       "  <tbody>\n",
       "    <tr>\n",
       "      <th>0</th>\n",
       "      <td>1.0</td>\n",
       "      <td>-0.231526</td>\n",
       "      <td>test</td>\n",
       "      <td>foo</td>\n",
       "    </tr>\n",
       "  </tbody>\n",
       "</table>\n",
       "</div>"
      ],
      "text/plain": [
       "     C         D     E    F\n",
       "0  1.0 -0.231526  test  foo"
      ]
     },
     "execution_count": 19,
     "metadata": {},
     "output_type": "execute_result"
    }
   ],
   "source": [
    "df2.iloc[:1, 2:]"
   ]
  },
  {
   "cell_type": "markdown",
   "metadata": {
    "slideshow": {
     "slide_type": "subslide"
    }
   },
   "source": [
    "## `.loc`\n",
    "\n",
    "Nutzt label-basierte Indexierung. Diese folgt **nicht** den üblichen Python Indexierungsregeln. Das Letzte Element ist in der Auswahl enthalten. "
   ]
  },
  {
   "cell_type": "code",
   "execution_count": 21,
   "metadata": {},
   "outputs": [
    {
     "data": {
      "text/html": [
       "<div>\n",
       "<style scoped>\n",
       "    .dataframe tbody tr th:only-of-type {\n",
       "        vertical-align: middle;\n",
       "    }\n",
       "\n",
       "    .dataframe tbody tr th {\n",
       "        vertical-align: top;\n",
       "    }\n",
       "\n",
       "    .dataframe thead th {\n",
       "        text-align: right;\n",
       "    }\n",
       "</style>\n",
       "<table border=\"1\" class=\"dataframe\">\n",
       "  <thead>\n",
       "    <tr style=\"text-align: right;\">\n",
       "      <th></th>\n",
       "      <th>C</th>\n",
       "      <th>D</th>\n",
       "      <th>E</th>\n",
       "      <th>F</th>\n",
       "    </tr>\n",
       "  </thead>\n",
       "  <tbody>\n",
       "    <tr>\n",
       "      <th>0</th>\n",
       "      <td>1.0</td>\n",
       "      <td>-0.231526</td>\n",
       "      <td>test</td>\n",
       "      <td>foo</td>\n",
       "    </tr>\n",
       "    <tr>\n",
       "      <th>1</th>\n",
       "      <td>1.0</td>\n",
       "      <td>2.067632</td>\n",
       "      <td>train</td>\n",
       "      <td>bar</td>\n",
       "    </tr>\n",
       "  </tbody>\n",
       "</table>\n",
       "</div>"
      ],
      "text/plain": [
       "     C         D      E    F\n",
       "0  1.0 -0.231526   test  foo\n",
       "1  1.0  2.067632  train  bar"
      ]
     },
     "execution_count": 21,
     "metadata": {},
     "output_type": "execute_result"
    }
   ],
   "source": [
    "df2.loc[:1, 'C':]"
   ]
  }
 ],
 "metadata": {
  "celltoolbar": "Slideshow",
  "kernelspec": {
   "display_name": "Python 3 (ipykernel)",
   "language": "python",
   "name": "python3"
  },
  "language_info": {
   "codemirror_mode": {
    "name": "ipython",
    "version": 3
   },
   "file_extension": ".py",
   "mimetype": "text/x-python",
   "name": "python",
   "nbconvert_exporter": "python",
   "pygments_lexer": "ipython3",
   "version": "3.10.2"
  }
 },
 "nbformat": 4,
 "nbformat_minor": 2
}
