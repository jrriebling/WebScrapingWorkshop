{
 "cells": [
  {
   "cell_type": "markdown",
   "metadata": {
    "slideshow": {
     "slide_type": "slide"
    }
   },
   "source": [
    "**Web Scraping und Data Mining in Python**\n",
    "\n",
    "# Pandas Text und Data Munging\n",
    "\n",
    "Jan Riebling, *University Wuppertal*"
   ]
  },
  {
   "cell_type": "markdown",
   "metadata": {
    "slideshow": {
     "slide_type": "slide"
    }
   },
   "source": [
    "# Python I/O"
   ]
  },
  {
   "cell_type": "markdown",
   "metadata": {
    "slideshow": {
     "slide_type": "subslide"
    }
   },
   "source": [
    "## `file`-Objekte\n",
    "\n",
    "Funktioniert wie `urlopen` aber spezifisch für Zugriffe auf das eigene Dateisystem.\n",
    "\n",
    "Die Funktion `open(path, mode)` erlaubt Dateizugriff auf drei verschiedene Arten (`mode`):\n",
    "\n",
    "* `r`: Lesezugriff.\n",
    "* `w`: Schreibzugriff.\n",
    "* `a`: Ans Ende der Datei anhängen."
   ]
  },
  {
   "cell_type": "code",
   "execution_count": 1,
   "metadata": {
    "slideshow": {
     "slide_type": "subslide"
    }
   },
   "outputs": [],
   "source": [
    "text = 'Das ist ein Satz.\\nDies hier auch.'\n",
    "\n",
    "f = open('../fileIO.txt', 'w')\n",
    "\n",
    "f.write(text)\n",
    "\n",
    "f.close()"
   ]
  },
  {
   "cell_type": "code",
   "execution_count": 2,
   "metadata": {
    "slideshow": {
     "slide_type": "subslide"
    }
   },
   "outputs": [
    {
     "name": "stdout",
     "output_type": "stream",
     "text": [
      "Das ist ein Satz.\n",
      "Dies hier auch.\n"
     ]
    }
   ],
   "source": [
    "with open('fileIO.txt', 'r') as f:\n",
    "    print(f.read())"
   ]
  },
  {
   "cell_type": "markdown",
   "metadata": {
    "slideshow": {
     "slide_type": "subslide"
    }
   },
   "source": [
    "## oder so..."
   ]
  },
  {
   "cell_type": "code",
   "execution_count": null,
   "metadata": {},
   "outputs": [],
   "source": [
    "%cat ../fileIO.txt"
   ]
  },
  {
   "cell_type": "code",
   "execution_count": 10,
   "metadata": {},
   "outputs": [
    {
     "data": {
      "text/plain": [
       "'/home/jrriebling/git/WebScrapingWorkshop/Skripte'"
      ]
     },
     "execution_count": 10,
     "metadata": {},
     "output_type": "execute_result"
    }
   ],
   "source": [
    "%pwd"
   ]
  },
  {
   "cell_type": "code",
   "execution_count": 9,
   "metadata": {},
   "outputs": [
    {
     "data": {
      "text/plain": [
       "['01.Das\\\\ Medium\\\\ Data\\\\ Problem.ipynb',\n",
       " '02.Anaconda\\\\ Distribution.ipynb',\n",
       " '03.Jupyters\\\\ Infrastruktur.ipynb',\n",
       " '04.Wissenschaftliches\\\\ Schreiben.ipynb',\n",
       " '05.Primitive\\\\ Datentypen.ipynb',\n",
       " '06.Sequenzen\\\\ und\\\\ Container.ipynb',\n",
       " '07.Schleifen\\\\ und\\\\ logische\\\\ Bedingungen.ipynb',\n",
       " '08.Funktionen\\\\ und\\\\ Klassen.ipynb',\n",
       " '09.DataFrames\\\\ und\\\\ Serien.ipynb']"
      ]
     },
     "execution_count": 9,
     "metadata": {},
     "output_type": "execute_result"
    }
   ],
   "source": [
    "text = !cat ../fileIO.txt\n",
    "\n",
    "Liste = !dir /help\n",
    "\n",
    "Liste"
   ]
  },
  {
   "cell_type": "markdown",
   "metadata": {
    "slideshow": {
     "slide_type": "slide"
    }
   },
   "source": [
    "# Pandas I/O"
   ]
  },
  {
   "cell_type": "markdown",
   "metadata": {
    "slideshow": {
     "slide_type": "subslide"
    }
   },
   "source": [
    "## Allgemein\n",
    "\n",
    "Pandas verfügt über eine Vielzahl von I/O Funktionen, die [hier](https://pandas.pydata.org/pandas-docs/stable/user_guide/io.html) ausführlich beschrieben werden.\n",
    "\n",
    "Allgemeines Schema:\n",
    "    \n",
    "* Einlesen: `pd.read_` + Name des Formats.\n",
    "* Speichern: Datenobjekt + `.to_` + Name des Formats."
   ]
  },
  {
   "cell_type": "markdown",
   "metadata": {
    "slideshow": {
     "slide_type": "subslide"
    }
   },
   "source": [
    "## `read_html`\n",
    "\n",
    "Pandas bietet auch eine Funktion zum Einlesen und parsen von HTML an. Diese ist in der Lage HTML-Tabellen (`<table>`) zu lesen und gibt eine Liste von DataFrames zurück."
   ]
  },
  {
   "cell_type": "code",
   "execution_count": null,
   "metadata": {
    "slideshow": {
     "slide_type": "subslide"
    }
   },
   "outputs": [],
   "source": [
    "import pandas as pd\n",
    "\n",
    "dfs = pd.read_html('https://de.wikipedia.org/wiki/Land_(Deutschland)', \n",
    "                   header=0,\n",
    "                   decimal=',',\n",
    "                   thousands='.')\n",
    "\n",
    "df = dfs[0]"
   ]
  },
  {
   "cell_type": "code",
   "execution_count": 14,
   "metadata": {
    "slideshow": {
     "slide_type": "subslide"
    }
   },
   "outputs": [
    {
     "data": {
      "text/html": [
       "<div>\n",
       "<style scoped>\n",
       "    .dataframe tbody tr th:only-of-type {\n",
       "        vertical-align: middle;\n",
       "    }\n",
       "\n",
       "    .dataframe tbody tr th {\n",
       "        vertical-align: top;\n",
       "    }\n",
       "\n",
       "    .dataframe thead th {\n",
       "        text-align: right;\n",
       "    }\n",
       "</style>\n",
       "<table border=\"1\" class=\"dataframe\">\n",
       "  <thead>\n",
       "    <tr style=\"text-align: right;\">\n",
       "      <th></th>\n",
       "      <th>Wappen</th>\n",
       "      <th>Land</th>\n",
       "      <th>Abk.</th>\n",
       "      <th>Haupt­stadt</th>\n",
       "      <th>bevöl­kerungs-reichste Stadta</th>\n",
       "      <th>Beitrittzum Bund</th>\n",
       "      <th>Regierungs-chef</th>\n",
       "      <th>Regierungs-partei(en)</th>\n",
       "      <th>Bundes­rats-stimmen</th>\n",
       "      <th>Fläche(km²)[12]</th>\n",
       "      <th>Ein-wohner(Mio.)[12]</th>\n",
       "      <th>Ein-wohnerje km²[12]</th>\n",
       "      <th>Aus­länder(%)[13]</th>\n",
       "      <th>Sprachen</th>\n",
       "    </tr>\n",
       "  </thead>\n",
       "  <tbody>\n",
       "    <tr>\n",
       "      <th>0</th>\n",
       "      <td>NaN</td>\n",
       "      <td>Baden-Württemberg</td>\n",
       "      <td>BW</td>\n",
       "      <td>Stuttgart</td>\n",
       "      <td>Stuttgart</td>\n",
       "      <td>1949[14]</td>\n",
       "      <td>Winfried Kretschmann (Grüne)</td>\n",
       "      <td>Grüne und CDU</td>\n",
       "      <td>6</td>\n",
       "      <td>35748</td>\n",
       "      <td>11.070</td>\n",
       "      <td>310</td>\n",
       "      <td>15.5</td>\n",
       "      <td>Deutsch</td>\n",
       "    </tr>\n",
       "    <tr>\n",
       "      <th>1</th>\n",
       "      <td>NaN</td>\n",
       "      <td>Bayern</td>\n",
       "      <td>BY</td>\n",
       "      <td>München</td>\n",
       "      <td>München</td>\n",
       "      <td>1949</td>\n",
       "      <td>Markus Söder (CSU)</td>\n",
       "      <td>CSU und Freie Wähler</td>\n",
       "      <td>6</td>\n",
       "      <td>70542</td>\n",
       "      <td>13.077</td>\n",
       "      <td>185</td>\n",
       "      <td>13.2</td>\n",
       "      <td>Deutsch</td>\n",
       "    </tr>\n",
       "    <tr>\n",
       "      <th>2</th>\n",
       "      <td>NaN</td>\n",
       "      <td>Berlin</td>\n",
       "      <td>BE</td>\n",
       "      <td>—</td>\n",
       "      <td>—</td>\n",
       "      <td>1990[15]</td>\n",
       "      <td>Franziska Giffey (SPD)</td>\n",
       "      <td>SPD, Linke und Grüne</td>\n",
       "      <td>4</td>\n",
       "      <td>891</td>\n",
       "      <td>3.645</td>\n",
       "      <td>4090</td>\n",
       "      <td>18.5</td>\n",
       "      <td>Deutsch</td>\n",
       "    </tr>\n",
       "    <tr>\n",
       "      <th>3</th>\n",
       "      <td>NaN</td>\n",
       "      <td>Brandenburg</td>\n",
       "      <td>BB</td>\n",
       "      <td>Potsdam</td>\n",
       "      <td>Potsdam</td>\n",
       "      <td>1990</td>\n",
       "      <td>Dietmar Woidke (SPD)</td>\n",
       "      <td>SPD, CDU und Grüne</td>\n",
       "      <td>4</td>\n",
       "      <td>29654</td>\n",
       "      <td>2.512</td>\n",
       "      <td>85</td>\n",
       "      <td>4.7</td>\n",
       "      <td>Deutsch, Niedersorbisch, Niederdeutsch</td>\n",
       "    </tr>\n",
       "    <tr>\n",
       "      <th>4</th>\n",
       "      <td>NaN</td>\n",
       "      <td>Bremen</td>\n",
       "      <td>HB</td>\n",
       "      <td>Bremen(de facto)</td>\n",
       "      <td>Bremen</td>\n",
       "      <td>1949</td>\n",
       "      <td>Andreas Bovenschulte (SPD)</td>\n",
       "      <td>SPD, Grüne und Linke</td>\n",
       "      <td>3</td>\n",
       "      <td>419</td>\n",
       "      <td>0.683</td>\n",
       "      <td>1629</td>\n",
       "      <td>18.1</td>\n",
       "      <td>Deutsch, Niederdeutsch</td>\n",
       "    </tr>\n",
       "    <tr>\n",
       "      <th>5</th>\n",
       "      <td>NaN</td>\n",
       "      <td>Hamburg</td>\n",
       "      <td>HH</td>\n",
       "      <td>—</td>\n",
       "      <td>—</td>\n",
       "      <td>1949</td>\n",
       "      <td>Peter Tschentscher (SPD)</td>\n",
       "      <td>SPD und Grüne</td>\n",
       "      <td>3</td>\n",
       "      <td>755</td>\n",
       "      <td>1.841</td>\n",
       "      <td>2438</td>\n",
       "      <td>16.4</td>\n",
       "      <td>Deutsch, Niederdeutsch</td>\n",
       "    </tr>\n",
       "    <tr>\n",
       "      <th>6</th>\n",
       "      <td>NaN</td>\n",
       "      <td>Hessen</td>\n",
       "      <td>HE</td>\n",
       "      <td>Wiesbaden</td>\n",
       "      <td>Frankfurt am Main</td>\n",
       "      <td>1949</td>\n",
       "      <td>Volker Bouffier (CDU)</td>\n",
       "      <td>CDU und Grüne</td>\n",
       "      <td>5</td>\n",
       "      <td>21116</td>\n",
       "      <td>6.266</td>\n",
       "      <td>297</td>\n",
       "      <td>16.2</td>\n",
       "      <td>Deutsch</td>\n",
       "    </tr>\n",
       "    <tr>\n",
       "      <th>7</th>\n",
       "      <td>NaN</td>\n",
       "      <td>Mecklenburg-Vorpommern</td>\n",
       "      <td>MV</td>\n",
       "      <td>Schwerin</td>\n",
       "      <td>Rostock</td>\n",
       "      <td>1990</td>\n",
       "      <td>Manuela Schwesig (SPD)</td>\n",
       "      <td>SPD und Linke</td>\n",
       "      <td>3</td>\n",
       "      <td>23295</td>\n",
       "      <td>1.610</td>\n",
       "      <td>69</td>\n",
       "      <td>4.5</td>\n",
       "      <td>Deutsch, Niederdeutsch</td>\n",
       "    </tr>\n",
       "    <tr>\n",
       "      <th>8</th>\n",
       "      <td>NaN</td>\n",
       "      <td>Niedersachsen</td>\n",
       "      <td>NI</td>\n",
       "      <td>Hannover</td>\n",
       "      <td>Hannover</td>\n",
       "      <td>1949</td>\n",
       "      <td>Stephan Weil (SPD)</td>\n",
       "      <td>SPD und CDU</td>\n",
       "      <td>6</td>\n",
       "      <td>47710</td>\n",
       "      <td>7.982</td>\n",
       "      <td>167</td>\n",
       "      <td>9.4</td>\n",
       "      <td>Deutsch, Saterfriesisch, Niederdeutsch</td>\n",
       "    </tr>\n",
       "    <tr>\n",
       "      <th>9</th>\n",
       "      <td>NaN</td>\n",
       "      <td>Nordrhein-Westfalen</td>\n",
       "      <td>NW</td>\n",
       "      <td>Düsseldorf</td>\n",
       "      <td>Köln</td>\n",
       "      <td>1949</td>\n",
       "      <td>Hendrik Wüst (CDU)</td>\n",
       "      <td>CDU und FDP</td>\n",
       "      <td>6</td>\n",
       "      <td>34112</td>\n",
       "      <td>17.933</td>\n",
       "      <td>526</td>\n",
       "      <td>13.3</td>\n",
       "      <td>Deutsch, Niederdeutsch</td>\n",
       "    </tr>\n",
       "    <tr>\n",
       "      <th>10</th>\n",
       "      <td>NaN</td>\n",
       "      <td>Rheinland-Pfalz</td>\n",
       "      <td>RP</td>\n",
       "      <td>Mainz</td>\n",
       "      <td>Mainz</td>\n",
       "      <td>1949</td>\n",
       "      <td>Malu Dreyer (SPD)</td>\n",
       "      <td>SPD, Grüne und FDP</td>\n",
       "      <td>4</td>\n",
       "      <td>19858</td>\n",
       "      <td>4.085</td>\n",
       "      <td>206</td>\n",
       "      <td>11.1</td>\n",
       "      <td>Deutsch</td>\n",
       "    </tr>\n",
       "    <tr>\n",
       "      <th>11</th>\n",
       "      <td>NaN</td>\n",
       "      <td>Saarland</td>\n",
       "      <td>SL</td>\n",
       "      <td>Saarbrücken</td>\n",
       "      <td>Saarbrücken</td>\n",
       "      <td>1957</td>\n",
       "      <td>Tobias Hans (CDU)</td>\n",
       "      <td>CDU und SPD</td>\n",
       "      <td>3</td>\n",
       "      <td>2571</td>\n",
       "      <td>0.991</td>\n",
       "      <td>385</td>\n",
       "      <td>11.1</td>\n",
       "      <td>Deutsch</td>\n",
       "    </tr>\n",
       "    <tr>\n",
       "      <th>12</th>\n",
       "      <td>NaN</td>\n",
       "      <td>Sachsen</td>\n",
       "      <td>SN</td>\n",
       "      <td>Dresden</td>\n",
       "      <td>Leipzig</td>\n",
       "      <td>1990</td>\n",
       "      <td>Michael Kretschmer (CDU)</td>\n",
       "      <td>CDU, Grüne und SPD</td>\n",
       "      <td>4</td>\n",
       "      <td>18450</td>\n",
       "      <td>4.078</td>\n",
       "      <td>221</td>\n",
       "      <td>4.9</td>\n",
       "      <td>Deutsch, Obersorbisch</td>\n",
       "    </tr>\n",
       "    <tr>\n",
       "      <th>13</th>\n",
       "      <td>NaN</td>\n",
       "      <td>Sachsen-Anhalt</td>\n",
       "      <td>ST</td>\n",
       "      <td>Magdeburg</td>\n",
       "      <td>Halle (Saale)</td>\n",
       "      <td>1990</td>\n",
       "      <td>Reiner Haseloff (CDU)</td>\n",
       "      <td>CDU, SPD und FDP</td>\n",
       "      <td>4</td>\n",
       "      <td>20454</td>\n",
       "      <td>2.208</td>\n",
       "      <td>108</td>\n",
       "      <td>4.9</td>\n",
       "      <td>Deutsch, Niederdeutsch</td>\n",
       "    </tr>\n",
       "    <tr>\n",
       "      <th>14</th>\n",
       "      <td>NaN</td>\n",
       "      <td>Schleswig-Holstein</td>\n",
       "      <td>SH</td>\n",
       "      <td>Kiel</td>\n",
       "      <td>Kiel</td>\n",
       "      <td>1949</td>\n",
       "      <td>Daniel Günther (CDU)</td>\n",
       "      <td>CDU, Grüne und FDP</td>\n",
       "      <td>4</td>\n",
       "      <td>15804</td>\n",
       "      <td>2.897</td>\n",
       "      <td>183</td>\n",
       "      <td>8.0</td>\n",
       "      <td>Deutsch, Dänisch, Nordfriesisch, Plattdeutsch ...</td>\n",
       "    </tr>\n",
       "    <tr>\n",
       "      <th>15</th>\n",
       "      <td>NaN</td>\n",
       "      <td>Thüringen</td>\n",
       "      <td>TH</td>\n",
       "      <td>Erfurt</td>\n",
       "      <td>Erfurt</td>\n",
       "      <td>1990</td>\n",
       "      <td>Bodo Ramelow (Linke)</td>\n",
       "      <td>Linke, SPD und Grüne</td>\n",
       "      <td>4</td>\n",
       "      <td>16202</td>\n",
       "      <td>2.143</td>\n",
       "      <td>132</td>\n",
       "      <td>4.9</td>\n",
       "      <td>Deutsch</td>\n",
       "    </tr>\n",
       "    <tr>\n",
       "      <th>16</th>\n",
       "      <td>NaN</td>\n",
       "      <td>Bundes­republik Deutschland</td>\n",
       "      <td>DE</td>\n",
       "      <td>Berlin</td>\n",
       "      <td>Berlin</td>\n",
       "      <td>—</td>\n",
       "      <td>Olaf Scholz (SPD)</td>\n",
       "      <td>SPD, Grüne und FDP</td>\n",
       "      <td>b –</td>\n",
       "      <td>357582</td>\n",
       "      <td>83.019</td>\n",
       "      <td>232</td>\n",
       "      <td>12.2</td>\n",
       "      <td>Deutsch (Amtssprache) und die anerkannten Mind...</td>\n",
       "    </tr>\n",
       "  </tbody>\n",
       "</table>\n",
       "</div>"
      ],
      "text/plain": [
       "    Wappen                         Land Abk.       Haupt­stadt  \\\n",
       "0      NaN            Baden-Württemberg   BW         Stuttgart   \n",
       "1      NaN                       Bayern   BY           München   \n",
       "2      NaN                       Berlin   BE                 —   \n",
       "3      NaN                  Brandenburg   BB           Potsdam   \n",
       "4      NaN                       Bremen   HB  Bremen(de facto)   \n",
       "5      NaN                      Hamburg   HH                 —   \n",
       "6      NaN                       Hessen   HE         Wiesbaden   \n",
       "7      NaN       Mecklenburg-Vorpommern   MV          Schwerin   \n",
       "8      NaN                Niedersachsen   NI          Hannover   \n",
       "9      NaN          Nordrhein-Westfalen   NW        Düsseldorf   \n",
       "10     NaN              Rheinland-Pfalz   RP             Mainz   \n",
       "11     NaN                     Saarland   SL       Saarbrücken   \n",
       "12     NaN                      Sachsen   SN           Dresden   \n",
       "13     NaN               Sachsen-Anhalt   ST         Magdeburg   \n",
       "14     NaN           Schleswig-Holstein   SH              Kiel   \n",
       "15     NaN                    Thüringen   TH            Erfurt   \n",
       "16     NaN  Bundes­republik Deutschland   DE            Berlin   \n",
       "\n",
       "   bevöl­kerungs-reichste Stadta Beitrittzum Bund  \\\n",
       "0                      Stuttgart         1949[14]   \n",
       "1                        München             1949   \n",
       "2                              —         1990[15]   \n",
       "3                        Potsdam             1990   \n",
       "4                         Bremen             1949   \n",
       "5                              —             1949   \n",
       "6              Frankfurt am Main             1949   \n",
       "7                        Rostock             1990   \n",
       "8                       Hannover             1949   \n",
       "9                           Köln             1949   \n",
       "10                         Mainz             1949   \n",
       "11                   Saarbrücken             1957   \n",
       "12                       Leipzig             1990   \n",
       "13                 Halle (Saale)             1990   \n",
       "14                          Kiel             1949   \n",
       "15                        Erfurt             1990   \n",
       "16                        Berlin                —   \n",
       "\n",
       "                 Regierungs-chef Regierungs-partei(en) Bundes­rats-stimmen  \\\n",
       "0   Winfried Kretschmann (Grüne)         Grüne und CDU                   6   \n",
       "1             Markus Söder (CSU)  CSU und Freie Wähler                   6   \n",
       "2         Franziska Giffey (SPD)  SPD, Linke und Grüne                   4   \n",
       "3           Dietmar Woidke (SPD)    SPD, CDU und Grüne                   4   \n",
       "4     Andreas Bovenschulte (SPD)  SPD, Grüne und Linke                   3   \n",
       "5       Peter Tschentscher (SPD)         SPD und Grüne                   3   \n",
       "6          Volker Bouffier (CDU)         CDU und Grüne                   5   \n",
       "7         Manuela Schwesig (SPD)         SPD und Linke                   3   \n",
       "8             Stephan Weil (SPD)           SPD und CDU                   6   \n",
       "9             Hendrik Wüst (CDU)           CDU und FDP                   6   \n",
       "10             Malu Dreyer (SPD)    SPD, Grüne und FDP                   4   \n",
       "11             Tobias Hans (CDU)           CDU und SPD                   3   \n",
       "12      Michael Kretschmer (CDU)    CDU, Grüne und SPD                   4   \n",
       "13         Reiner Haseloff (CDU)      CDU, SPD und FDP                   4   \n",
       "14          Daniel Günther (CDU)    CDU, Grüne und FDP                   4   \n",
       "15          Bodo Ramelow (Linke)  Linke, SPD und Grüne                   4   \n",
       "16             Olaf Scholz (SPD)    SPD, Grüne und FDP                 b –   \n",
       "\n",
       "    Fläche(km²)[12]  Ein-wohner(Mio.)[12]  Ein-wohnerje km²[12]  \\\n",
       "0             35748                11.070                   310   \n",
       "1             70542                13.077                   185   \n",
       "2               891                 3.645                  4090   \n",
       "3             29654                 2.512                    85   \n",
       "4               419                 0.683                  1629   \n",
       "5               755                 1.841                  2438   \n",
       "6             21116                 6.266                   297   \n",
       "7             23295                 1.610                    69   \n",
       "8             47710                 7.982                   167   \n",
       "9             34112                17.933                   526   \n",
       "10            19858                 4.085                   206   \n",
       "11             2571                 0.991                   385   \n",
       "12            18450                 4.078                   221   \n",
       "13            20454                 2.208                   108   \n",
       "14            15804                 2.897                   183   \n",
       "15            16202                 2.143                   132   \n",
       "16           357582                83.019                   232   \n",
       "\n",
       "    Aus­länder(%)[13]                                           Sprachen  \n",
       "0                15.5                                            Deutsch  \n",
       "1                13.2                                            Deutsch  \n",
       "2                18.5                                            Deutsch  \n",
       "3                 4.7             Deutsch, Niedersorbisch, Niederdeutsch  \n",
       "4                18.1                             Deutsch, Niederdeutsch  \n",
       "5                16.4                             Deutsch, Niederdeutsch  \n",
       "6                16.2                                            Deutsch  \n",
       "7                 4.5                             Deutsch, Niederdeutsch  \n",
       "8                 9.4             Deutsch, Saterfriesisch, Niederdeutsch  \n",
       "9                13.3                             Deutsch, Niederdeutsch  \n",
       "10               11.1                                            Deutsch  \n",
       "11               11.1                                            Deutsch  \n",
       "12                4.9                              Deutsch, Obersorbisch  \n",
       "13                4.9                             Deutsch, Niederdeutsch  \n",
       "14                8.0  Deutsch, Dänisch, Nordfriesisch, Plattdeutsch ...  \n",
       "15                4.9                                            Deutsch  \n",
       "16               12.2  Deutsch (Amtssprache) und die anerkannten Mind...  "
      ]
     },
     "execution_count": 14,
     "metadata": {},
     "output_type": "execute_result"
    }
   ],
   "source": [
    "dfs[0]"
   ]
  },
  {
   "cell_type": "markdown",
   "metadata": {
    "slideshow": {
     "slide_type": "slide"
    }
   },
   "source": [
    "# Beautiful Soup RegEx"
   ]
  },
  {
   "cell_type": "markdown",
   "metadata": {
    "slideshow": {
     "slide_type": "subslide"
    }
   },
   "source": [
    "## Syntax\n",
    "\n",
    "Beautiful Soup erlaubt ebenfalls reguläre Ausdrücke beim Durchsuchen des Baumgraphens. Diese müssen vorher mit `re.compile` kompiliert werden."
   ]
  },
  {
   "cell_type": "code",
   "execution_count": 17,
   "metadata": {
    "slideshow": {
     "slide_type": "subslide"
    }
   },
   "outputs": [],
   "source": [
    "import re\n",
    "from bs4 import BeautifulSoup\n",
    "from urllib.request import urlopen\n",
    "\n",
    "def soupify(url, features='html5lib'):\n",
    "    \"\"\"Takes a URL, requests it and parses it through BeautifulSoup.\"\"\"\n",
    "    with urlopen(url) as response:\n",
    "        html = response.read()\n",
    "    soup = BeautifulSoup(html, features=features)\n",
    "    return soup"
   ]
  },
  {
   "cell_type": "code",
   "execution_count": null,
   "metadata": {
    "slideshow": {
     "slide_type": "subslide"
    }
   },
   "outputs": [],
   "source": [
    "## Beispiel\n",
    "\n",
    "soup = soupify('https://www.spiegel.de/nachrichtenarchiv/artikel-01.01.2021.html')"
   ]
  },
  {
   "cell_type": "code",
   "execution_count": 28,
   "metadata": {
    "slideshow": {
     "slide_type": "subslide"
    }
   },
   "outputs": [
    {
     "data": {
      "text/plain": [
       "['https://www.spiegel.de/politik/deutschland/landtagswahlen-2021-in-thueringen-sachsen-anhalt-mecklenburg-vorpommern-instabile-verhaeltnisse-a-9fb3f53c-6ca6-472a-bcd0-3a040ba2786b',\n",
       " 'https://www.spiegel.de/sport/darts-wm-2021-in-london-michael-van-gerwen-chancenlos-gegen-dave-chisnall-a-c0a1d985-d5e0-40ed-9e65-bae12b51d879',\n",
       " 'https://www.spiegel.de/panorama/justiz/bosnien-herzegowina-acht-menschen-sterben-bei-silvesterparty-offenbar-an-gasvergiftung-a-c1fd420b-2371-4107-8e6d-51ecd260ca4a',\n",
       " 'https://www.spiegel.de/ausland/belarussen-im-exil-die-sicherheitsleute-pruegelten-die-meisten-halb-tot-a-df0c3f86-d49b-46d2-9970-b32afb7b136d',\n",
       " 'https://www.spiegel.de/panorama/justiz/frankreich-mann-auf-silvesterparty-erschossen-a-f258571a-4b21-4088-a9c1-6d300b2b428d',\n",
       " 'https://www.spiegel.de/panorama/dortmund-experten-suchen-nach-schlange-in-mehrfamilienhaus-a-e35fb632-e859-4a8f-b323-1280d4317c00',\n",
       " 'https://www.spiegel.de/ausland/gesetzespaket-zu-verteidigungshaushalt-us-kongress-ueberstimmt-erstmals-veto-trumps-a-e4f24206-ef70-44eb-9a0c-3f82b0aa69f0',\n",
       " 'https://www.spiegel.de/panorama/bogota-avianca-airbus-kollidiert-offenbar-mit-silvester-ballon-a-ae231cfa-baf0-4d14-a92b-4c2b65eeb459',\n",
       " 'https://www.spiegel.de/ausland/banco-financiero-international-usa-verhaengen-neue-sanktionen-gegen-kuba-a-2c3e3c53-8f4f-48ae-a4bb-7c01c57bc926',\n",
       " 'https://www.spiegel.de/panorama/silvester-2020-2021-wie-die-welt-nicht-den-jahreswechsel-feierte-a-260c6614-a85e-4a7d-8733-b9af8ffd5682',\n",
       " 'https://www.spiegel.de/sport/wintersport/vierschanzentournee-polens-gloria-dawid-kubacki-gewinnt-neujahrsspringen-a-abd05a88-e8f5-4396-99cc-ed2810884b4f',\n",
       " 'https://www.spiegel.de/wissenschaft/weltall/satelliten-aus-holz-ist-projekt-aus-japan-schnapsidee-oder-innovation-a-fac2d435-48b9-4621-8742-1db608844607',\n",
       " 'https://www.spiegel.de/sport/darts-wm-gary-anderson-schlaegt-den-weltmeister-schreck-a-1a0cbd28-2693-4d35-b2fa-af9147f543de',\n",
       " 'https://www.spiegel.de/stil/smart-gadgets-was-schickes-design-bringen-soll-wollen-wir-freunde-sein-a-abacb4a2-a9e4-4ae1-aa77-bd9a720b057e',\n",
       " 'https://www.spiegel.de/panorama/umwelthilfe-fordert-vollstaendiges-boellerverbot-a-642389d5-f489-4c11-99ac-e987c3343253',\n",
       " 'https://www.spiegel.de/ausland/grossbritannien-nach-dem-brexit-wunsch-und-wirklichkeit-a-2dbc1c7e-045d-41f8-ae84-a10b26348b22',\n",
       " 'https://www.spiegel.de/wirtschaft/soziales/2021-acht-katastrophen-die-ausbleiben-kolumne-a-2f9d769d-a2a6-4520-8941-9136288b568e',\n",
       " 'https://www.spiegel.de/wissenschaft/mensch/corona-andere-pandemien-bedrohen-die-menschen-who-warnt-a-8c899749-bf9e-4d85-a194-e31b9454b909',\n",
       " 'https://www.spiegel.de/gesundheit/diagnose/wie-gut-kennen-sie-ihre-leber-a-134291d6-a6ff-4de3-b338-67340fcfd53f',\n",
       " 'https://www.spiegel.de/netzwelt/gadgets/das-usb-namenschaos-geht-weiter-a-b56369e8-d70f-4f66-9d61-df08e317fdde',\n",
       " 'https://www.spiegel.de/sport/wintersport/vierschanzentournee-dawid-kubacki-springt-mit-schanzenrekord-zum-sieg-beim-neujahrsspringen-a-cde8f504-276a-4014-a658-55280359f5ea',\n",
       " 'https://www.spiegel.de/ausland/fluechtlingsdrama-in-bosnien-armee-errichtet-zelte-im-abgebrannten-lager-lipa-a-f53def53-5eac-4f39-9024-e0afe07d101f',\n",
       " 'https://www.spiegel.de/panorama/justiz/leipzig-bundeswehrfahrzeuge-abgebrannt-polizei-vermutet-brandstiftung-a-cf8dfc84-e71f-457c-bb41-49788b8be38d',\n",
       " 'https://www.spiegel.de/wirtschaft/krankenkassen-chef-der-techniker-rechtet-mit-deutlich-steigenden-beitraegen-a-57f57a59-484c-473e-9633-5c74adb5dfed',\n",
       " 'https://www.spiegel.de/ausland/twitternder-us-praesident-trump-gegen-alle-a-569b00d2-e52d-4109-b6a2-368137fcfbb0',\n",
       " 'https://www.spiegel.de/ausland/persischer-golf-mine-an-irakischem-oeltanker-entdeckt-a-026ba90a-817a-4725-97e6-0808ff8ffbe0',\n",
       " 'https://www.spiegel.de/panorama/justiz/corona-impfungen-es-geht-nicht-um-privilegien-a-ecd68437-5b88-4094-bdbc-be2f26e833d4',\n",
       " 'https://www.spiegel.de/kultur/tatort-heute-aus-weimar-der-feine-geist-im-schnellcheck-a-6dc72d22-9f07-48b4-8625-0a5c6839372c',\n",
       " 'https://www.spiegel.de/wirtschaft/jahr-der-ernuechterung-diw-chef-rechnet-nicht-mehr-mit-schneller-erholung-der-wirtschaft-a-fac81e43-0a88-46be-a72c-2e52f75bbe4e',\n",
       " 'https://www.spiegel.de/wirtschaft/soziales/grossbritannien-london-schafft-tampon-steuer-ab-a-bff34b50-ea98-4ce1-8de3-f307bc7e630e',\n",
       " 'https://www.spiegel.de/wirtschaft/unternehmen/daenemark-beginnt-mit-bauarbeiten-fuer-fehmarnbelt-tunnel-a-d28f6c8e-6dea-4531-aa6c-a48954f1bd40',\n",
       " 'https://www.spiegel.de/wirtschaft/erntehelfer-bauern-rechnen-auch-2021-mit-zehntausenden-ausfaellen-a-82f125a2-8fac-453c-8840-d0a51a8bb843',\n",
       " 'https://www.spiegel.de/wissenschaft/perseverance-tianwen-james-webb-teleskop-die-astro-vorschau-2021-a-48950ed7-a905-4e13-9d87-7b1cf6003dc2',\n",
       " 'https://www.spiegel.de/politik/rechtsextremismus-wehbeauftragte-sieht-verbesserungen-bei-der-bundeswehr-a-b0fdfc0e-4daa-4150-bc44-0c41fbfec995',\n",
       " 'https://www.spiegel.de/ausland/nach-dem-brexit-keine-staus-am-eurotunnel-a-5835b34f-6f35-4dbe-85b0-02f3e559f206',\n",
       " 'https://www.spiegel.de/politik/haushaltsveto-trump-letzter-schlag-gegen-die-uno-laeuft-ins-leere-a-3958691a-b779-42f1-ab53-860ecdb24db4',\n",
       " 'https://www.spiegel.de/ausland/eu-ratsvorsitz-uno-sicherheitsrat-osze-vorsitz-wer-uebernimmt-im-jahr-2021-a-29be1933-e379-4c45-a58d-de05f40408ad',\n",
       " 'https://www.spiegel.de/politik/deutschland/politiker-nachwuchs-von-diesen-politikerinnen-unter-30-werden-sie-2021-noch-hoeren-a-5d9f80a8-b955-42b1-b4cd-9e84b38d8d50',\n",
       " 'https://www.spiegel.de/netzwelt/netzpolitik/personalausweis-csu-im-bundestag-fordert-smartphone-perso-a-940371a3-d87f-4180-a1b6-c9944d41ded8',\n",
       " 'https://www.spiegel.de/panorama/corona-silvester-die-welt-startet-verhalten-ins-neue-jahr-a-a73dfe20-c560-4bbf-bb32-a3839e31d368',\n",
       " 'https://www.spiegel.de/wirtschaft/neu-in-2021-das-aendert-sich-ab-heute-a-21a74275-0e3b-4a3d-91dd-242668a00b58',\n",
       " 'https://www.spiegel.de/ausland/brexit-feier-in-london-der-stille-abschied-von-europa-a-a035442b-c098-46f8-8fa4-d966f4efd11c',\n",
       " 'https://www.spiegel.de/panorama/corona-in-den-usa-apotheker-soll-vorsaetzlich-hunderte-impfdosen-sabotiert-haben-a-b755061c-a458-4e8a-b8c6-6c9e4db9731e',\n",
       " 'https://www.spiegel.de/panorama/silvester-in-deutschland-ein-toter-und-schwerverletzte-bei-unfaellen-mit-boellern-a-59ebd93a-58f2-4ce4-bc63-46df0f70900d',\n",
       " 'https://www.spiegel.de/wissenschaft/corona-news-update-am-freitag-rki-meldet-22-924-neuinfektionen-und-553-neue-todesfaelle-a-fa5f2e43-1265-4229-a704-b83d3d9465b5',\n",
       " 'https://www.spiegel.de/ausland/senats-stichwahl-in-georgia-republikanischer-kandidat-muss-in-quarantaene-a-b205b3a8-4404-4cea-a985-315d0111db7d',\n",
       " 'https://www.spiegel.de/panorama/gesellschaft/silvester-feuerwerk-in-sydney-ohne-zuschauer-a-d9def405-3c1d-49c4-913a-c743ffd9691d']"
      ]
     },
     "execution_count": 28,
     "metadata": {},
     "output_type": "execute_result"
    }
   ],
   "source": [
    "articles = soup.find_all('article')\n",
    "\n",
    "pattern = re.compile(r'^m-splus-.+')\n",
    "\n",
    "[article.a['href'] for article in articles if not article.find(id=pattern)]"
   ]
  },
  {
   "cell_type": "code",
   "execution_count": null,
   "metadata": {},
   "outputs": [],
   "source": []
  },
  {
   "cell_type": "markdown",
   "metadata": {
    "slideshow": {
     "slide_type": "slide"
    }
   },
   "source": [
    "# Pandas RegEx"
   ]
  },
  {
   "cell_type": "markdown",
   "metadata": {
    "slideshow": {
     "slide_type": "subslide"
    }
   },
   "source": [
    "## Text in pd.Series\n",
    "\n",
    "* Pandas bietet eine die Möglichkeit Pythons String- und RgEx-Methoden über `Series`-objekte zu vektorisieren.\n",
    "* [Übersicht](https://pandas.pydata.org/pandas-docs/stable/text.html) des generellen Vorgehens.\n",
    "* [Auflistung](https://pandas.pydata.org/pandas-docs/stable/text.html#method-summary) der zur Verfügung stehenden Methoden. \n",
    "* Methoden an `.str` Attribut der Serie gebunden."
   ]
  },
  {
   "cell_type": "markdown",
   "metadata": {
    "slideshow": {
     "slide_type": "subslide"
    }
   },
   "source": [
    "## Data munging / wrangling\n",
    "\n",
    "Transformation von Rohdaten in ein statistisch/numerisch bearbeitbares Format sowie die dazugehörige Fehlerkorrektur."
   ]
  },
  {
   "cell_type": "code",
   "execution_count": 6,
   "metadata": {},
   "outputs": [
    {
     "ename": "NameError",
     "evalue": "name 'df' is not defined",
     "output_type": "error",
     "traceback": [
      "\u001b[0;31m---------------------------------------------------------------------------\u001b[0m",
      "\u001b[0;31mNameError\u001b[0m                                 Traceback (most recent call last)",
      "Input \u001b[0;32mIn [6]\u001b[0m, in \u001b[0;36m<cell line: 2>\u001b[0;34m()\u001b[0m\n\u001b[1;32m      1\u001b[0m \u001b[38;5;66;03m## Making all the parties into seperate data points:\u001b[39;00m\n\u001b[0;32m----> 2\u001b[0m \u001b[43mdf\u001b[49m[\u001b[38;5;124m'\u001b[39m\u001b[38;5;124mRegierungs-partei(en)\u001b[39m\u001b[38;5;124m'\u001b[39m]\n",
      "\u001b[0;31mNameError\u001b[0m: name 'df' is not defined"
     ]
    }
   ],
   "source": [
    "## Making all the parties into seperate data points:\n",
    "df['Regierungs-partei(en)']"
   ]
  },
  {
   "cell_type": "code",
   "execution_count": 48,
   "metadata": {
    "slideshow": {
     "slide_type": "subslide"
    }
   },
   "outputs": [
    {
     "data": {
      "text/html": [
       "<div>\n",
       "<style scoped>\n",
       "    .dataframe tbody tr th:only-of-type {\n",
       "        vertical-align: middle;\n",
       "    }\n",
       "\n",
       "    .dataframe tbody tr th {\n",
       "        vertical-align: top;\n",
       "    }\n",
       "\n",
       "    .dataframe thead th {\n",
       "        text-align: right;\n",
       "    }\n",
       "</style>\n",
       "<table border=\"1\" class=\"dataframe\">\n",
       "  <thead>\n",
       "    <tr style=\"text-align: right;\">\n",
       "      <th></th>\n",
       "      <th>0</th>\n",
       "      <th>1</th>\n",
       "      <th>2</th>\n",
       "    </tr>\n",
       "  </thead>\n",
       "  <tbody>\n",
       "    <tr>\n",
       "      <th>0</th>\n",
       "      <td>Grüne</td>\n",
       "      <td>CDU</td>\n",
       "      <td>None</td>\n",
       "    </tr>\n",
       "    <tr>\n",
       "      <th>1</th>\n",
       "      <td>CSU</td>\n",
       "      <td>None</td>\n",
       "      <td>None</td>\n",
       "    </tr>\n",
       "    <tr>\n",
       "      <th>2</th>\n",
       "      <td>SPD</td>\n",
       "      <td>Linke</td>\n",
       "      <td>Grüne</td>\n",
       "    </tr>\n",
       "    <tr>\n",
       "      <th>3</th>\n",
       "      <td>SPD</td>\n",
       "      <td>Linke</td>\n",
       "      <td>None</td>\n",
       "    </tr>\n",
       "    <tr>\n",
       "      <th>4</th>\n",
       "      <td>SPD</td>\n",
       "      <td>Grüne</td>\n",
       "      <td>None</td>\n",
       "    </tr>\n",
       "    <tr>\n",
       "      <th>5</th>\n",
       "      <td>SPD</td>\n",
       "      <td>Grüne</td>\n",
       "      <td>None</td>\n",
       "    </tr>\n",
       "    <tr>\n",
       "      <th>6</th>\n",
       "      <td>CDU</td>\n",
       "      <td>Grüne</td>\n",
       "      <td>None</td>\n",
       "    </tr>\n",
       "    <tr>\n",
       "      <th>7</th>\n",
       "      <td>SPD</td>\n",
       "      <td>CDU</td>\n",
       "      <td>None</td>\n",
       "    </tr>\n",
       "    <tr>\n",
       "      <th>8</th>\n",
       "      <td>SPD</td>\n",
       "      <td>CDU</td>\n",
       "      <td>None</td>\n",
       "    </tr>\n",
       "    <tr>\n",
       "      <th>9</th>\n",
       "      <td>CDU</td>\n",
       "      <td>FDP</td>\n",
       "      <td>None</td>\n",
       "    </tr>\n",
       "    <tr>\n",
       "      <th>10</th>\n",
       "      <td>SPD</td>\n",
       "      <td>FDP</td>\n",
       "      <td>Grüne</td>\n",
       "    </tr>\n",
       "    <tr>\n",
       "      <th>11</th>\n",
       "      <td>CDU</td>\n",
       "      <td>SPD</td>\n",
       "      <td>None</td>\n",
       "    </tr>\n",
       "    <tr>\n",
       "      <th>12</th>\n",
       "      <td>CDU</td>\n",
       "      <td>SPD</td>\n",
       "      <td>None</td>\n",
       "    </tr>\n",
       "    <tr>\n",
       "      <th>13</th>\n",
       "      <td>CDU</td>\n",
       "      <td>SPD</td>\n",
       "      <td>Grüne</td>\n",
       "    </tr>\n",
       "    <tr>\n",
       "      <th>14</th>\n",
       "      <td>CDU</td>\n",
       "      <td>FDP</td>\n",
       "      <td>Grüne</td>\n",
       "    </tr>\n",
       "    <tr>\n",
       "      <th>15</th>\n",
       "      <td>Die Linke</td>\n",
       "      <td>SPD</td>\n",
       "      <td>Grüne</td>\n",
       "    </tr>\n",
       "    <tr>\n",
       "      <th>16</th>\n",
       "      <td>CDU/CSU</td>\n",
       "      <td>SPD</td>\n",
       "      <td>None</td>\n",
       "    </tr>\n",
       "  </tbody>\n",
       "</table>\n",
       "</div>"
      ],
      "text/plain": [
       "            0      1      2\n",
       "0       Grüne    CDU   None\n",
       "1         CSU   None   None\n",
       "2         SPD  Linke  Grüne\n",
       "3         SPD  Linke   None\n",
       "4         SPD  Grüne   None\n",
       "5         SPD  Grüne   None\n",
       "6         CDU  Grüne   None\n",
       "7         SPD    CDU   None\n",
       "8         SPD    CDU   None\n",
       "9         CDU    FDP   None\n",
       "10        SPD    FDP  Grüne\n",
       "11        CDU    SPD   None\n",
       "12        CDU    SPD   None\n",
       "13        CDU    SPD  Grüne\n",
       "14        CDU    FDP  Grüne\n",
       "15  Die Linke    SPD  Grüne\n",
       "16    CDU/CSU    SPD   None"
      ]
     },
     "execution_count": 48,
     "metadata": {},
     "output_type": "execute_result"
    }
   ],
   "source": [
    "parties = df['Regierungs-partei(en)']\n",
    "\n",
    "#parties = parties.str.replace(' und', ',')\n",
    "#parties.str.split(', ', expand=True)\n",
    "\n",
    "parties.str.split(r', | und ', expand=True)"
   ]
  },
  {
   "cell_type": "code",
   "execution_count": null,
   "metadata": {
    "slideshow": {
     "slide_type": "subslide"
    }
   },
   "outputs": [],
   "source": [
    "## Exercise: Count parties in federal government\n",
    "\n",
    "parties.str.split(', ', expand=True)"
   ]
  },
  {
   "cell_type": "markdown",
   "metadata": {
    "slideshow": {
     "slide_type": "slide"
    }
   },
   "source": [
    "# RegEx text mining example"
   ]
  },
  {
   "cell_type": "markdown",
   "metadata": {
    "slideshow": {
     "slide_type": "subslide"
    }
   },
   "source": [
    "## WoS data\n",
    "\n",
    "Sample of Web of Science SSCI data on scientific publications."
   ]
  },
  {
   "cell_type": "code",
   "execution_count": 30,
   "metadata": {},
   "outputs": [
    {
     "ename": "FileNotFoundError",
     "evalue": "[Errno 2] No such file or directory: '../Daten/SocWOSSample.csv'",
     "output_type": "error",
     "traceback": [
      "\u001b[0;31m---------------------------------------------------------------------------\u001b[0m",
      "\u001b[0;31mFileNotFoundError\u001b[0m                         Traceback (most recent call last)",
      "Input \u001b[0;32mIn [30]\u001b[0m, in \u001b[0;36m<cell line: 1>\u001b[0;34m()\u001b[0m\n\u001b[0;32m----> 1\u001b[0m wos_df \u001b[38;5;241m=\u001b[39m \u001b[43mpd\u001b[49m\u001b[38;5;241;43m.\u001b[39;49m\u001b[43mread_csv\u001b[49m\u001b[43m(\u001b[49m\u001b[38;5;124;43m'\u001b[39;49m\u001b[38;5;124;43m../Daten/SocWOSSample.csv\u001b[39;49m\u001b[38;5;124;43m'\u001b[39;49m\u001b[43m,\u001b[49m\u001b[43m \u001b[49m\u001b[43mindex_col\u001b[49m\u001b[38;5;241;43m=\u001b[39;49m\u001b[38;5;241;43m0\u001b[39;49m\u001b[43m)\u001b[49m\n\u001b[1;32m      3\u001b[0m wos_df\n",
      "File \u001b[0;32m~/.local/lib/python3.10/site-packages/pandas/util/_decorators.py:311\u001b[0m, in \u001b[0;36mdeprecate_nonkeyword_arguments.<locals>.decorate.<locals>.wrapper\u001b[0;34m(*args, **kwargs)\u001b[0m\n\u001b[1;32m    305\u001b[0m \u001b[38;5;28;01mif\u001b[39;00m \u001b[38;5;28mlen\u001b[39m(args) \u001b[38;5;241m>\u001b[39m num_allow_args:\n\u001b[1;32m    306\u001b[0m     warnings\u001b[38;5;241m.\u001b[39mwarn(\n\u001b[1;32m    307\u001b[0m         msg\u001b[38;5;241m.\u001b[39mformat(arguments\u001b[38;5;241m=\u001b[39marguments),\n\u001b[1;32m    308\u001b[0m         \u001b[38;5;167;01mFutureWarning\u001b[39;00m,\n\u001b[1;32m    309\u001b[0m         stacklevel\u001b[38;5;241m=\u001b[39mstacklevel,\n\u001b[1;32m    310\u001b[0m     )\n\u001b[0;32m--> 311\u001b[0m \u001b[38;5;28;01mreturn\u001b[39;00m \u001b[43mfunc\u001b[49m\u001b[43m(\u001b[49m\u001b[38;5;241;43m*\u001b[39;49m\u001b[43margs\u001b[49m\u001b[43m,\u001b[49m\u001b[43m \u001b[49m\u001b[38;5;241;43m*\u001b[39;49m\u001b[38;5;241;43m*\u001b[39;49m\u001b[43mkwargs\u001b[49m\u001b[43m)\u001b[49m\n",
      "File \u001b[0;32m~/.local/lib/python3.10/site-packages/pandas/io/parsers/readers.py:586\u001b[0m, in \u001b[0;36mread_csv\u001b[0;34m(filepath_or_buffer, sep, delimiter, header, names, index_col, usecols, squeeze, prefix, mangle_dupe_cols, dtype, engine, converters, true_values, false_values, skipinitialspace, skiprows, skipfooter, nrows, na_values, keep_default_na, na_filter, verbose, skip_blank_lines, parse_dates, infer_datetime_format, keep_date_col, date_parser, dayfirst, cache_dates, iterator, chunksize, compression, thousands, decimal, lineterminator, quotechar, quoting, doublequote, escapechar, comment, encoding, encoding_errors, dialect, error_bad_lines, warn_bad_lines, on_bad_lines, delim_whitespace, low_memory, memory_map, float_precision, storage_options)\u001b[0m\n\u001b[1;32m    571\u001b[0m kwds_defaults \u001b[38;5;241m=\u001b[39m _refine_defaults_read(\n\u001b[1;32m    572\u001b[0m     dialect,\n\u001b[1;32m    573\u001b[0m     delimiter,\n\u001b[0;32m   (...)\u001b[0m\n\u001b[1;32m    582\u001b[0m     defaults\u001b[38;5;241m=\u001b[39m{\u001b[38;5;124m\"\u001b[39m\u001b[38;5;124mdelimiter\u001b[39m\u001b[38;5;124m\"\u001b[39m: \u001b[38;5;124m\"\u001b[39m\u001b[38;5;124m,\u001b[39m\u001b[38;5;124m\"\u001b[39m},\n\u001b[1;32m    583\u001b[0m )\n\u001b[1;32m    584\u001b[0m kwds\u001b[38;5;241m.\u001b[39mupdate(kwds_defaults)\n\u001b[0;32m--> 586\u001b[0m \u001b[38;5;28;01mreturn\u001b[39;00m \u001b[43m_read\u001b[49m\u001b[43m(\u001b[49m\u001b[43mfilepath_or_buffer\u001b[49m\u001b[43m,\u001b[49m\u001b[43m \u001b[49m\u001b[43mkwds\u001b[49m\u001b[43m)\u001b[49m\n",
      "File \u001b[0;32m~/.local/lib/python3.10/site-packages/pandas/io/parsers/readers.py:482\u001b[0m, in \u001b[0;36m_read\u001b[0;34m(filepath_or_buffer, kwds)\u001b[0m\n\u001b[1;32m    479\u001b[0m _validate_names(kwds\u001b[38;5;241m.\u001b[39mget(\u001b[38;5;124m\"\u001b[39m\u001b[38;5;124mnames\u001b[39m\u001b[38;5;124m\"\u001b[39m, \u001b[38;5;28;01mNone\u001b[39;00m))\n\u001b[1;32m    481\u001b[0m \u001b[38;5;66;03m# Create the parser.\u001b[39;00m\n\u001b[0;32m--> 482\u001b[0m parser \u001b[38;5;241m=\u001b[39m \u001b[43mTextFileReader\u001b[49m\u001b[43m(\u001b[49m\u001b[43mfilepath_or_buffer\u001b[49m\u001b[43m,\u001b[49m\u001b[43m \u001b[49m\u001b[38;5;241;43m*\u001b[39;49m\u001b[38;5;241;43m*\u001b[39;49m\u001b[43mkwds\u001b[49m\u001b[43m)\u001b[49m\n\u001b[1;32m    484\u001b[0m \u001b[38;5;28;01mif\u001b[39;00m chunksize \u001b[38;5;129;01mor\u001b[39;00m iterator:\n\u001b[1;32m    485\u001b[0m     \u001b[38;5;28;01mreturn\u001b[39;00m parser\n",
      "File \u001b[0;32m~/.local/lib/python3.10/site-packages/pandas/io/parsers/readers.py:811\u001b[0m, in \u001b[0;36mTextFileReader.__init__\u001b[0;34m(self, f, engine, **kwds)\u001b[0m\n\u001b[1;32m    808\u001b[0m \u001b[38;5;28;01mif\u001b[39;00m \u001b[38;5;124m\"\u001b[39m\u001b[38;5;124mhas_index_names\u001b[39m\u001b[38;5;124m\"\u001b[39m \u001b[38;5;129;01min\u001b[39;00m kwds:\n\u001b[1;32m    809\u001b[0m     \u001b[38;5;28mself\u001b[39m\u001b[38;5;241m.\u001b[39moptions[\u001b[38;5;124m\"\u001b[39m\u001b[38;5;124mhas_index_names\u001b[39m\u001b[38;5;124m\"\u001b[39m] \u001b[38;5;241m=\u001b[39m kwds[\u001b[38;5;124m\"\u001b[39m\u001b[38;5;124mhas_index_names\u001b[39m\u001b[38;5;124m\"\u001b[39m]\n\u001b[0;32m--> 811\u001b[0m \u001b[38;5;28mself\u001b[39m\u001b[38;5;241m.\u001b[39m_engine \u001b[38;5;241m=\u001b[39m \u001b[38;5;28;43mself\u001b[39;49m\u001b[38;5;241;43m.\u001b[39;49m\u001b[43m_make_engine\u001b[49m\u001b[43m(\u001b[49m\u001b[38;5;28;43mself\u001b[39;49m\u001b[38;5;241;43m.\u001b[39;49m\u001b[43mengine\u001b[49m\u001b[43m)\u001b[49m\n",
      "File \u001b[0;32m~/.local/lib/python3.10/site-packages/pandas/io/parsers/readers.py:1040\u001b[0m, in \u001b[0;36mTextFileReader._make_engine\u001b[0;34m(self, engine)\u001b[0m\n\u001b[1;32m   1036\u001b[0m     \u001b[38;5;28;01mraise\u001b[39;00m \u001b[38;5;167;01mValueError\u001b[39;00m(\n\u001b[1;32m   1037\u001b[0m         \u001b[38;5;124mf\u001b[39m\u001b[38;5;124m\"\u001b[39m\u001b[38;5;124mUnknown engine: \u001b[39m\u001b[38;5;132;01m{\u001b[39;00mengine\u001b[38;5;132;01m}\u001b[39;00m\u001b[38;5;124m (valid options are \u001b[39m\u001b[38;5;132;01m{\u001b[39;00mmapping\u001b[38;5;241m.\u001b[39mkeys()\u001b[38;5;132;01m}\u001b[39;00m\u001b[38;5;124m)\u001b[39m\u001b[38;5;124m\"\u001b[39m\n\u001b[1;32m   1038\u001b[0m     )\n\u001b[1;32m   1039\u001b[0m \u001b[38;5;66;03m# error: Too many arguments for \"ParserBase\"\u001b[39;00m\n\u001b[0;32m-> 1040\u001b[0m \u001b[38;5;28;01mreturn\u001b[39;00m \u001b[43mmapping\u001b[49m\u001b[43m[\u001b[49m\u001b[43mengine\u001b[49m\u001b[43m]\u001b[49m\u001b[43m(\u001b[49m\u001b[38;5;28;43mself\u001b[39;49m\u001b[38;5;241;43m.\u001b[39;49m\u001b[43mf\u001b[49m\u001b[43m,\u001b[49m\u001b[43m \u001b[49m\u001b[38;5;241;43m*\u001b[39;49m\u001b[38;5;241;43m*\u001b[39;49m\u001b[38;5;28;43mself\u001b[39;49m\u001b[38;5;241;43m.\u001b[39;49m\u001b[43moptions\u001b[49m\u001b[43m)\u001b[49m\n",
      "File \u001b[0;32m~/.local/lib/python3.10/site-packages/pandas/io/parsers/c_parser_wrapper.py:51\u001b[0m, in \u001b[0;36mCParserWrapper.__init__\u001b[0;34m(self, src, **kwds)\u001b[0m\n\u001b[1;32m     48\u001b[0m kwds[\u001b[38;5;124m\"\u001b[39m\u001b[38;5;124musecols\u001b[39m\u001b[38;5;124m\"\u001b[39m] \u001b[38;5;241m=\u001b[39m \u001b[38;5;28mself\u001b[39m\u001b[38;5;241m.\u001b[39musecols\n\u001b[1;32m     50\u001b[0m \u001b[38;5;66;03m# open handles\u001b[39;00m\n\u001b[0;32m---> 51\u001b[0m \u001b[38;5;28;43mself\u001b[39;49m\u001b[38;5;241;43m.\u001b[39;49m\u001b[43m_open_handles\u001b[49m\u001b[43m(\u001b[49m\u001b[43msrc\u001b[49m\u001b[43m,\u001b[49m\u001b[43m \u001b[49m\u001b[43mkwds\u001b[49m\u001b[43m)\u001b[49m\n\u001b[1;32m     52\u001b[0m \u001b[38;5;28;01massert\u001b[39;00m \u001b[38;5;28mself\u001b[39m\u001b[38;5;241m.\u001b[39mhandles \u001b[38;5;129;01mis\u001b[39;00m \u001b[38;5;129;01mnot\u001b[39;00m \u001b[38;5;28;01mNone\u001b[39;00m\n\u001b[1;32m     54\u001b[0m \u001b[38;5;66;03m# Have to pass int, would break tests using TextReader directly otherwise :(\u001b[39;00m\n",
      "File \u001b[0;32m~/.local/lib/python3.10/site-packages/pandas/io/parsers/base_parser.py:222\u001b[0m, in \u001b[0;36mParserBase._open_handles\u001b[0;34m(self, src, kwds)\u001b[0m\n\u001b[1;32m    218\u001b[0m \u001b[38;5;28;01mdef\u001b[39;00m \u001b[38;5;21m_open_handles\u001b[39m(\u001b[38;5;28mself\u001b[39m, src: FilePathOrBuffer, kwds: \u001b[38;5;28mdict\u001b[39m[\u001b[38;5;28mstr\u001b[39m, Any]) \u001b[38;5;241m-\u001b[39m\u001b[38;5;241m>\u001b[39m \u001b[38;5;28;01mNone\u001b[39;00m:\n\u001b[1;32m    219\u001b[0m     \u001b[38;5;124;03m\"\"\"\u001b[39;00m\n\u001b[1;32m    220\u001b[0m \u001b[38;5;124;03m    Let the readers open IOHandles after they are done with their potential raises.\u001b[39;00m\n\u001b[1;32m    221\u001b[0m \u001b[38;5;124;03m    \"\"\"\u001b[39;00m\n\u001b[0;32m--> 222\u001b[0m     \u001b[38;5;28mself\u001b[39m\u001b[38;5;241m.\u001b[39mhandles \u001b[38;5;241m=\u001b[39m \u001b[43mget_handle\u001b[49m\u001b[43m(\u001b[49m\n\u001b[1;32m    223\u001b[0m \u001b[43m        \u001b[49m\u001b[43msrc\u001b[49m\u001b[43m,\u001b[49m\n\u001b[1;32m    224\u001b[0m \u001b[43m        \u001b[49m\u001b[38;5;124;43m\"\u001b[39;49m\u001b[38;5;124;43mr\u001b[39;49m\u001b[38;5;124;43m\"\u001b[39;49m\u001b[43m,\u001b[49m\n\u001b[1;32m    225\u001b[0m \u001b[43m        \u001b[49m\u001b[43mencoding\u001b[49m\u001b[38;5;241;43m=\u001b[39;49m\u001b[43mkwds\u001b[49m\u001b[38;5;241;43m.\u001b[39;49m\u001b[43mget\u001b[49m\u001b[43m(\u001b[49m\u001b[38;5;124;43m\"\u001b[39;49m\u001b[38;5;124;43mencoding\u001b[39;49m\u001b[38;5;124;43m\"\u001b[39;49m\u001b[43m,\u001b[49m\u001b[43m \u001b[49m\u001b[38;5;28;43;01mNone\u001b[39;49;00m\u001b[43m)\u001b[49m\u001b[43m,\u001b[49m\n\u001b[1;32m    226\u001b[0m \u001b[43m        \u001b[49m\u001b[43mcompression\u001b[49m\u001b[38;5;241;43m=\u001b[39;49m\u001b[43mkwds\u001b[49m\u001b[38;5;241;43m.\u001b[39;49m\u001b[43mget\u001b[49m\u001b[43m(\u001b[49m\u001b[38;5;124;43m\"\u001b[39;49m\u001b[38;5;124;43mcompression\u001b[39;49m\u001b[38;5;124;43m\"\u001b[39;49m\u001b[43m,\u001b[49m\u001b[43m \u001b[49m\u001b[38;5;28;43;01mNone\u001b[39;49;00m\u001b[43m)\u001b[49m\u001b[43m,\u001b[49m\n\u001b[1;32m    227\u001b[0m \u001b[43m        \u001b[49m\u001b[43mmemory_map\u001b[49m\u001b[38;5;241;43m=\u001b[39;49m\u001b[43mkwds\u001b[49m\u001b[38;5;241;43m.\u001b[39;49m\u001b[43mget\u001b[49m\u001b[43m(\u001b[49m\u001b[38;5;124;43m\"\u001b[39;49m\u001b[38;5;124;43mmemory_map\u001b[39;49m\u001b[38;5;124;43m\"\u001b[39;49m\u001b[43m,\u001b[49m\u001b[43m \u001b[49m\u001b[38;5;28;43;01mFalse\u001b[39;49;00m\u001b[43m)\u001b[49m\u001b[43m,\u001b[49m\n\u001b[1;32m    228\u001b[0m \u001b[43m        \u001b[49m\u001b[43mstorage_options\u001b[49m\u001b[38;5;241;43m=\u001b[39;49m\u001b[43mkwds\u001b[49m\u001b[38;5;241;43m.\u001b[39;49m\u001b[43mget\u001b[49m\u001b[43m(\u001b[49m\u001b[38;5;124;43m\"\u001b[39;49m\u001b[38;5;124;43mstorage_options\u001b[39;49m\u001b[38;5;124;43m\"\u001b[39;49m\u001b[43m,\u001b[49m\u001b[43m \u001b[49m\u001b[38;5;28;43;01mNone\u001b[39;49;00m\u001b[43m)\u001b[49m\u001b[43m,\u001b[49m\n\u001b[1;32m    229\u001b[0m \u001b[43m        \u001b[49m\u001b[43merrors\u001b[49m\u001b[38;5;241;43m=\u001b[39;49m\u001b[43mkwds\u001b[49m\u001b[38;5;241;43m.\u001b[39;49m\u001b[43mget\u001b[49m\u001b[43m(\u001b[49m\u001b[38;5;124;43m\"\u001b[39;49m\u001b[38;5;124;43mencoding_errors\u001b[39;49m\u001b[38;5;124;43m\"\u001b[39;49m\u001b[43m,\u001b[49m\u001b[43m \u001b[49m\u001b[38;5;124;43m\"\u001b[39;49m\u001b[38;5;124;43mstrict\u001b[39;49m\u001b[38;5;124;43m\"\u001b[39;49m\u001b[43m)\u001b[49m\u001b[43m,\u001b[49m\n\u001b[1;32m    230\u001b[0m \u001b[43m    \u001b[49m\u001b[43m)\u001b[49m\n",
      "File \u001b[0;32m~/.local/lib/python3.10/site-packages/pandas/io/common.py:702\u001b[0m, in \u001b[0;36mget_handle\u001b[0;34m(path_or_buf, mode, encoding, compression, memory_map, is_text, errors, storage_options)\u001b[0m\n\u001b[1;32m    697\u001b[0m \u001b[38;5;28;01melif\u001b[39;00m \u001b[38;5;28misinstance\u001b[39m(handle, \u001b[38;5;28mstr\u001b[39m):\n\u001b[1;32m    698\u001b[0m     \u001b[38;5;66;03m# Check whether the filename is to be opened in binary mode.\u001b[39;00m\n\u001b[1;32m    699\u001b[0m     \u001b[38;5;66;03m# Binary mode does not support 'encoding' and 'newline'.\u001b[39;00m\n\u001b[1;32m    700\u001b[0m     \u001b[38;5;28;01mif\u001b[39;00m ioargs\u001b[38;5;241m.\u001b[39mencoding \u001b[38;5;129;01mand\u001b[39;00m \u001b[38;5;124m\"\u001b[39m\u001b[38;5;124mb\u001b[39m\u001b[38;5;124m\"\u001b[39m \u001b[38;5;129;01mnot\u001b[39;00m \u001b[38;5;129;01min\u001b[39;00m ioargs\u001b[38;5;241m.\u001b[39mmode:\n\u001b[1;32m    701\u001b[0m         \u001b[38;5;66;03m# Encoding\u001b[39;00m\n\u001b[0;32m--> 702\u001b[0m         handle \u001b[38;5;241m=\u001b[39m \u001b[38;5;28;43mopen\u001b[39;49m\u001b[43m(\u001b[49m\n\u001b[1;32m    703\u001b[0m \u001b[43m            \u001b[49m\u001b[43mhandle\u001b[49m\u001b[43m,\u001b[49m\n\u001b[1;32m    704\u001b[0m \u001b[43m            \u001b[49m\u001b[43mioargs\u001b[49m\u001b[38;5;241;43m.\u001b[39;49m\u001b[43mmode\u001b[49m\u001b[43m,\u001b[49m\n\u001b[1;32m    705\u001b[0m \u001b[43m            \u001b[49m\u001b[43mencoding\u001b[49m\u001b[38;5;241;43m=\u001b[39;49m\u001b[43mioargs\u001b[49m\u001b[38;5;241;43m.\u001b[39;49m\u001b[43mencoding\u001b[49m\u001b[43m,\u001b[49m\n\u001b[1;32m    706\u001b[0m \u001b[43m            \u001b[49m\u001b[43merrors\u001b[49m\u001b[38;5;241;43m=\u001b[39;49m\u001b[43merrors\u001b[49m\u001b[43m,\u001b[49m\n\u001b[1;32m    707\u001b[0m \u001b[43m            \u001b[49m\u001b[43mnewline\u001b[49m\u001b[38;5;241;43m=\u001b[39;49m\u001b[38;5;124;43m\"\u001b[39;49m\u001b[38;5;124;43m\"\u001b[39;49m\u001b[43m,\u001b[49m\n\u001b[1;32m    708\u001b[0m \u001b[43m        \u001b[49m\u001b[43m)\u001b[49m\n\u001b[1;32m    709\u001b[0m     \u001b[38;5;28;01melse\u001b[39;00m:\n\u001b[1;32m    710\u001b[0m         \u001b[38;5;66;03m# Binary mode\u001b[39;00m\n\u001b[1;32m    711\u001b[0m         handle \u001b[38;5;241m=\u001b[39m \u001b[38;5;28mopen\u001b[39m(handle, ioargs\u001b[38;5;241m.\u001b[39mmode)\n",
      "\u001b[0;31mFileNotFoundError\u001b[0m: [Errno 2] No such file or directory: '../Daten/SocWOSSample.csv'"
     ]
    }
   ],
   "source": [
    "wos_df = pd.read_csv('../Daten/SocWOSSample.csv', index_col=0)\n",
    "\n",
    "wos_df"
   ]
  },
  {
   "cell_type": "markdown",
   "metadata": {
    "slideshow": {
     "slide_type": "subslide"
    }
   },
   "source": [
    "## Tex mining\n",
    "\n",
    "Extracting information from plain text data. In this exercise we will try to extract data from the cited references field (`CR`) an create a data set of citations containing:\n",
    "\n",
    "* Author,\n",
    "* Year and\n",
    "* Publication where applicable."
   ]
  },
  {
   "cell_type": "code",
   "execution_count": 142,
   "metadata": {
    "scrolled": true,
    "slideshow": {
     "slide_type": "subslide"
    }
   },
   "outputs": [
    {
     "data": {
      "text/html": [
       "<div>\n",
       "<style scoped>\n",
       "    .dataframe tbody tr th:only-of-type {\n",
       "        vertical-align: middle;\n",
       "    }\n",
       "\n",
       "    .dataframe tbody tr th {\n",
       "        vertical-align: top;\n",
       "    }\n",
       "\n",
       "    .dataframe thead th {\n",
       "        text-align: right;\n",
       "    }\n",
       "</style>\n",
       "<table border=\"1\" class=\"dataframe\">\n",
       "  <thead>\n",
       "    <tr style=\"text-align: right;\">\n",
       "      <th></th>\n",
       "      <th></th>\n",
       "      <th>DOI</th>\n",
       "    </tr>\n",
       "    <tr>\n",
       "      <th></th>\n",
       "      <th>match</th>\n",
       "      <th></th>\n",
       "    </tr>\n",
       "  </thead>\n",
       "  <tbody>\n",
       "    <tr>\n",
       "      <th rowspan=\"10\" valign=\"top\">2604</th>\n",
       "      <th>0</th>\n",
       "      <td>10.1086/230701</td>\n",
       "    </tr>\n",
       "    <tr>\n",
       "      <th>1</th>\n",
       "      <td>10.1177/095001709591002</td>\n",
       "    </tr>\n",
       "    <tr>\n",
       "      <th>2</th>\n",
       "      <td>10.1086/230371</td>\n",
       "    </tr>\n",
       "    <tr>\n",
       "      <th>3</th>\n",
       "      <td>10.1086/228904</td>\n",
       "    </tr>\n",
       "    <tr>\n",
       "      <th>4</th>\n",
       "      <td>10.2307/202051</td>\n",
       "    </tr>\n",
       "    <tr>\n",
       "      <th>5</th>\n",
       "      <td>10.2307/2577190</td>\n",
       "    </tr>\n",
       "    <tr>\n",
       "      <th>6</th>\n",
       "      <td>10.2307/2287448</td>\n",
       "    </tr>\n",
       "    <tr>\n",
       "      <th>7</th>\n",
       "      <td>10.1037/h0034701</td>\n",
       "    </tr>\n",
       "    <tr>\n",
       "      <th>8</th>\n",
       "      <td>10.1086/225469</td>\n",
       "    </tr>\n",
       "    <tr>\n",
       "      <th>9</th>\n",
       "      <td>10.2307/2093761</td>\n",
       "    </tr>\n",
       "    <tr>\n",
       "      <th rowspan=\"8\" valign=\"top\">1560</th>\n",
       "      <th>0</th>\n",
       "      <td>10.1111/j.1468-4446.2005.00051.x</td>\n",
       "    </tr>\n",
       "    <tr>\n",
       "      <th>1</th>\n",
       "      <td>10.1111/j.1468-4446.2005.00047.x</td>\n",
       "    </tr>\n",
       "    <tr>\n",
       "      <th>2</th>\n",
       "      <td>10.1086/375201</td>\n",
       "    </tr>\n",
       "    <tr>\n",
       "      <th>3</th>\n",
       "      <td>10.1086/210465</td>\n",
       "    </tr>\n",
       "    <tr>\n",
       "      <th>4</th>\n",
       "      <td>10.1086/210463</td>\n",
       "    </tr>\n",
       "    <tr>\n",
       "      <th>5</th>\n",
       "      <td>10.1086/210464</td>\n",
       "    </tr>\n",
       "    <tr>\n",
       "      <th>6</th>\n",
       "      <td>10.1177/0038038598032001003</td>\n",
       "    </tr>\n",
       "    <tr>\n",
       "      <th>7</th>\n",
       "      <td>10.2307/591365</td>\n",
       "    </tr>\n",
       "    <tr>\n",
       "      <th rowspan=\"9\" valign=\"top\">1661</th>\n",
       "      <th>0</th>\n",
       "      <td>10.1002/icd.280</td>\n",
       "    </tr>\n",
       "    <tr>\n",
       "      <th>1</th>\n",
       "      <td>10.1080/09620210100200070</td>\n",
       "    </tr>\n",
       "    <tr>\n",
       "      <th>2</th>\n",
       "      <td>10.1080/713668299</td>\n",
       "    </tr>\n",
       "    <tr>\n",
       "      <th>3</th>\n",
       "      <td>10.1080/13613320050074023</td>\n",
       "    </tr>\n",
       "    <tr>\n",
       "      <th>4</th>\n",
       "      <td>10.1080/02673039982623</td>\n",
       "    </tr>\n",
       "    <tr>\n",
       "      <th>5</th>\n",
       "      <td>10.1080/0142569980190204</td>\n",
       "    </tr>\n",
       "    <tr>\n",
       "      <th>6</th>\n",
       "      <td>10.1111/0022-4537.00044</td>\n",
       "    </tr>\n",
       "    <tr>\n",
       "      <th>7</th>\n",
       "      <td>10.1080/1360311970010104</td>\n",
       "    </tr>\n",
       "    <tr>\n",
       "      <th>8</th>\n",
       "      <td>10.1080/0142569960170303</td>\n",
       "    </tr>\n",
       "    <tr>\n",
       "      <th rowspan=\"3\" valign=\"top\">1143</th>\n",
       "      <th>0</th>\n",
       "      <td>10.1111/j.1744-6570.2008.00105.x</td>\n",
       "    </tr>\n",
       "    <tr>\n",
       "      <th>1</th>\n",
       "      <td>10.1093/icc/dtm009</td>\n",
       "    </tr>\n",
       "    <tr>\n",
       "      <th>2</th>\n",
       "      <td>10.1177/0018726707079198</td>\n",
       "    </tr>\n",
       "    <tr>\n",
       "      <th>...</th>\n",
       "      <th>...</th>\n",
       "      <td>...</td>\n",
       "    </tr>\n",
       "    <tr>\n",
       "      <th rowspan=\"9\" valign=\"top\">2008</th>\n",
       "      <th>1</th>\n",
       "      <td>10.1177/02632760122051733</td>\n",
       "    </tr>\n",
       "    <tr>\n",
       "      <th>2</th>\n",
       "      <td>10.1177/S0038038599000243</td>\n",
       "    </tr>\n",
       "    <tr>\n",
       "      <th>3</th>\n",
       "      <td>10.1080/000713199358824</td>\n",
       "    </tr>\n",
       "    <tr>\n",
       "      <th>4</th>\n",
       "      <td>10.2307/591387</td>\n",
       "    </tr>\n",
       "    <tr>\n",
       "      <th>5</th>\n",
       "      <td>10.2307/591120</td>\n",
       "    </tr>\n",
       "    <tr>\n",
       "      <th>6</th>\n",
       "      <td>10.1177/026327695012003004</td>\n",
       "    </tr>\n",
       "    <tr>\n",
       "      <th>7</th>\n",
       "      <td>10.1080/03071029308567871</td>\n",
       "    </tr>\n",
       "    <tr>\n",
       "      <th>8</th>\n",
       "      <td>10.1177/026327691008002001</td>\n",
       "    </tr>\n",
       "    <tr>\n",
       "      <th>9</th>\n",
       "      <td>10.1177/026327687004002004</td>\n",
       "    </tr>\n",
       "    <tr>\n",
       "      <th rowspan=\"4\" valign=\"top\">5073</th>\n",
       "      <th>0</th>\n",
       "      <td>10.3406/pole.1998.1014</td>\n",
       "    </tr>\n",
       "    <tr>\n",
       "      <th>1</th>\n",
       "      <td>10.3406/pole.1998.1011</td>\n",
       "    </tr>\n",
       "    <tr>\n",
       "      <th>2</th>\n",
       "      <td>10.3406/pole.1998.1016</td>\n",
       "    </tr>\n",
       "    <tr>\n",
       "      <th>3</th>\n",
       "      <td>10.1111/j.1467-9523.1996.tb00025.x</td>\n",
       "    </tr>\n",
       "    <tr>\n",
       "      <th rowspan=\"4\" valign=\"top\">4553</th>\n",
       "      <th>0</th>\n",
       "      <td>10.1093/mind/102.405.1</td>\n",
       "    </tr>\n",
       "    <tr>\n",
       "      <th>1</th>\n",
       "      <td>10.1177/0038038590024001009</td>\n",
       "    </tr>\n",
       "    <tr>\n",
       "      <th>2</th>\n",
       "      <td>10.1007/BF00142843</td>\n",
       "    </tr>\n",
       "    <tr>\n",
       "      <th>3</th>\n",
       "      <td>10.2307/201935</td>\n",
       "    </tr>\n",
       "    <tr>\n",
       "      <th>1717</th>\n",
       "      <th>0</th>\n",
       "      <td>10.3406/assr.1969.2562</td>\n",
       "    </tr>\n",
       "    <tr>\n",
       "      <th rowspan=\"9\" valign=\"top\">2724</th>\n",
       "      <th>0</th>\n",
       "      <td>10.1080/095023898335447</td>\n",
       "    </tr>\n",
       "    <tr>\n",
       "      <th>1</th>\n",
       "      <td>10.1177/053901892031003002</td>\n",
       "    </tr>\n",
       "    <tr>\n",
       "      <th>2</th>\n",
       "      <td>10.1007/BF00993464</td>\n",
       "    </tr>\n",
       "    <tr>\n",
       "      <th>3</th>\n",
       "      <td>10.2307/590576</td>\n",
       "    </tr>\n",
       "    <tr>\n",
       "      <th>4</th>\n",
       "      <td>10.1017/S0026749X00013676</td>\n",
       "    </tr>\n",
       "    <tr>\n",
       "      <th>5</th>\n",
       "      <td>10.1177/030631282012002004</td>\n",
       "    </tr>\n",
       "    <tr>\n",
       "      <th>6</th>\n",
       "      <td>10.1017/S0026749X00005813</td>\n",
       "    </tr>\n",
       "    <tr>\n",
       "      <th>7</th>\n",
       "      <td>10.1126/science.156.3775.611</td>\n",
       "    </tr>\n",
       "    <tr>\n",
       "      <th>8</th>\n",
       "      <td>10.1086/218962</td>\n",
       "    </tr>\n",
       "    <tr>\n",
       "      <th rowspan=\"3\" valign=\"top\">4658</th>\n",
       "      <th>0</th>\n",
       "      <td>10.1177/001139292040001010</td>\n",
       "    </tr>\n",
       "    <tr>\n",
       "      <th>1</th>\n",
       "      <td>10.2307/3778206</td>\n",
       "    </tr>\n",
       "    <tr>\n",
       "      <th>2</th>\n",
       "      <td>10.1086/228311</td>\n",
       "    </tr>\n",
       "  </tbody>\n",
       "</table>\n",
       "<p>1662 rows × 1 columns</p>\n",
       "</div>"
      ],
      "text/plain": [
       "                                           DOI\n",
       "     match                                    \n",
       "2604 0                          10.1086/230701\n",
       "     1                 10.1177/095001709591002\n",
       "     2                          10.1086/230371\n",
       "     3                          10.1086/228904\n",
       "     4                          10.2307/202051\n",
       "     5                         10.2307/2577190\n",
       "     6                         10.2307/2287448\n",
       "     7                        10.1037/h0034701\n",
       "     8                          10.1086/225469\n",
       "     9                         10.2307/2093761\n",
       "1560 0        10.1111/j.1468-4446.2005.00051.x\n",
       "     1        10.1111/j.1468-4446.2005.00047.x\n",
       "     2                          10.1086/375201\n",
       "     3                          10.1086/210465\n",
       "     4                          10.1086/210463\n",
       "     5                          10.1086/210464\n",
       "     6             10.1177/0038038598032001003\n",
       "     7                          10.2307/591365\n",
       "1661 0                         10.1002/icd.280\n",
       "     1               10.1080/09620210100200070\n",
       "     2                       10.1080/713668299\n",
       "     3               10.1080/13613320050074023\n",
       "     4                  10.1080/02673039982623\n",
       "     5                10.1080/0142569980190204\n",
       "     6                 10.1111/0022-4537.00044\n",
       "     7                10.1080/1360311970010104\n",
       "     8                10.1080/0142569960170303\n",
       "1143 0        10.1111/j.1744-6570.2008.00105.x\n",
       "     1                      10.1093/icc/dtm009\n",
       "     2                10.1177/0018726707079198\n",
       "...                                        ...\n",
       "2008 1               10.1177/02632760122051733\n",
       "     2               10.1177/S0038038599000243\n",
       "     3                 10.1080/000713199358824\n",
       "     4                          10.2307/591387\n",
       "     5                          10.2307/591120\n",
       "     6              10.1177/026327695012003004\n",
       "     7               10.1080/03071029308567871\n",
       "     8              10.1177/026327691008002001\n",
       "     9              10.1177/026327687004002004\n",
       "5073 0                  10.3406/pole.1998.1014\n",
       "     1                  10.3406/pole.1998.1011\n",
       "     2                  10.3406/pole.1998.1016\n",
       "     3      10.1111/j.1467-9523.1996.tb00025.x\n",
       "4553 0                  10.1093/mind/102.405.1\n",
       "     1             10.1177/0038038590024001009\n",
       "     2                      10.1007/BF00142843\n",
       "     3                          10.2307/201935\n",
       "1717 0                  10.3406/assr.1969.2562\n",
       "2724 0                 10.1080/095023898335447\n",
       "     1              10.1177/053901892031003002\n",
       "     2                      10.1007/BF00993464\n",
       "     3                          10.2307/590576\n",
       "     4               10.1017/S0026749X00013676\n",
       "     5              10.1177/030631282012002004\n",
       "     6               10.1017/S0026749X00005813\n",
       "     7            10.1126/science.156.3775.611\n",
       "     8                          10.1086/218962\n",
       "4658 0              10.1177/001139292040001010\n",
       "     1                         10.2307/3778206\n",
       "     2                          10.1086/228311\n",
       "\n",
       "[1662 rows x 1 columns]"
      ]
     },
     "execution_count": 142,
     "metadata": {},
     "output_type": "execute_result"
    }
   ],
   "source": [
    "## Exercise:\n",
    "references = wos_df.CR.str.split('; ?', expand=True).stack()\n",
    "\n",
    "#references\n",
    "\n",
    "## Tests\n",
    "#splits = wos_df.CR.str.split('; ?')\n",
    "#splits[splits.apply(len) < 15].values\n",
    "\n",
    "#references.str.extract(r'(?P<Author>.+?), ?(?P<Year>[0-9]{4})?')\n",
    "\n",
    "#wos_df.CR.str.extractall(r'[;^] ?(?P<Author>.+?), ?(?P<Year>[0-9]{4})?')\n",
    "\n",
    "wos_df.CR.str.extractall(r'DOI ?(?P<DOI>.+?)[;$]')"
   ]
  },
  {
   "cell_type": "markdown",
   "metadata": {
    "slideshow": {
     "slide_type": "subslide"
    }
   },
   "source": [
    "## Fortgeschrittenes Beispiel"
   ]
  },
  {
   "cell_type": "code",
   "execution_count": null,
   "metadata": {
    "slideshow": {
     "slide_type": "subslide"
    }
   },
   "outputs": [],
   "source": [
    "with open('../Daten/Fox_News_Network_MSNBC KW1.txt', 'r') as f:\n",
    "    rawtext = f.read()\n",
    "\n",
    "print(rawtext[:1000])"
   ]
  },
  {
   "cell_type": "code",
   "execution_count": null,
   "metadata": {
    "slideshow": {
     "slide_type": "subslide"
    }
   },
   "outputs": [],
   "source": [
    "## Als pd.Series\n",
    "\n",
    "text = pd.Series(rawtext)\n",
    "\n",
    "text"
   ]
  },
  {
   "cell_type": "code",
   "execution_count": null,
   "metadata": {
    "slideshow": {
     "slide_type": "subslide"
    }
   },
   "outputs": [],
   "source": [
    "import re\n",
    "## Extraktion aller relevanter Dokumente\n",
    "\n",
    "pattern = r'(Dokument [0-9]+ von [0-9]+\\n.+?)(?=Dokument [0-9]+ von [0-9]+\\n|$)'\n",
    "\n",
    "df = text.str.extractall(pattern, re.DOTALL)\n",
    "\n",
    "## Vorsicht: str.extractall gibt immer einen MultiIndex DataFrame zurück!\n",
    "\n",
    "df"
   ]
  },
  {
   "cell_type": "code",
   "execution_count": null,
   "metadata": {
    "slideshow": {
     "slide_type": "subslide"
    }
   },
   "outputs": [],
   "source": [
    "pattern = r'''Dokument (?P<DlNumbering>.+?)\n",
    "              \\n{3}(?P<Network>.+?)\n",
    "              \\n{2}(?P<AirDate>.+?)\n",
    "              \\n{2}SHOW:(?P<Show>.+?)(?P<AirTime>\\ [0-9]+:[0-9]+\\ \\w{2}\\ \\w{3})\n",
    "              .+?LENGTH:.+?\n",
    "              \\n{2,}\n",
    "              (?P<Highlight>HIGHLIGHT: .+?\\n{2})?\n",
    "              (?:\\[.+?\\] )?(?P<Transcript>.+?)\\n{2}?'''\n",
    "\n",
    "df[0].str.extract(pattern, \n",
    "                  re.X | re.S,\n",
    "                  expand=True)"
   ]
  }
 ],
 "metadata": {
  "celltoolbar": "Slideshow",
  "kernelspec": {
   "display_name": "Python 3 (ipykernel)",
   "language": "python",
   "name": "python3"
  },
  "language_info": {
   "codemirror_mode": {
    "name": "ipython",
    "version": 3
   },
   "file_extension": ".py",
   "mimetype": "text/x-python",
   "name": "python",
   "nbconvert_exporter": "python",
   "pygments_lexer": "ipython3",
   "version": "3.10.2"
  }
 },
 "nbformat": 4,
 "nbformat_minor": 1
}
